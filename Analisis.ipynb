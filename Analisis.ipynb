{
 "cells": [
  {
   "cell_type": "markdown",
   "metadata": {
    "id": "3rYiDeEH0q0f"
   },
   "source": [
    "# ¿Cuál es la mejor tarifa?\n",
    "\n",
    "Trabajas como analista para el operador de telecomunicaciones Megaline. La empresa ofrece a sus clientes dos tarifas de prepago, Surf y Ultimate. El departamento comercial quiere saber cuál de las tarifas genera más ingresos para poder ajustar el presupuesto de publicidad.\n",
    "\n",
    "Vas a realizar un análisis preliminar de las tarifas basado en una selección de clientes relativamente pequeña. Tendrás los datos de 500 clientes de Megaline: quiénes son los clientes, de dónde son, qué tarifa usan, así como la cantidad de llamadas que hicieron y los mensajes de texto que enviaron en 2018. Tu trabajo es analizar el comportamiento de los clientes y determinar qué tarifa de prepago genera más ingresos."
   ]
  },
  {
   "cell_type": "markdown",
   "metadata": {
    "id": "VNddPNRQ0q0w"
   },
   "source": [
    "[Te proporcionamos algunos comentarios para orientarte mientras completas este proyecto. Pero debes asegurarte de eliminar todos los comentarios entre corchetes antes de entregar tu proyecto.]\n",
    "\n",
    "[Antes de sumergirte en el análisis de datos, explica por tu propia cuenta el propósito del proyecto y las acciones que planeas realizar.]\n",
    "\n",
    "[Ten en cuenta que estudiar, modificar y analizar datos es un proceso iterativo. Es normal volver a los pasos anteriores y corregirlos/ampliarlos para permitir nuevos pasos.]"
   ]
  },
  {
   "cell_type": "markdown",
   "metadata": {
    "id": "MQi4IPy70q0y"
   },
   "source": [
    "## Inicialización"
   ]
  },
  {
   "cell_type": "code",
   "execution_count": 1,
   "metadata": {
    "id": "MtYIuBxu0q0z",
    "trusted": false
   },
   "outputs": [],
   "source": [
    "from scipy import stats as st\n",
    "from scipy import stats\n",
    "from math import factorial\n",
    "import matplotlib.pyplot as plt\n",
    "import pandas as pd\n",
    "import numpy as np\n",
    "import math as mt\n",
    "# Cargar todas las librerías\n"
   ]
  },
  {
   "cell_type": "markdown",
   "metadata": {
    "id": "4ysWWC5i0q00"
   },
   "source": [
    "## Cargar datos"
   ]
  },
  {
   "cell_type": "code",
   "execution_count": 2,
   "metadata": {
    "id": "CCqPW7rS0q01",
    "trusted": false
   },
   "outputs": [],
   "source": [
    "meg_cal = pd.read_csv('/datasets/megaline_calls.csv',sep=',')\n",
    "meg_int = pd.read_csv('/datasets/megaline_internet.csv',sep=',')\n",
    "meg_meg = pd.read_csv('/datasets/megaline_messages.csv',sep=',')\n",
    "meg_pla = pd.read_csv('/datasets/megaline_plans.csv',sep=',')\n",
    "meg_use = pd.read_csv('/datasets/megaline_users.csv',sep=',')\n",
    "# Carga los archivos de datos en diferentes DataFrames"
   ]
  },
  {
   "cell_type": "markdown",
   "metadata": {
    "id": "69qqoJ3r0q01"
   },
   "source": [
    "## Preparar los datos"
   ]
  },
  {
   "cell_type": "markdown",
   "metadata": {
    "id": "vUuZw80S0q01"
   },
   "source": [
    "[Los datos para este proyecto se dividen en varias tablas. Explora cada una para tener una comprensión inicial de los datos. Si es necesario, haz las correcciones requeridas en cada tabla.]"
   ]
  },
  {
   "cell_type": "markdown",
   "metadata": {
    "id": "ohBhimvH0q01"
   },
   "source": [
    "## Tarifas"
   ]
  },
  {
   "cell_type": "code",
   "execution_count": 3,
   "metadata": {
    "id": "GptqP3Q40q02",
    "trusted": false
   },
   "outputs": [
    {
     "name": "stdout",
     "output_type": "stream",
     "text": [
      "<class 'pandas.core.frame.DataFrame'>\n",
      "RangeIndex: 2 entries, 0 to 1\n",
      "Data columns (total 8 columns):\n",
      " #   Column                 Non-Null Count  Dtype  \n",
      "---  ------                 --------------  -----  \n",
      " 0   messages_included      2 non-null      int64  \n",
      " 1   mb_per_month_included  2 non-null      int64  \n",
      " 2   minutes_included       2 non-null      int64  \n",
      " 3   usd_monthly_pay        2 non-null      int64  \n",
      " 4   usd_per_gb             2 non-null      int64  \n",
      " 5   usd_per_message        2 non-null      float64\n",
      " 6   usd_per_minute         2 non-null      float64\n",
      " 7   plan_name              2 non-null      object \n",
      "dtypes: float64(2), int64(5), object(1)\n",
      "memory usage: 256.0+ bytes\n"
     ]
    }
   ],
   "source": [
    "meg_pla.info()# Imprime la información general/resumida sobre el DataFrame de las tarifas"
   ]
  },
  {
   "cell_type": "code",
   "execution_count": 4,
   "metadata": {
    "id": "64xzjwL70q02",
    "scrolled": true,
    "trusted": false
   },
   "outputs": [
    {
     "data": {
      "text/html": [
       "<div>\n",
       "<style scoped>\n",
       "    .dataframe tbody tr th:only-of-type {\n",
       "        vertical-align: middle;\n",
       "    }\n",
       "\n",
       "    .dataframe tbody tr th {\n",
       "        vertical-align: top;\n",
       "    }\n",
       "\n",
       "    .dataframe thead th {\n",
       "        text-align: right;\n",
       "    }\n",
       "</style>\n",
       "<table border=\"1\" class=\"dataframe\">\n",
       "  <thead>\n",
       "    <tr style=\"text-align: right;\">\n",
       "      <th></th>\n",
       "      <th>messages_included</th>\n",
       "      <th>mb_per_month_included</th>\n",
       "      <th>minutes_included</th>\n",
       "      <th>usd_monthly_pay</th>\n",
       "      <th>usd_per_gb</th>\n",
       "      <th>usd_per_message</th>\n",
       "      <th>usd_per_minute</th>\n",
       "      <th>plan_name</th>\n",
       "    </tr>\n",
       "  </thead>\n",
       "  <tbody>\n",
       "    <tr>\n",
       "      <th>0</th>\n",
       "      <td>50</td>\n",
       "      <td>15360</td>\n",
       "      <td>500</td>\n",
       "      <td>20</td>\n",
       "      <td>10</td>\n",
       "      <td>0.03</td>\n",
       "      <td>0.03</td>\n",
       "      <td>surf</td>\n",
       "    </tr>\n",
       "    <tr>\n",
       "      <th>1</th>\n",
       "      <td>1000</td>\n",
       "      <td>30720</td>\n",
       "      <td>3000</td>\n",
       "      <td>70</td>\n",
       "      <td>7</td>\n",
       "      <td>0.01</td>\n",
       "      <td>0.01</td>\n",
       "      <td>ultimate</td>\n",
       "    </tr>\n",
       "  </tbody>\n",
       "</table>\n",
       "</div>"
      ],
      "text/plain": [
       "   messages_included  mb_per_month_included  minutes_included  \\\n",
       "0                 50                  15360               500   \n",
       "1               1000                  30720              3000   \n",
       "\n",
       "   usd_monthly_pay  usd_per_gb  usd_per_message  usd_per_minute plan_name  \n",
       "0               20          10             0.03            0.03      surf  \n",
       "1               70           7             0.01            0.01  ultimate  "
      ]
     },
     "execution_count": 4,
     "metadata": {},
     "output_type": "execute_result"
    }
   ],
   "source": [
    "meg_pla.head()# Imprime una muestra de los datos para las tarifas"
   ]
  },
  {
   "cell_type": "markdown",
   "metadata": {},
   "source": [
    "NO HAY DATOS A CAMBIAR SEGUN LO QUE SE MUESTRA, LOS DATOS SON CLAROS."
   ]
  },
  {
   "cell_type": "markdown",
   "metadata": {
    "id": "R3C05i1l0q03"
   },
   "source": [
    "## Corregir datos"
   ]
  },
  {
   "cell_type": "code",
   "execution_count": 5,
   "metadata": {
    "id": "Y7SVmjGn0q03",
    "trusted": false
   },
   "outputs": [
    {
     "name": "stdout",
     "output_type": "stream",
     "text": [
      "0\n",
      "messages_included        0\n",
      "mb_per_month_included    0\n",
      "minutes_included         0\n",
      "usd_monthly_pay          0\n",
      "usd_per_gb               0\n",
      "usd_per_message          0\n",
      "usd_per_minute           0\n",
      "plan_name                0\n",
      "dtype: int64\n",
      "<class 'pandas.core.frame.DataFrame'>\n",
      "RangeIndex: 2 entries, 0 to 1\n",
      "Data columns (total 8 columns):\n",
      " #   Column                 Non-Null Count  Dtype  \n",
      "---  ------                 --------------  -----  \n",
      " 0   messages_included      2 non-null      int64  \n",
      " 1   mb_per_month_included  2 non-null      int64  \n",
      " 2   minutes_included       2 non-null      int64  \n",
      " 3   usd_monthly_pay        2 non-null      int64  \n",
      " 4   usd_per_gb             2 non-null      int64  \n",
      " 5   usd_per_message        2 non-null      float64\n",
      " 6   usd_per_minute         2 non-null      float64\n",
      " 7   plan_name              2 non-null      object \n",
      "dtypes: float64(2), int64(5), object(1)\n",
      "memory usage: 256.0+ bytes\n"
     ]
    }
   ],
   "source": [
    "print(meg_pla.duplicated().sum())\n",
    "print(meg_pla.isna().sum())\n",
    "meg_pla.info()"
   ]
  },
  {
   "cell_type": "markdown",
   "metadata": {
    "id": "LJir7bml0q03"
   },
   "source": [
    "## Enriquecer los datos"
   ]
  },
  {
   "cell_type": "markdown",
   "metadata": {},
   "source": [
    "Como parte de la trasnformacion de los datos es parte fundamental en este proyecto la transformacion de mb a gb para un mejor analisis cuando se requiera un realizar calculos."
   ]
  },
  {
   "cell_type": "markdown",
   "metadata": {
    "id": "1n2X6WXf0q04"
   },
   "source": [
    "## Usuarios/as"
   ]
  },
  {
   "cell_type": "code",
   "execution_count": 6,
   "metadata": {
    "id": "2NgjWFqx0q05",
    "trusted": false
   },
   "outputs": [
    {
     "name": "stdout",
     "output_type": "stream",
     "text": [
      "<class 'pandas.core.frame.DataFrame'>\n",
      "RangeIndex: 500 entries, 0 to 499\n",
      "Data columns (total 8 columns):\n",
      " #   Column      Non-Null Count  Dtype \n",
      "---  ------      --------------  ----- \n",
      " 0   user_id     500 non-null    int64 \n",
      " 1   first_name  500 non-null    object\n",
      " 2   last_name   500 non-null    object\n",
      " 3   age         500 non-null    int64 \n",
      " 4   city        500 non-null    object\n",
      " 5   reg_date    500 non-null    object\n",
      " 6   plan        500 non-null    object\n",
      " 7   churn_date  34 non-null     object\n",
      "dtypes: int64(2), object(6)\n",
      "memory usage: 31.4+ KB\n"
     ]
    }
   ],
   "source": [
    "meg_use.info()# Imprime la información general/resumida sobre el DataFrame de usuarios"
   ]
  },
  {
   "cell_type": "code",
   "execution_count": 7,
   "metadata": {
    "id": "1IN1L9uh0q05",
    "scrolled": true,
    "trusted": false
   },
   "outputs": [
    {
     "data": {
      "text/html": [
       "<div>\n",
       "<style scoped>\n",
       "    .dataframe tbody tr th:only-of-type {\n",
       "        vertical-align: middle;\n",
       "    }\n",
       "\n",
       "    .dataframe tbody tr th {\n",
       "        vertical-align: top;\n",
       "    }\n",
       "\n",
       "    .dataframe thead th {\n",
       "        text-align: right;\n",
       "    }\n",
       "</style>\n",
       "<table border=\"1\" class=\"dataframe\">\n",
       "  <thead>\n",
       "    <tr style=\"text-align: right;\">\n",
       "      <th></th>\n",
       "      <th>user_id</th>\n",
       "      <th>first_name</th>\n",
       "      <th>last_name</th>\n",
       "      <th>age</th>\n",
       "      <th>city</th>\n",
       "      <th>reg_date</th>\n",
       "      <th>plan</th>\n",
       "      <th>churn_date</th>\n",
       "    </tr>\n",
       "  </thead>\n",
       "  <tbody>\n",
       "    <tr>\n",
       "      <th>0</th>\n",
       "      <td>1000</td>\n",
       "      <td>Anamaria</td>\n",
       "      <td>Bauer</td>\n",
       "      <td>45</td>\n",
       "      <td>Atlanta-Sandy Springs-Roswell, GA MSA</td>\n",
       "      <td>2018-12-24</td>\n",
       "      <td>ultimate</td>\n",
       "      <td>NaN</td>\n",
       "    </tr>\n",
       "    <tr>\n",
       "      <th>1</th>\n",
       "      <td>1001</td>\n",
       "      <td>Mickey</td>\n",
       "      <td>Wilkerson</td>\n",
       "      <td>28</td>\n",
       "      <td>Seattle-Tacoma-Bellevue, WA MSA</td>\n",
       "      <td>2018-08-13</td>\n",
       "      <td>surf</td>\n",
       "      <td>NaN</td>\n",
       "    </tr>\n",
       "    <tr>\n",
       "      <th>2</th>\n",
       "      <td>1002</td>\n",
       "      <td>Carlee</td>\n",
       "      <td>Hoffman</td>\n",
       "      <td>36</td>\n",
       "      <td>Las Vegas-Henderson-Paradise, NV MSA</td>\n",
       "      <td>2018-10-21</td>\n",
       "      <td>surf</td>\n",
       "      <td>NaN</td>\n",
       "    </tr>\n",
       "    <tr>\n",
       "      <th>3</th>\n",
       "      <td>1003</td>\n",
       "      <td>Reynaldo</td>\n",
       "      <td>Jenkins</td>\n",
       "      <td>52</td>\n",
       "      <td>Tulsa, OK MSA</td>\n",
       "      <td>2018-01-28</td>\n",
       "      <td>surf</td>\n",
       "      <td>NaN</td>\n",
       "    </tr>\n",
       "    <tr>\n",
       "      <th>4</th>\n",
       "      <td>1004</td>\n",
       "      <td>Leonila</td>\n",
       "      <td>Thompson</td>\n",
       "      <td>40</td>\n",
       "      <td>Seattle-Tacoma-Bellevue, WA MSA</td>\n",
       "      <td>2018-05-23</td>\n",
       "      <td>surf</td>\n",
       "      <td>NaN</td>\n",
       "    </tr>\n",
       "  </tbody>\n",
       "</table>\n",
       "</div>"
      ],
      "text/plain": [
       "   user_id first_name  last_name  age                                   city  \\\n",
       "0     1000   Anamaria      Bauer   45  Atlanta-Sandy Springs-Roswell, GA MSA   \n",
       "1     1001     Mickey  Wilkerson   28        Seattle-Tacoma-Bellevue, WA MSA   \n",
       "2     1002     Carlee    Hoffman   36   Las Vegas-Henderson-Paradise, NV MSA   \n",
       "3     1003   Reynaldo    Jenkins   52                          Tulsa, OK MSA   \n",
       "4     1004    Leonila   Thompson   40        Seattle-Tacoma-Bellevue, WA MSA   \n",
       "\n",
       "    reg_date      plan churn_date  \n",
       "0 2018-12-24  ultimate        NaN  \n",
       "1 2018-08-13      surf        NaN  \n",
       "2 2018-10-21      surf        NaN  \n",
       "3 2018-01-28      surf        NaN  \n",
       "4 2018-05-23      surf        NaN  "
      ]
     },
     "execution_count": 7,
     "metadata": {},
     "output_type": "execute_result"
    }
   ],
   "source": [
    "meg_use['reg_date'] = pd.to_datetime(meg_use['reg_date'])\n",
    "meg_use.head()# Imprime una muestra de datos para usuarios"
   ]
  },
  {
   "cell_type": "markdown",
   "metadata": {},
   "source": [
    "Considere lo mencionado, pero como el intructor nos menciona que para este proyecto no es necesario los dias y años\n",
    ", solo es necesario el mes para evaluar informacion, es por eso que no lo considere."
   ]
  },
  {
   "cell_type": "markdown",
   "metadata": {
    "id": "dCZoUq4f0q06"
   },
   "source": [
    "[Describe lo que ves y observas en la información general y en la muestra de datos impresa para el precio de datos anterior. ¿Hay algún problema (tipos de datos no adecuados, datos ausentes, etc.) que pudieran necesitar investigación y cambios adicionales? ¿Cómo se puede arreglar?]"
   ]
  },
  {
   "cell_type": "markdown",
   "metadata": {},
   "source": [
    "SI, HAYQ UE CORREGIR LOS DATOS AUSENTES PARA PODER TENER UNA MEJOR ESTADISTICA DEL DATEFRAME"
   ]
  },
  {
   "cell_type": "markdown",
   "metadata": {
    "id": "BX5FQh_I0q06"
   },
   "source": [
    "### Corregir los datos"
   ]
  },
  {
   "cell_type": "code",
   "execution_count": 8,
   "metadata": {
    "id": "yUqX-K0C0q07",
    "trusted": false
   },
   "outputs": [
    {
     "name": "stdout",
     "output_type": "stream",
     "text": [
      "0\n",
      "\n",
      "user_id         0\n",
      "first_name      0\n",
      "last_name       0\n",
      "age             0\n",
      "city            0\n",
      "reg_date        0\n",
      "plan            0\n",
      "churn_date    466\n",
      "dtype: int64\n",
      "\n",
      "user_id       0\n",
      "first_name    0\n",
      "last_name     0\n",
      "age           0\n",
      "city          0\n",
      "reg_date      0\n",
      "plan          0\n",
      "churn_date    0\n",
      "dtype: int64\n",
      "<class 'pandas.core.frame.DataFrame'>\n",
      "RangeIndex: 500 entries, 0 to 499\n",
      "Data columns (total 8 columns):\n",
      " #   Column      Non-Null Count  Dtype         \n",
      "---  ------      --------------  -----         \n",
      " 0   user_id     500 non-null    int64         \n",
      " 1   first_name  500 non-null    object        \n",
      " 2   last_name   500 non-null    object        \n",
      " 3   age         500 non-null    int64         \n",
      " 4   city        500 non-null    object        \n",
      " 5   reg_date    500 non-null    datetime64[ns]\n",
      " 6   plan        500 non-null    object        \n",
      " 7   churn_date  500 non-null    object        \n",
      "dtypes: datetime64[ns](1), int64(2), object(5)\n",
      "memory usage: 31.4+ KB\n",
      "\n"
     ]
    },
    {
     "data": {
      "text/html": [
       "<div>\n",
       "<style scoped>\n",
       "    .dataframe tbody tr th:only-of-type {\n",
       "        vertical-align: middle;\n",
       "    }\n",
       "\n",
       "    .dataframe tbody tr th {\n",
       "        vertical-align: top;\n",
       "    }\n",
       "\n",
       "    .dataframe thead th {\n",
       "        text-align: right;\n",
       "    }\n",
       "</style>\n",
       "<table border=\"1\" class=\"dataframe\">\n",
       "  <thead>\n",
       "    <tr style=\"text-align: right;\">\n",
       "      <th></th>\n",
       "      <th>user_id</th>\n",
       "      <th>first_name</th>\n",
       "      <th>last_name</th>\n",
       "      <th>age</th>\n",
       "      <th>city</th>\n",
       "      <th>reg_date</th>\n",
       "      <th>plan</th>\n",
       "      <th>churn_date</th>\n",
       "    </tr>\n",
       "  </thead>\n",
       "  <tbody>\n",
       "    <tr>\n",
       "      <th>0</th>\n",
       "      <td>1000</td>\n",
       "      <td>Anamaria</td>\n",
       "      <td>Bauer</td>\n",
       "      <td>45</td>\n",
       "      <td>Atlanta-Sandy Springs-Roswell, GA MSA</td>\n",
       "      <td>2018-12-24</td>\n",
       "      <td>ultimate</td>\n",
       "      <td>NaN</td>\n",
       "    </tr>\n",
       "    <tr>\n",
       "      <th>1</th>\n",
       "      <td>1001</td>\n",
       "      <td>Mickey</td>\n",
       "      <td>Wilkerson</td>\n",
       "      <td>28</td>\n",
       "      <td>Seattle-Tacoma-Bellevue, WA MSA</td>\n",
       "      <td>2018-08-13</td>\n",
       "      <td>surf</td>\n",
       "      <td>NaN</td>\n",
       "    </tr>\n",
       "    <tr>\n",
       "      <th>2</th>\n",
       "      <td>1002</td>\n",
       "      <td>Carlee</td>\n",
       "      <td>Hoffman</td>\n",
       "      <td>36</td>\n",
       "      <td>Las Vegas-Henderson-Paradise, NV MSA</td>\n",
       "      <td>2018-10-21</td>\n",
       "      <td>surf</td>\n",
       "      <td>NaN</td>\n",
       "    </tr>\n",
       "    <tr>\n",
       "      <th>3</th>\n",
       "      <td>1003</td>\n",
       "      <td>Reynaldo</td>\n",
       "      <td>Jenkins</td>\n",
       "      <td>52</td>\n",
       "      <td>Tulsa, OK MSA</td>\n",
       "      <td>2018-01-28</td>\n",
       "      <td>surf</td>\n",
       "      <td>NaN</td>\n",
       "    </tr>\n",
       "    <tr>\n",
       "      <th>4</th>\n",
       "      <td>1004</td>\n",
       "      <td>Leonila</td>\n",
       "      <td>Thompson</td>\n",
       "      <td>40</td>\n",
       "      <td>Seattle-Tacoma-Bellevue, WA MSA</td>\n",
       "      <td>2018-05-23</td>\n",
       "      <td>surf</td>\n",
       "      <td>NaN</td>\n",
       "    </tr>\n",
       "  </tbody>\n",
       "</table>\n",
       "</div>"
      ],
      "text/plain": [
       "   user_id first_name  last_name  age                                   city  \\\n",
       "0     1000   Anamaria      Bauer   45  Atlanta-Sandy Springs-Roswell, GA MSA   \n",
       "1     1001     Mickey  Wilkerson   28        Seattle-Tacoma-Bellevue, WA MSA   \n",
       "2     1002     Carlee    Hoffman   36   Las Vegas-Henderson-Paradise, NV MSA   \n",
       "3     1003   Reynaldo    Jenkins   52                          Tulsa, OK MSA   \n",
       "4     1004    Leonila   Thompson   40        Seattle-Tacoma-Bellevue, WA MSA   \n",
       "\n",
       "    reg_date      plan churn_date  \n",
       "0 2018-12-24  ultimate        NaN  \n",
       "1 2018-08-13      surf        NaN  \n",
       "2 2018-10-21      surf        NaN  \n",
       "3 2018-01-28      surf        NaN  \n",
       "4 2018-05-23      surf        NaN  "
      ]
     },
     "execution_count": 8,
     "metadata": {},
     "output_type": "execute_result"
    }
   ],
   "source": [
    "print(meg_use.duplicated().sum())\n",
    "print()\n",
    "print(meg_use.isna().sum())\n",
    "print()\n",
    "meg_use['churn_date'].fillna('NaN', inplace=True)\n",
    "\n",
    "print(meg_use.isna().sum())\n",
    "\n",
    "\n",
    "meg_use.info()\n",
    "print()\n",
    "meg_use.head()"
   ]
  },
  {
   "cell_type": "markdown",
   "metadata": {
    "id": "ycwuARJp0q07"
   },
   "source": [
    "### Enriquecer los datos"
   ]
  },
  {
   "cell_type": "code",
   "execution_count": 9,
   "metadata": {
    "id": "iq0AaBS90q08",
    "trusted": false
   },
   "outputs": [
    {
     "name": "stdout",
     "output_type": "stream",
     "text": [
      "<class 'pandas.core.frame.DataFrame'>\n",
      "RangeIndex: 500 entries, 0 to 499\n",
      "Data columns (total 8 columns):\n",
      " #   Column      Non-Null Count  Dtype         \n",
      "---  ------      --------------  -----         \n",
      " 0   user_id     500 non-null    int64         \n",
      " 1   first_name  500 non-null    object        \n",
      " 2   last_name   500 non-null    object        \n",
      " 3   age         500 non-null    int64         \n",
      " 4   city        500 non-null    object        \n",
      " 5   reg_date    500 non-null    datetime64[ns]\n",
      " 6   plan        500 non-null    object        \n",
      " 7   churn_date  500 non-null    object        \n",
      "dtypes: datetime64[ns](1), int64(2), object(5)\n",
      "memory usage: 31.4+ KB\n",
      "\n"
     ]
    },
    {
     "data": {
      "text/html": [
       "<div>\n",
       "<style scoped>\n",
       "    .dataframe tbody tr th:only-of-type {\n",
       "        vertical-align: middle;\n",
       "    }\n",
       "\n",
       "    .dataframe tbody tr th {\n",
       "        vertical-align: top;\n",
       "    }\n",
       "\n",
       "    .dataframe thead th {\n",
       "        text-align: right;\n",
       "    }\n",
       "</style>\n",
       "<table border=\"1\" class=\"dataframe\">\n",
       "  <thead>\n",
       "    <tr style=\"text-align: right;\">\n",
       "      <th></th>\n",
       "      <th>user_id</th>\n",
       "      <th>first_name</th>\n",
       "      <th>last_name</th>\n",
       "      <th>age</th>\n",
       "      <th>city</th>\n",
       "      <th>reg_date</th>\n",
       "      <th>plan</th>\n",
       "      <th>churn_date</th>\n",
       "    </tr>\n",
       "  </thead>\n",
       "  <tbody>\n",
       "    <tr>\n",
       "      <th>0</th>\n",
       "      <td>1000</td>\n",
       "      <td>Anamaria</td>\n",
       "      <td>Bauer</td>\n",
       "      <td>45</td>\n",
       "      <td>Atlanta-Sandy Springs-Roswell, GA MSA</td>\n",
       "      <td>2018-12-24</td>\n",
       "      <td>ultimate</td>\n",
       "      <td>NaN</td>\n",
       "    </tr>\n",
       "    <tr>\n",
       "      <th>1</th>\n",
       "      <td>1001</td>\n",
       "      <td>Mickey</td>\n",
       "      <td>Wilkerson</td>\n",
       "      <td>28</td>\n",
       "      <td>Seattle-Tacoma-Bellevue, WA MSA</td>\n",
       "      <td>2018-08-13</td>\n",
       "      <td>surf</td>\n",
       "      <td>NaN</td>\n",
       "    </tr>\n",
       "    <tr>\n",
       "      <th>2</th>\n",
       "      <td>1002</td>\n",
       "      <td>Carlee</td>\n",
       "      <td>Hoffman</td>\n",
       "      <td>36</td>\n",
       "      <td>Las Vegas-Henderson-Paradise, NV MSA</td>\n",
       "      <td>2018-10-21</td>\n",
       "      <td>surf</td>\n",
       "      <td>NaN</td>\n",
       "    </tr>\n",
       "    <tr>\n",
       "      <th>3</th>\n",
       "      <td>1003</td>\n",
       "      <td>Reynaldo</td>\n",
       "      <td>Jenkins</td>\n",
       "      <td>52</td>\n",
       "      <td>Tulsa, OK MSA</td>\n",
       "      <td>2018-01-28</td>\n",
       "      <td>surf</td>\n",
       "      <td>NaN</td>\n",
       "    </tr>\n",
       "    <tr>\n",
       "      <th>4</th>\n",
       "      <td>1004</td>\n",
       "      <td>Leonila</td>\n",
       "      <td>Thompson</td>\n",
       "      <td>40</td>\n",
       "      <td>Seattle-Tacoma-Bellevue, WA MSA</td>\n",
       "      <td>2018-05-23</td>\n",
       "      <td>surf</td>\n",
       "      <td>NaN</td>\n",
       "    </tr>\n",
       "  </tbody>\n",
       "</table>\n",
       "</div>"
      ],
      "text/plain": [
       "   user_id first_name  last_name  age                                   city  \\\n",
       "0     1000   Anamaria      Bauer   45  Atlanta-Sandy Springs-Roswell, GA MSA   \n",
       "1     1001     Mickey  Wilkerson   28        Seattle-Tacoma-Bellevue, WA MSA   \n",
       "2     1002     Carlee    Hoffman   36   Las Vegas-Henderson-Paradise, NV MSA   \n",
       "3     1003   Reynaldo    Jenkins   52                          Tulsa, OK MSA   \n",
       "4     1004    Leonila   Thompson   40        Seattle-Tacoma-Bellevue, WA MSA   \n",
       "\n",
       "    reg_date      plan churn_date  \n",
       "0 2018-12-24  ultimate        NaN  \n",
       "1 2018-08-13      surf        NaN  \n",
       "2 2018-10-21      surf        NaN  \n",
       "3 2018-01-28      surf        NaN  \n",
       "4 2018-05-23      surf        NaN  "
      ]
     },
     "execution_count": 9,
     "metadata": {},
     "output_type": "execute_result"
    }
   ],
   "source": [
    "meg_use.info()\n",
    "print()\n",
    "meg_use.head()"
   ]
  },
  {
   "cell_type": "markdown",
   "metadata": {
    "id": "o7MeKCid0q08"
   },
   "source": [
    "## Llamadas"
   ]
  },
  {
   "cell_type": "code",
   "execution_count": 10,
   "metadata": {
    "id": "6dDlnoDm0q08",
    "trusted": false
   },
   "outputs": [
    {
     "name": "stdout",
     "output_type": "stream",
     "text": [
      "<class 'pandas.core.frame.DataFrame'>\n",
      "RangeIndex: 137735 entries, 0 to 137734\n",
      "Data columns (total 4 columns):\n",
      " #   Column     Non-Null Count   Dtype  \n",
      "---  ------     --------------   -----  \n",
      " 0   id         137735 non-null  object \n",
      " 1   user_id    137735 non-null  int64  \n",
      " 2   call_date  137735 non-null  object \n",
      " 3   duration   137735 non-null  float64\n",
      "dtypes: float64(1), int64(1), object(2)\n",
      "memory usage: 4.2+ MB\n"
     ]
    }
   ],
   "source": [
    "meg_cal.info() # Imprime la información general/resumida sobre el DataFrame de las llamadas\n"
   ]
  },
  {
   "cell_type": "code",
   "execution_count": 11,
   "metadata": {
    "id": "kuh1vlNB0q09",
    "trusted": false
   },
   "outputs": [
    {
     "name": "stdout",
     "output_type": "stream",
     "text": [
      "<class 'pandas.core.frame.DataFrame'>\n",
      "RangeIndex: 137735 entries, 0 to 137734\n",
      "Data columns (total 4 columns):\n",
      " #   Column     Non-Null Count   Dtype         \n",
      "---  ------     --------------   -----         \n",
      " 0   id         137735 non-null  object        \n",
      " 1   user_id    137735 non-null  int64         \n",
      " 2   call_date  137735 non-null  datetime64[ns]\n",
      " 3   duration   137735 non-null  float64       \n",
      "dtypes: datetime64[ns](1), float64(1), int64(1), object(1)\n",
      "memory usage: 4.2+ MB\n",
      "\n"
     ]
    },
    {
     "data": {
      "text/html": [
       "<div>\n",
       "<style scoped>\n",
       "    .dataframe tbody tr th:only-of-type {\n",
       "        vertical-align: middle;\n",
       "    }\n",
       "\n",
       "    .dataframe tbody tr th {\n",
       "        vertical-align: top;\n",
       "    }\n",
       "\n",
       "    .dataframe thead th {\n",
       "        text-align: right;\n",
       "    }\n",
       "</style>\n",
       "<table border=\"1\" class=\"dataframe\">\n",
       "  <thead>\n",
       "    <tr style=\"text-align: right;\">\n",
       "      <th></th>\n",
       "      <th>id</th>\n",
       "      <th>user_id</th>\n",
       "      <th>call_date</th>\n",
       "      <th>duration</th>\n",
       "    </tr>\n",
       "  </thead>\n",
       "  <tbody>\n",
       "    <tr>\n",
       "      <th>0</th>\n",
       "      <td>1000_93</td>\n",
       "      <td>1000</td>\n",
       "      <td>2018-12-27</td>\n",
       "      <td>8.52</td>\n",
       "    </tr>\n",
       "    <tr>\n",
       "      <th>1</th>\n",
       "      <td>1000_145</td>\n",
       "      <td>1000</td>\n",
       "      <td>2018-12-27</td>\n",
       "      <td>13.66</td>\n",
       "    </tr>\n",
       "    <tr>\n",
       "      <th>2</th>\n",
       "      <td>1000_247</td>\n",
       "      <td>1000</td>\n",
       "      <td>2018-12-27</td>\n",
       "      <td>14.48</td>\n",
       "    </tr>\n",
       "    <tr>\n",
       "      <th>3</th>\n",
       "      <td>1000_309</td>\n",
       "      <td>1000</td>\n",
       "      <td>2018-12-28</td>\n",
       "      <td>5.76</td>\n",
       "    </tr>\n",
       "    <tr>\n",
       "      <th>4</th>\n",
       "      <td>1000_380</td>\n",
       "      <td>1000</td>\n",
       "      <td>2018-12-30</td>\n",
       "      <td>4.22</td>\n",
       "    </tr>\n",
       "  </tbody>\n",
       "</table>\n",
       "</div>"
      ],
      "text/plain": [
       "         id  user_id  call_date  duration\n",
       "0   1000_93     1000 2018-12-27      8.52\n",
       "1  1000_145     1000 2018-12-27     13.66\n",
       "2  1000_247     1000 2018-12-27     14.48\n",
       "3  1000_309     1000 2018-12-28      5.76\n",
       "4  1000_380     1000 2018-12-30      4.22"
      ]
     },
     "execution_count": 11,
     "metadata": {},
     "output_type": "execute_result"
    }
   ],
   "source": [
    "meg_cal['call_date'] = pd.to_datetime(meg_cal['call_date'])\n",
    "meg_cal.info()\n",
    "print()\n",
    "meg_cal.head()# Imprime una muestra de datos para las llamadas\n",
    "\n"
   ]
  },
  {
   "cell_type": "markdown",
   "metadata": {
    "id": "DOAxYJSx0q09"
   },
   "source": [
    "[Describe lo que ves y observas en la información general y en la muestra de datos impresa para el precio de datos anterior. ¿Hay algún problema (tipos de datos no adecuados, datos ausentes, etc.) que pudieran necesitar investigación y cambios adicionales? ¿Cómo se puede arreglar?]"
   ]
  },
  {
   "cell_type": "markdown",
   "metadata": {},
   "source": [
    "NO SE VISUALIZA DATOS AUSENTES, PERO HAREMOS UN CODIGO PARA VALIDAR Y OBTENER EL MES DE LA FECHA, TAMBIEN CONVERTIRLO A DATETIME"
   ]
  },
  {
   "cell_type": "markdown",
   "metadata": {
    "id": "S7hzxmbX0q0-"
   },
   "source": [
    "### Corregir los datos"
   ]
  },
  {
   "cell_type": "code",
   "execution_count": 12,
   "metadata": {
    "id": "S2r8xA4f0q0-",
    "trusted": false
   },
   "outputs": [
    {
     "name": "stdout",
     "output_type": "stream",
     "text": [
      "0\n",
      "\n",
      "id           0\n",
      "user_id      0\n",
      "call_date    0\n",
      "duration     0\n",
      "dtype: int64\n",
      "<class 'pandas.core.frame.DataFrame'>\n",
      "RangeIndex: 137735 entries, 0 to 137734\n",
      "Data columns (total 4 columns):\n",
      " #   Column     Non-Null Count   Dtype         \n",
      "---  ------     --------------   -----         \n",
      " 0   id         137735 non-null  object        \n",
      " 1   user_id    137735 non-null  int64         \n",
      " 2   call_date  137735 non-null  datetime64[ns]\n",
      " 3   duration   137735 non-null  float64       \n",
      "dtypes: datetime64[ns](1), float64(1), int64(1), object(1)\n",
      "memory usage: 4.2+ MB\n"
     ]
    }
   ],
   "source": [
    "print(meg_cal.duplicated().sum())\n",
    "print()\n",
    "print(meg_cal.isna().sum())\n",
    "meg_cal.info()"
   ]
  },
  {
   "cell_type": "markdown",
   "metadata": {
    "id": "KrMgTrlG0q0_"
   },
   "source": [
    "### Enriquecer los datos"
   ]
  },
  {
   "cell_type": "code",
   "execution_count": 13,
   "metadata": {
    "id": "iZ1avpA_0q0_",
    "scrolled": true,
    "trusted": false
   },
   "outputs": [
    {
     "data": {
      "text/html": [
       "<div>\n",
       "<style scoped>\n",
       "    .dataframe tbody tr th:only-of-type {\n",
       "        vertical-align: middle;\n",
       "    }\n",
       "\n",
       "    .dataframe tbody tr th {\n",
       "        vertical-align: top;\n",
       "    }\n",
       "\n",
       "    .dataframe thead th {\n",
       "        text-align: right;\n",
       "    }\n",
       "</style>\n",
       "<table border=\"1\" class=\"dataframe\">\n",
       "  <thead>\n",
       "    <tr style=\"text-align: right;\">\n",
       "      <th></th>\n",
       "      <th>id</th>\n",
       "      <th>user_id</th>\n",
       "      <th>call_date</th>\n",
       "      <th>duration</th>\n",
       "      <th>month</th>\n",
       "    </tr>\n",
       "  </thead>\n",
       "  <tbody>\n",
       "    <tr>\n",
       "      <th>0</th>\n",
       "      <td>1000_93</td>\n",
       "      <td>1000</td>\n",
       "      <td>2018-12-27</td>\n",
       "      <td>8.52</td>\n",
       "      <td>12</td>\n",
       "    </tr>\n",
       "    <tr>\n",
       "      <th>1</th>\n",
       "      <td>1000_145</td>\n",
       "      <td>1000</td>\n",
       "      <td>2018-12-27</td>\n",
       "      <td>13.66</td>\n",
       "      <td>12</td>\n",
       "    </tr>\n",
       "    <tr>\n",
       "      <th>2</th>\n",
       "      <td>1000_247</td>\n",
       "      <td>1000</td>\n",
       "      <td>2018-12-27</td>\n",
       "      <td>14.48</td>\n",
       "      <td>12</td>\n",
       "    </tr>\n",
       "    <tr>\n",
       "      <th>3</th>\n",
       "      <td>1000_309</td>\n",
       "      <td>1000</td>\n",
       "      <td>2018-12-28</td>\n",
       "      <td>5.76</td>\n",
       "      <td>12</td>\n",
       "    </tr>\n",
       "    <tr>\n",
       "      <th>4</th>\n",
       "      <td>1000_380</td>\n",
       "      <td>1000</td>\n",
       "      <td>2018-12-30</td>\n",
       "      <td>4.22</td>\n",
       "      <td>12</td>\n",
       "    </tr>\n",
       "  </tbody>\n",
       "</table>\n",
       "</div>"
      ],
      "text/plain": [
       "         id  user_id  call_date  duration  month\n",
       "0   1000_93     1000 2018-12-27      8.52     12\n",
       "1  1000_145     1000 2018-12-27     13.66     12\n",
       "2  1000_247     1000 2018-12-27     14.48     12\n",
       "3  1000_309     1000 2018-12-28      5.76     12\n",
       "4  1000_380     1000 2018-12-30      4.22     12"
      ]
     },
     "execution_count": 13,
     "metadata": {},
     "output_type": "execute_result"
    }
   ],
   "source": [
    "meg_cal['month'] = meg_cal['call_date'].dt.month\n",
    "\n",
    "meg_cal.head()"
   ]
  },
  {
   "cell_type": "markdown",
   "metadata": {},
   "source": [
    "Al tener una duracion de '0'  se entiende que el usuario no realizo ninguna llamada durante la fecha o mes"
   ]
  },
  {
   "cell_type": "markdown",
   "metadata": {
    "id": "mOUZSi180q0_"
   },
   "source": [
    "## Mensajes"
   ]
  },
  {
   "cell_type": "code",
   "execution_count": 14,
   "metadata": {
    "id": "R-bYJpdV0q1A",
    "trusted": false
   },
   "outputs": [
    {
     "name": "stdout",
     "output_type": "stream",
     "text": [
      "<class 'pandas.core.frame.DataFrame'>\n",
      "RangeIndex: 76051 entries, 0 to 76050\n",
      "Data columns (total 3 columns):\n",
      " #   Column        Non-Null Count  Dtype \n",
      "---  ------        --------------  ----- \n",
      " 0   id            76051 non-null  object\n",
      " 1   user_id       76051 non-null  int64 \n",
      " 2   message_date  76051 non-null  object\n",
      "dtypes: int64(1), object(2)\n",
      "memory usage: 1.7+ MB\n"
     ]
    }
   ],
   "source": [
    "meg_meg.info() # Imprime la información general/resumida sobre el DataFrame de los mensajes"
   ]
  },
  {
   "cell_type": "code",
   "execution_count": 15,
   "metadata": {
    "id": "mCEl2iGE0q1A",
    "trusted": false
   },
   "outputs": [
    {
     "name": "stdout",
     "output_type": "stream",
     "text": [
      "<class 'pandas.core.frame.DataFrame'>\n",
      "RangeIndex: 76051 entries, 0 to 76050\n",
      "Data columns (total 3 columns):\n",
      " #   Column        Non-Null Count  Dtype         \n",
      "---  ------        --------------  -----         \n",
      " 0   id            76051 non-null  object        \n",
      " 1   user_id       76051 non-null  int64         \n",
      " 2   message_date  76051 non-null  datetime64[ns]\n",
      "dtypes: datetime64[ns](1), int64(1), object(1)\n",
      "memory usage: 1.7+ MB\n",
      "\n"
     ]
    },
    {
     "data": {
      "text/html": [
       "<div>\n",
       "<style scoped>\n",
       "    .dataframe tbody tr th:only-of-type {\n",
       "        vertical-align: middle;\n",
       "    }\n",
       "\n",
       "    .dataframe tbody tr th {\n",
       "        vertical-align: top;\n",
       "    }\n",
       "\n",
       "    .dataframe thead th {\n",
       "        text-align: right;\n",
       "    }\n",
       "</style>\n",
       "<table border=\"1\" class=\"dataframe\">\n",
       "  <thead>\n",
       "    <tr style=\"text-align: right;\">\n",
       "      <th></th>\n",
       "      <th>id</th>\n",
       "      <th>user_id</th>\n",
       "      <th>message_date</th>\n",
       "    </tr>\n",
       "  </thead>\n",
       "  <tbody>\n",
       "    <tr>\n",
       "      <th>0</th>\n",
       "      <td>1000_125</td>\n",
       "      <td>1000</td>\n",
       "      <td>2018-12-27</td>\n",
       "    </tr>\n",
       "    <tr>\n",
       "      <th>1</th>\n",
       "      <td>1000_160</td>\n",
       "      <td>1000</td>\n",
       "      <td>2018-12-31</td>\n",
       "    </tr>\n",
       "    <tr>\n",
       "      <th>2</th>\n",
       "      <td>1000_223</td>\n",
       "      <td>1000</td>\n",
       "      <td>2018-12-31</td>\n",
       "    </tr>\n",
       "    <tr>\n",
       "      <th>3</th>\n",
       "      <td>1000_251</td>\n",
       "      <td>1000</td>\n",
       "      <td>2018-12-27</td>\n",
       "    </tr>\n",
       "    <tr>\n",
       "      <th>4</th>\n",
       "      <td>1000_255</td>\n",
       "      <td>1000</td>\n",
       "      <td>2018-12-26</td>\n",
       "    </tr>\n",
       "  </tbody>\n",
       "</table>\n",
       "</div>"
      ],
      "text/plain": [
       "         id  user_id message_date\n",
       "0  1000_125     1000   2018-12-27\n",
       "1  1000_160     1000   2018-12-31\n",
       "2  1000_223     1000   2018-12-31\n",
       "3  1000_251     1000   2018-12-27\n",
       "4  1000_255     1000   2018-12-26"
      ]
     },
     "execution_count": 15,
     "metadata": {},
     "output_type": "execute_result"
    }
   ],
   "source": [
    "meg_meg['message_date'] = pd.to_datetime(meg_meg['message_date'])\n",
    "meg_meg.info()\n",
    "print()\n",
    "meg_meg.head()\n",
    "# Imprime una muestra de datos para los mensajes"
   ]
  },
  {
   "cell_type": "markdown",
   "metadata": {
    "id": "04xDj7KH0q1A"
   },
   "source": [
    "[Describe lo que ves y observas en la información general y en la muestra de datos impresa para el precio de datos anterior. ¿Hay algún problema (tipos de datos no adecuados, datos ausentes, etc.) que pudieran necesitar investigación y cambios adicionales? ¿Cómo se puede arreglar?]"
   ]
  },
  {
   "cell_type": "markdown",
   "metadata": {},
   "source": [
    "CAMBIAR EL NOMBRE DE ID A MESSAGE, SEPARARA EL MES DE LA FECHA Y CAMBIARLO A DATETIME"
   ]
  },
  {
   "cell_type": "markdown",
   "metadata": {
    "id": "Sprfak900q1B"
   },
   "source": [
    "### Corregir los datos"
   ]
  },
  {
   "cell_type": "code",
   "execution_count": 16,
   "metadata": {
    "id": "vsllvkoa0q1B",
    "trusted": false
   },
   "outputs": [
    {
     "name": "stdout",
     "output_type": "stream",
     "text": [
      "0\n",
      "\n",
      "id              0\n",
      "user_id         0\n",
      "message_date    0\n",
      "dtype: int64\n",
      "<class 'pandas.core.frame.DataFrame'>\n",
      "RangeIndex: 76051 entries, 0 to 76050\n",
      "Data columns (total 3 columns):\n",
      " #   Column        Non-Null Count  Dtype         \n",
      "---  ------        --------------  -----         \n",
      " 0   id            76051 non-null  object        \n",
      " 1   user_id       76051 non-null  int64         \n",
      " 2   message_date  76051 non-null  datetime64[ns]\n",
      "dtypes: datetime64[ns](1), int64(1), object(1)\n",
      "memory usage: 1.7+ MB\n"
     ]
    }
   ],
   "source": [
    "print(meg_meg.duplicated().sum())\n",
    "print()\n",
    "print(meg_meg.isna().sum())\n",
    "meg_meg.info()"
   ]
  },
  {
   "cell_type": "markdown",
   "metadata": {
    "id": "HvLid7iD0q1B"
   },
   "source": [
    "### Enriquecer los datos"
   ]
  },
  {
   "cell_type": "code",
   "execution_count": 17,
   "metadata": {
    "id": "zYEXZac10q1C",
    "trusted": false
   },
   "outputs": [
    {
     "name": "stdout",
     "output_type": "stream",
     "text": [
      "<class 'pandas.core.frame.DataFrame'>\n",
      "RangeIndex: 76051 entries, 0 to 76050\n",
      "Data columns (total 4 columns):\n",
      " #   Column        Non-Null Count  Dtype         \n",
      "---  ------        --------------  -----         \n",
      " 0   id            76051 non-null  object        \n",
      " 1   user_id       76051 non-null  int64         \n",
      " 2   message_date  76051 non-null  datetime64[ns]\n",
      " 3   month         76051 non-null  int64         \n",
      "dtypes: datetime64[ns](1), int64(2), object(1)\n",
      "memory usage: 2.3+ MB\n",
      "\n"
     ]
    },
    {
     "data": {
      "text/html": [
       "<div>\n",
       "<style scoped>\n",
       "    .dataframe tbody tr th:only-of-type {\n",
       "        vertical-align: middle;\n",
       "    }\n",
       "\n",
       "    .dataframe tbody tr th {\n",
       "        vertical-align: top;\n",
       "    }\n",
       "\n",
       "    .dataframe thead th {\n",
       "        text-align: right;\n",
       "    }\n",
       "</style>\n",
       "<table border=\"1\" class=\"dataframe\">\n",
       "  <thead>\n",
       "    <tr style=\"text-align: right;\">\n",
       "      <th></th>\n",
       "      <th>id</th>\n",
       "      <th>user_id</th>\n",
       "      <th>message_date</th>\n",
       "      <th>month</th>\n",
       "    </tr>\n",
       "  </thead>\n",
       "  <tbody>\n",
       "    <tr>\n",
       "      <th>0</th>\n",
       "      <td>1000_125</td>\n",
       "      <td>1000</td>\n",
       "      <td>2018-12-27</td>\n",
       "      <td>12</td>\n",
       "    </tr>\n",
       "    <tr>\n",
       "      <th>1</th>\n",
       "      <td>1000_160</td>\n",
       "      <td>1000</td>\n",
       "      <td>2018-12-31</td>\n",
       "      <td>12</td>\n",
       "    </tr>\n",
       "    <tr>\n",
       "      <th>2</th>\n",
       "      <td>1000_223</td>\n",
       "      <td>1000</td>\n",
       "      <td>2018-12-31</td>\n",
       "      <td>12</td>\n",
       "    </tr>\n",
       "    <tr>\n",
       "      <th>3</th>\n",
       "      <td>1000_251</td>\n",
       "      <td>1000</td>\n",
       "      <td>2018-12-27</td>\n",
       "      <td>12</td>\n",
       "    </tr>\n",
       "    <tr>\n",
       "      <th>4</th>\n",
       "      <td>1000_255</td>\n",
       "      <td>1000</td>\n",
       "      <td>2018-12-26</td>\n",
       "      <td>12</td>\n",
       "    </tr>\n",
       "  </tbody>\n",
       "</table>\n",
       "</div>"
      ],
      "text/plain": [
       "         id  user_id message_date  month\n",
       "0  1000_125     1000   2018-12-27     12\n",
       "1  1000_160     1000   2018-12-31     12\n",
       "2  1000_223     1000   2018-12-31     12\n",
       "3  1000_251     1000   2018-12-27     12\n",
       "4  1000_255     1000   2018-12-26     12"
      ]
     },
     "execution_count": 17,
     "metadata": {},
     "output_type": "execute_result"
    }
   ],
   "source": [
    "meg_meg['month'] = meg_meg['message_date'].dt.month\n",
    "\n",
    "meg_meg.info()\n",
    "print()\n",
    "meg_meg.head()"
   ]
  },
  {
   "cell_type": "markdown",
   "metadata": {
    "id": "bStkaxn40q1C"
   },
   "source": [
    "## Internet"
   ]
  },
  {
   "cell_type": "code",
   "execution_count": 18,
   "metadata": {
    "id": "e-Uz5qyn0q1C",
    "trusted": false
   },
   "outputs": [
    {
     "name": "stdout",
     "output_type": "stream",
     "text": [
      "<class 'pandas.core.frame.DataFrame'>\n",
      "RangeIndex: 104825 entries, 0 to 104824\n",
      "Data columns (total 4 columns):\n",
      " #   Column        Non-Null Count   Dtype  \n",
      "---  ------        --------------   -----  \n",
      " 0   id            104825 non-null  object \n",
      " 1   user_id       104825 non-null  int64  \n",
      " 2   session_date  104825 non-null  object \n",
      " 3   mb_used       104825 non-null  float64\n",
      "dtypes: float64(1), int64(1), object(2)\n",
      "memory usage: 3.2+ MB\n"
     ]
    }
   ],
   "source": [
    "meg_int.info()# Imprime la información general/resumida sobre el DataFrame de internet"
   ]
  },
  {
   "cell_type": "code",
   "execution_count": 19,
   "metadata": {
    "id": "9r3x_XLw0q1C",
    "trusted": false
   },
   "outputs": [
    {
     "name": "stdout",
     "output_type": "stream",
     "text": [
      "<class 'pandas.core.frame.DataFrame'>\n",
      "RangeIndex: 104825 entries, 0 to 104824\n",
      "Data columns (total 4 columns):\n",
      " #   Column        Non-Null Count   Dtype         \n",
      "---  ------        --------------   -----         \n",
      " 0   id            104825 non-null  object        \n",
      " 1   user_id       104825 non-null  int64         \n",
      " 2   session_date  104825 non-null  datetime64[ns]\n",
      " 3   mb_used       104825 non-null  float64       \n",
      "dtypes: datetime64[ns](1), float64(1), int64(1), object(1)\n",
      "memory usage: 3.2+ MB\n",
      "\n"
     ]
    },
    {
     "data": {
      "text/html": [
       "<div>\n",
       "<style scoped>\n",
       "    .dataframe tbody tr th:only-of-type {\n",
       "        vertical-align: middle;\n",
       "    }\n",
       "\n",
       "    .dataframe tbody tr th {\n",
       "        vertical-align: top;\n",
       "    }\n",
       "\n",
       "    .dataframe thead th {\n",
       "        text-align: right;\n",
       "    }\n",
       "</style>\n",
       "<table border=\"1\" class=\"dataframe\">\n",
       "  <thead>\n",
       "    <tr style=\"text-align: right;\">\n",
       "      <th></th>\n",
       "      <th>id</th>\n",
       "      <th>user_id</th>\n",
       "      <th>session_date</th>\n",
       "      <th>mb_used</th>\n",
       "    </tr>\n",
       "  </thead>\n",
       "  <tbody>\n",
       "    <tr>\n",
       "      <th>0</th>\n",
       "      <td>1000_13</td>\n",
       "      <td>1000</td>\n",
       "      <td>2018-12-29</td>\n",
       "      <td>89.86</td>\n",
       "    </tr>\n",
       "    <tr>\n",
       "      <th>1</th>\n",
       "      <td>1000_204</td>\n",
       "      <td>1000</td>\n",
       "      <td>2018-12-31</td>\n",
       "      <td>0.00</td>\n",
       "    </tr>\n",
       "    <tr>\n",
       "      <th>2</th>\n",
       "      <td>1000_379</td>\n",
       "      <td>1000</td>\n",
       "      <td>2018-12-28</td>\n",
       "      <td>660.40</td>\n",
       "    </tr>\n",
       "    <tr>\n",
       "      <th>3</th>\n",
       "      <td>1000_413</td>\n",
       "      <td>1000</td>\n",
       "      <td>2018-12-26</td>\n",
       "      <td>270.99</td>\n",
       "    </tr>\n",
       "    <tr>\n",
       "      <th>4</th>\n",
       "      <td>1000_442</td>\n",
       "      <td>1000</td>\n",
       "      <td>2018-12-27</td>\n",
       "      <td>880.22</td>\n",
       "    </tr>\n",
       "  </tbody>\n",
       "</table>\n",
       "</div>"
      ],
      "text/plain": [
       "         id  user_id session_date  mb_used\n",
       "0   1000_13     1000   2018-12-29    89.86\n",
       "1  1000_204     1000   2018-12-31     0.00\n",
       "2  1000_379     1000   2018-12-28   660.40\n",
       "3  1000_413     1000   2018-12-26   270.99\n",
       "4  1000_442     1000   2018-12-27   880.22"
      ]
     },
     "execution_count": 19,
     "metadata": {},
     "output_type": "execute_result"
    }
   ],
   "source": [
    "meg_int['session_date'] = pd.to_datetime(meg_int['session_date'])\n",
    "meg_int.info()\n",
    "print()\n",
    "meg_int.head()# Imprime una muestra de datos para el tráfico de internet"
   ]
  },
  {
   "cell_type": "markdown",
   "metadata": {
    "id": "EzOG5ik30q1D"
   },
   "source": [
    "[Describe lo que ves y observas en la información general y en la muestra de datos impresa para el precio de datos anterior. ¿Hay algún problema (tipos de datos no adecuados, datos ausentes, etc.) que pudieran necesitar investigación y cambios adicionales? ¿Cómo se puede arreglar?]"
   ]
  },
  {
   "cell_type": "markdown",
   "metadata": {},
   "source": [
    "CAMBIAR EL NOMBRE DE ID A MESSAGE, SEPARARA EL MES DE LA FECHA Y CAMBIARLO A DATETIME"
   ]
  },
  {
   "cell_type": "markdown",
   "metadata": {
    "id": "yA0tkPFg0q1D"
   },
   "source": [
    "### Corregir los datos"
   ]
  },
  {
   "cell_type": "markdown",
   "metadata": {
    "id": "zlZMuIEK0q1D"
   },
   "source": [
    "[Corrige los problemas obvios con los datos basándote en las observaciones iniciales.]"
   ]
  },
  {
   "cell_type": "code",
   "execution_count": 20,
   "metadata": {
    "id": "zVeanzdd0q1E",
    "trusted": false
   },
   "outputs": [
    {
     "name": "stdout",
     "output_type": "stream",
     "text": [
      "0\n",
      "\n",
      "id              0\n",
      "user_id         0\n",
      "session_date    0\n",
      "mb_used         0\n",
      "dtype: int64\n",
      "<class 'pandas.core.frame.DataFrame'>\n",
      "RangeIndex: 104825 entries, 0 to 104824\n",
      "Data columns (total 4 columns):\n",
      " #   Column        Non-Null Count   Dtype         \n",
      "---  ------        --------------   -----         \n",
      " 0   id            104825 non-null  object        \n",
      " 1   user_id       104825 non-null  int64         \n",
      " 2   session_date  104825 non-null  datetime64[ns]\n",
      " 3   mb_used       104825 non-null  float64       \n",
      "dtypes: datetime64[ns](1), float64(1), int64(1), object(1)\n",
      "memory usage: 3.2+ MB\n"
     ]
    }
   ],
   "source": [
    "print(meg_int.duplicated().sum())\n",
    "print()\n",
    "print(meg_int.isna().sum())\n",
    "meg_int.info()"
   ]
  },
  {
   "cell_type": "markdown",
   "metadata": {
    "id": "e8_mLF4a0q1E"
   },
   "source": [
    "### Enriquecer los datos"
   ]
  },
  {
   "cell_type": "markdown",
   "metadata": {
    "id": "xhNdn2tE0q1E"
   },
   "source": [
    "[Agrega factores adicionales a los datos si crees que pudieran ser útiles.]"
   ]
  },
  {
   "cell_type": "code",
   "execution_count": 21,
   "metadata": {
    "id": "ESiYPIEK0q1E",
    "trusted": false
   },
   "outputs": [
    {
     "name": "stdout",
     "output_type": "stream",
     "text": [
      "<class 'pandas.core.frame.DataFrame'>\n",
      "RangeIndex: 104825 entries, 0 to 104824\n",
      "Data columns (total 5 columns):\n",
      " #   Column        Non-Null Count   Dtype         \n",
      "---  ------        --------------   -----         \n",
      " 0   id            104825 non-null  object        \n",
      " 1   user_id       104825 non-null  int64         \n",
      " 2   session_date  104825 non-null  datetime64[ns]\n",
      " 3   mb_used       104825 non-null  float64       \n",
      " 4   month         104825 non-null  int64         \n",
      "dtypes: datetime64[ns](1), float64(1), int64(2), object(1)\n",
      "memory usage: 4.0+ MB\n",
      "\n"
     ]
    },
    {
     "data": {
      "text/html": [
       "<div>\n",
       "<style scoped>\n",
       "    .dataframe tbody tr th:only-of-type {\n",
       "        vertical-align: middle;\n",
       "    }\n",
       "\n",
       "    .dataframe tbody tr th {\n",
       "        vertical-align: top;\n",
       "    }\n",
       "\n",
       "    .dataframe thead th {\n",
       "        text-align: right;\n",
       "    }\n",
       "</style>\n",
       "<table border=\"1\" class=\"dataframe\">\n",
       "  <thead>\n",
       "    <tr style=\"text-align: right;\">\n",
       "      <th></th>\n",
       "      <th>id</th>\n",
       "      <th>user_id</th>\n",
       "      <th>session_date</th>\n",
       "      <th>mb_used</th>\n",
       "      <th>month</th>\n",
       "    </tr>\n",
       "  </thead>\n",
       "  <tbody>\n",
       "    <tr>\n",
       "      <th>0</th>\n",
       "      <td>1000_13</td>\n",
       "      <td>1000</td>\n",
       "      <td>2018-12-29</td>\n",
       "      <td>89.86</td>\n",
       "      <td>12</td>\n",
       "    </tr>\n",
       "    <tr>\n",
       "      <th>1</th>\n",
       "      <td>1000_204</td>\n",
       "      <td>1000</td>\n",
       "      <td>2018-12-31</td>\n",
       "      <td>0.00</td>\n",
       "      <td>12</td>\n",
       "    </tr>\n",
       "    <tr>\n",
       "      <th>2</th>\n",
       "      <td>1000_379</td>\n",
       "      <td>1000</td>\n",
       "      <td>2018-12-28</td>\n",
       "      <td>660.40</td>\n",
       "      <td>12</td>\n",
       "    </tr>\n",
       "    <tr>\n",
       "      <th>3</th>\n",
       "      <td>1000_413</td>\n",
       "      <td>1000</td>\n",
       "      <td>2018-12-26</td>\n",
       "      <td>270.99</td>\n",
       "      <td>12</td>\n",
       "    </tr>\n",
       "    <tr>\n",
       "      <th>4</th>\n",
       "      <td>1000_442</td>\n",
       "      <td>1000</td>\n",
       "      <td>2018-12-27</td>\n",
       "      <td>880.22</td>\n",
       "      <td>12</td>\n",
       "    </tr>\n",
       "  </tbody>\n",
       "</table>\n",
       "</div>"
      ],
      "text/plain": [
       "         id  user_id session_date  mb_used  month\n",
       "0   1000_13     1000   2018-12-29    89.86     12\n",
       "1  1000_204     1000   2018-12-31     0.00     12\n",
       "2  1000_379     1000   2018-12-28   660.40     12\n",
       "3  1000_413     1000   2018-12-26   270.99     12\n",
       "4  1000_442     1000   2018-12-27   880.22     12"
      ]
     },
     "execution_count": 21,
     "metadata": {},
     "output_type": "execute_result"
    }
   ],
   "source": [
    "meg_int['month'] = meg_int['session_date'].dt.month\n",
    "\n",
    "meg_int.info()\n",
    "print()\n",
    "meg_int.head()"
   ]
  },
  {
   "cell_type": "markdown",
   "metadata": {
    "id": "3UA2cqIW0q1E"
   },
   "source": [
    "## Estudiar las condiciones de las tarifas"
   ]
  },
  {
   "cell_type": "markdown",
   "metadata": {
    "id": "T86Sqltq0q1F"
   },
   "source": [
    "[Es sumamente importante entender cómo funcionan las tarifas, cómo se les cobra a los usuarios en función de su plan de suscripción. Así que te sugerimos imprimir la información de la tarifa para ver una vez más sus condiciones.]"
   ]
  },
  {
   "cell_type": "code",
   "execution_count": 22,
   "metadata": {
    "id": "i409op8p0q1F",
    "trusted": false
   },
   "outputs": [
    {
     "name": "stdout",
     "output_type": "stream",
     "text": [
      "\n",
      "Surf:\n",
      "- Pago mensual: $20\n",
      "- Minutos incluidos: 500\n",
      "- SMS incluidos: 50\n",
      "- Datos incluidos: 15GB\n",
      "- Costo por minuto adicional: $0.03\n",
      "- Costo por SMS adicional: $0.03\n",
      "- Costo por GB adicional: $10\n",
      "\n",
      "Ultimate:\n",
      "- Pago mensual: $70\n",
      "- Minutos incluidos: 3000\n",
      "- SMS incluidos: 1000\n",
      "- Datos incluidos: 30GB\n",
      "- Costo por minuto adicional: $0.01\n",
      "- Costo por SMS adicional: $0.01\n",
      "- Costo por GB adicional: $7\n"
     ]
    }
   ],
   "source": [
    "# Definición del diccionario de tarifas\n",
    "tarifas = {\n",
    "    \"Surf\": {\n",
    "        \"Pago mensual\": \"$20\",\n",
    "        \"Minutos incluidos\": \"500\",\n",
    "        \"SMS incluidos\": \"50\",\n",
    "        \"Datos incluidos\": \"15GB\",\n",
    "        \"Costo por minuto adicional\": \"$0.03\",\n",
    "        \"Costo por SMS adicional\": \"$0.03\",\n",
    "        \"Costo por GB adicional\": \"$10\"\n",
    "    },\n",
    "    \"Ultimate\": {\n",
    "        \"Pago mensual\": \"$70\",\n",
    "        \"Minutos incluidos\": \"3000\",\n",
    "        \"SMS incluidos\": \"1000\",\n",
    "        \"Datos incluidos\": \"30GB\",\n",
    "        \"Costo por minuto adicional\": \"$0.01\",\n",
    "        \"Costo por SMS adicional\": \"$0.01\",\n",
    "        \"Costo por GB adicional\": \"$7\"\n",
    "    }\n",
    "}\n",
    "\n",
    "# Impresión directa de las condiciones\n",
    "print(\"\\nSurf:\")\n",
    "print(\"- Pago mensual: $20\")\n",
    "print(\"- Minutos incluidos: 500\")\n",
    "print(\"- SMS incluidos: 50\")\n",
    "print(\"- Datos incluidos: 15GB\")\n",
    "print(\"- Costo por minuto adicional: $0.03\")\n",
    "print(\"- Costo por SMS adicional: $0.03\")\n",
    "print(\"- Costo por GB adicional: $10\")\n",
    "\n",
    "print(\"\\nUltimate:\")\n",
    "print(\"- Pago mensual: $70\")\n",
    "print(\"- Minutos incluidos: 3000\")\n",
    "print(\"- SMS incluidos: 1000\")\n",
    "print(\"- Datos incluidos: 30GB\")\n",
    "print(\"- Costo por minuto adicional: $0.01\")\n",
    "print(\"- Costo por SMS adicional: $0.01\")\n",
    "print(\"- Costo por GB adicional: $7\")\n",
    "\n"
   ]
  },
  {
   "cell_type": "markdown",
   "metadata": {
    "id": "hMR1tP5d0q1F"
   },
   "source": [
    "## Agregar datos por usuario\n",
    "\n",
    "[Ahora que los datos están limpios, agrega los datos por usuario y por periodo para que solo haya un registro por usuario y por periodo. Esto facilitará mucho el análisis posterior.]"
   ]
  },
  {
   "cell_type": "code",
   "execution_count": 23,
   "metadata": {
    "id": "A332cedB0q1G",
    "trusted": false
   },
   "outputs": [
    {
     "data": {
      "text/html": [
       "<div>\n",
       "<style scoped>\n",
       "    .dataframe tbody tr th:only-of-type {\n",
       "        vertical-align: middle;\n",
       "    }\n",
       "\n",
       "    .dataframe tbody tr th {\n",
       "        vertical-align: top;\n",
       "    }\n",
       "\n",
       "    .dataframe thead th {\n",
       "        text-align: right;\n",
       "    }\n",
       "</style>\n",
       "<table border=\"1\" class=\"dataframe\">\n",
       "  <thead>\n",
       "    <tr style=\"text-align: right;\">\n",
       "      <th></th>\n",
       "      <th>user_id</th>\n",
       "      <th>month</th>\n",
       "      <th>call_count</th>\n",
       "    </tr>\n",
       "  </thead>\n",
       "  <tbody>\n",
       "    <tr>\n",
       "      <th>0</th>\n",
       "      <td>1000</td>\n",
       "      <td>12</td>\n",
       "      <td>16</td>\n",
       "    </tr>\n",
       "    <tr>\n",
       "      <th>1</th>\n",
       "      <td>1001</td>\n",
       "      <td>8</td>\n",
       "      <td>27</td>\n",
       "    </tr>\n",
       "    <tr>\n",
       "      <th>2</th>\n",
       "      <td>1001</td>\n",
       "      <td>9</td>\n",
       "      <td>49</td>\n",
       "    </tr>\n",
       "    <tr>\n",
       "      <th>3</th>\n",
       "      <td>1001</td>\n",
       "      <td>10</td>\n",
       "      <td>65</td>\n",
       "    </tr>\n",
       "    <tr>\n",
       "      <th>4</th>\n",
       "      <td>1001</td>\n",
       "      <td>11</td>\n",
       "      <td>64</td>\n",
       "    </tr>\n",
       "  </tbody>\n",
       "</table>\n",
       "</div>"
      ],
      "text/plain": [
       "   user_id  month  call_count\n",
       "0     1000     12          16\n",
       "1     1001      8          27\n",
       "2     1001      9          49\n",
       "3     1001     10          65\n",
       "4     1001     11          64"
      ]
     },
     "execution_count": 23,
     "metadata": {},
     "output_type": "execute_result"
    }
   ],
   "source": [
    "call_user = meg_cal.groupby(['user_id', 'month']).size().reset_index(name='call_count')\n",
    "call_user.head()\n",
    "# Calcula el número de llamadas hechas por cada usuario al mes. Guarda el resultado."
   ]
  },
  {
   "cell_type": "markdown",
   "metadata": {},
   "source": [
    "Gracias, utilice groupby como en la clase el intructor lo recomendo, pero tambien seria una buena opcion, utilizar pivot"
   ]
  },
  {
   "cell_type": "code",
   "execution_count": 24,
   "metadata": {
    "id": "aw2cmuql0q1G",
    "scrolled": true,
    "trusted": false
   },
   "outputs": [
    {
     "data": {
      "text/html": [
       "<div>\n",
       "<style scoped>\n",
       "    .dataframe tbody tr th:only-of-type {\n",
       "        vertical-align: middle;\n",
       "    }\n",
       "\n",
       "    .dataframe tbody tr th {\n",
       "        vertical-align: top;\n",
       "    }\n",
       "\n",
       "    .dataframe thead th {\n",
       "        text-align: right;\n",
       "    }\n",
       "</style>\n",
       "<table border=\"1\" class=\"dataframe\">\n",
       "  <thead>\n",
       "    <tr style=\"text-align: right;\">\n",
       "      <th></th>\n",
       "      <th>user_id</th>\n",
       "      <th>month</th>\n",
       "      <th>duration</th>\n",
       "    </tr>\n",
       "  </thead>\n",
       "  <tbody>\n",
       "    <tr>\n",
       "      <th>0</th>\n",
       "      <td>1000</td>\n",
       "      <td>12</td>\n",
       "      <td>116.83</td>\n",
       "    </tr>\n",
       "    <tr>\n",
       "      <th>1</th>\n",
       "      <td>1001</td>\n",
       "      <td>8</td>\n",
       "      <td>171.14</td>\n",
       "    </tr>\n",
       "    <tr>\n",
       "      <th>2</th>\n",
       "      <td>1001</td>\n",
       "      <td>9</td>\n",
       "      <td>297.69</td>\n",
       "    </tr>\n",
       "    <tr>\n",
       "      <th>3</th>\n",
       "      <td>1001</td>\n",
       "      <td>10</td>\n",
       "      <td>374.11</td>\n",
       "    </tr>\n",
       "    <tr>\n",
       "      <th>4</th>\n",
       "      <td>1001</td>\n",
       "      <td>11</td>\n",
       "      <td>404.59</td>\n",
       "    </tr>\n",
       "  </tbody>\n",
       "</table>\n",
       "</div>"
      ],
      "text/plain": [
       "   user_id  month  duration\n",
       "0     1000     12    116.83\n",
       "1     1001      8    171.14\n",
       "2     1001      9    297.69\n",
       "3     1001     10    374.11\n",
       "4     1001     11    404.59"
      ]
     },
     "execution_count": 24,
     "metadata": {},
     "output_type": "execute_result"
    }
   ],
   "source": [
    "call_user_min = meg_cal.groupby(['user_id', 'month'])['duration'].sum().reset_index()\n",
    "call_user_min.head()\n",
    "# Calcula la cantidad de minutos usados por cada usuario al mes. Guarda el resultado."
   ]
  },
  {
   "cell_type": "code",
   "execution_count": 25,
   "metadata": {
    "id": "CcQvNHn60q1G",
    "trusted": false
   },
   "outputs": [
    {
     "data": {
      "text/html": [
       "<div>\n",
       "<style scoped>\n",
       "    .dataframe tbody tr th:only-of-type {\n",
       "        vertical-align: middle;\n",
       "    }\n",
       "\n",
       "    .dataframe tbody tr th {\n",
       "        vertical-align: top;\n",
       "    }\n",
       "\n",
       "    .dataframe thead th {\n",
       "        text-align: right;\n",
       "    }\n",
       "</style>\n",
       "<table border=\"1\" class=\"dataframe\">\n",
       "  <thead>\n",
       "    <tr style=\"text-align: right;\">\n",
       "      <th></th>\n",
       "      <th>user_id</th>\n",
       "      <th>month</th>\n",
       "      <th>id</th>\n",
       "    </tr>\n",
       "  </thead>\n",
       "  <tbody>\n",
       "    <tr>\n",
       "      <th>0</th>\n",
       "      <td>1000</td>\n",
       "      <td>12</td>\n",
       "      <td>11</td>\n",
       "    </tr>\n",
       "    <tr>\n",
       "      <th>1</th>\n",
       "      <td>1001</td>\n",
       "      <td>8</td>\n",
       "      <td>30</td>\n",
       "    </tr>\n",
       "    <tr>\n",
       "      <th>2</th>\n",
       "      <td>1001</td>\n",
       "      <td>9</td>\n",
       "      <td>44</td>\n",
       "    </tr>\n",
       "    <tr>\n",
       "      <th>3</th>\n",
       "      <td>1001</td>\n",
       "      <td>10</td>\n",
       "      <td>53</td>\n",
       "    </tr>\n",
       "    <tr>\n",
       "      <th>4</th>\n",
       "      <td>1001</td>\n",
       "      <td>11</td>\n",
       "      <td>36</td>\n",
       "    </tr>\n",
       "  </tbody>\n",
       "</table>\n",
       "</div>"
      ],
      "text/plain": [
       "   user_id  month  id\n",
       "0     1000     12  11\n",
       "1     1001      8  30\n",
       "2     1001      9  44\n",
       "3     1001     10  53\n",
       "4     1001     11  36"
      ]
     },
     "execution_count": 25,
     "metadata": {},
     "output_type": "execute_result"
    }
   ],
   "source": [
    "messages_user = meg_meg.groupby(['user_id', 'month'])['id'].count().reset_index()\n",
    "messages_user.head()\n",
    "# Calcula el número de mensajes enviados por cada usuario al mes. Guarda el resultado."
   ]
  },
  {
   "cell_type": "code",
   "execution_count": 26,
   "metadata": {
    "id": "H1AqN2eG0q1H",
    "trusted": false
   },
   "outputs": [
    {
     "data": {
      "text/html": [
       "<div>\n",
       "<style scoped>\n",
       "    .dataframe tbody tr th:only-of-type {\n",
       "        vertical-align: middle;\n",
       "    }\n",
       "\n",
       "    .dataframe tbody tr th {\n",
       "        vertical-align: top;\n",
       "    }\n",
       "\n",
       "    .dataframe thead th {\n",
       "        text-align: right;\n",
       "    }\n",
       "</style>\n",
       "<table border=\"1\" class=\"dataframe\">\n",
       "  <thead>\n",
       "    <tr style=\"text-align: right;\">\n",
       "      <th></th>\n",
       "      <th>user_id</th>\n",
       "      <th>month</th>\n",
       "      <th>mb_used</th>\n",
       "    </tr>\n",
       "  </thead>\n",
       "  <tbody>\n",
       "    <tr>\n",
       "      <th>0</th>\n",
       "      <td>1000</td>\n",
       "      <td>12</td>\n",
       "      <td>1901.47</td>\n",
       "    </tr>\n",
       "    <tr>\n",
       "      <th>1</th>\n",
       "      <td>1001</td>\n",
       "      <td>8</td>\n",
       "      <td>6919.15</td>\n",
       "    </tr>\n",
       "    <tr>\n",
       "      <th>2</th>\n",
       "      <td>1001</td>\n",
       "      <td>9</td>\n",
       "      <td>13314.82</td>\n",
       "    </tr>\n",
       "    <tr>\n",
       "      <th>3</th>\n",
       "      <td>1001</td>\n",
       "      <td>10</td>\n",
       "      <td>22330.49</td>\n",
       "    </tr>\n",
       "    <tr>\n",
       "      <th>4</th>\n",
       "      <td>1001</td>\n",
       "      <td>11</td>\n",
       "      <td>18504.30</td>\n",
       "    </tr>\n",
       "  </tbody>\n",
       "</table>\n",
       "</div>"
      ],
      "text/plain": [
       "   user_id  month   mb_used\n",
       "0     1000     12   1901.47\n",
       "1     1001      8   6919.15\n",
       "2     1001      9  13314.82\n",
       "3     1001     10  22330.49\n",
       "4     1001     11  18504.30"
      ]
     },
     "execution_count": 26,
     "metadata": {},
     "output_type": "execute_result"
    }
   ],
   "source": [
    "internet_user = meg_int.groupby(['user_id', 'month'])['mb_used'].sum().reset_index()\n",
    "internet_user.head()\n",
    "# Calcula el volumen del tráfico de Internet usado por cada usuario al mes. Guarda el resultado."
   ]
  },
  {
   "cell_type": "markdown",
   "metadata": {
    "id": "VDfYXnj80q1H"
   },
   "source": [
    "[Junta los datos agregados en un DataFrame para que haya un registro que represente lo que consumió un usuario único en un mes determinado.]"
   ]
  },
  {
   "cell_type": "code",
   "execution_count": 27,
   "metadata": {
    "scrolled": true,
    "trusted": false
   },
   "outputs": [
    {
     "data": {
      "text/html": [
       "<div>\n",
       "<style scoped>\n",
       "    .dataframe tbody tr th:only-of-type {\n",
       "        vertical-align: middle;\n",
       "    }\n",
       "\n",
       "    .dataframe tbody tr th {\n",
       "        vertical-align: top;\n",
       "    }\n",
       "\n",
       "    .dataframe thead th {\n",
       "        text-align: right;\n",
       "    }\n",
       "</style>\n",
       "<table border=\"1\" class=\"dataframe\">\n",
       "  <thead>\n",
       "    <tr style=\"text-align: right;\">\n",
       "      <th></th>\n",
       "      <th>user_id</th>\n",
       "      <th>plan</th>\n",
       "      <th>city</th>\n",
       "    </tr>\n",
       "  </thead>\n",
       "  <tbody>\n",
       "    <tr>\n",
       "      <th>0</th>\n",
       "      <td>1000</td>\n",
       "      <td>ultimate</td>\n",
       "      <td>Atlanta-Sandy Springs-Roswell, GA MSA</td>\n",
       "    </tr>\n",
       "    <tr>\n",
       "      <th>1</th>\n",
       "      <td>1001</td>\n",
       "      <td>surf</td>\n",
       "      <td>Seattle-Tacoma-Bellevue, WA MSA</td>\n",
       "    </tr>\n",
       "    <tr>\n",
       "      <th>2</th>\n",
       "      <td>1002</td>\n",
       "      <td>surf</td>\n",
       "      <td>Las Vegas-Henderson-Paradise, NV MSA</td>\n",
       "    </tr>\n",
       "    <tr>\n",
       "      <th>3</th>\n",
       "      <td>1003</td>\n",
       "      <td>surf</td>\n",
       "      <td>Tulsa, OK MSA</td>\n",
       "    </tr>\n",
       "    <tr>\n",
       "      <th>4</th>\n",
       "      <td>1004</td>\n",
       "      <td>surf</td>\n",
       "      <td>Seattle-Tacoma-Bellevue, WA MSA</td>\n",
       "    </tr>\n",
       "  </tbody>\n",
       "</table>\n",
       "</div>"
      ],
      "text/plain": [
       "   user_id      plan                                   city\n",
       "0     1000  ultimate  Atlanta-Sandy Springs-Roswell, GA MSA\n",
       "1     1001      surf        Seattle-Tacoma-Bellevue, WA MSA\n",
       "2     1002      surf   Las Vegas-Henderson-Paradise, NV MSA\n",
       "3     1003      surf                          Tulsa, OK MSA\n",
       "4     1004      surf        Seattle-Tacoma-Bellevue, WA MSA"
      ]
     },
     "execution_count": 27,
     "metadata": {},
     "output_type": "execute_result"
    }
   ],
   "source": [
    "user_plan = meg_use[['user_id', 'plan', 'city']]\n",
    "user_plan.head()"
   ]
  },
  {
   "cell_type": "code",
   "execution_count": 28,
   "metadata": {
    "scrolled": true,
    "trusted": false
   },
   "outputs": [
    {
     "data": {
      "text/html": [
       "<div>\n",
       "<style scoped>\n",
       "    .dataframe tbody tr th:only-of-type {\n",
       "        vertical-align: middle;\n",
       "    }\n",
       "\n",
       "    .dataframe tbody tr th {\n",
       "        vertical-align: top;\n",
       "    }\n",
       "\n",
       "    .dataframe thead th {\n",
       "        text-align: right;\n",
       "    }\n",
       "</style>\n",
       "<table border=\"1\" class=\"dataframe\">\n",
       "  <thead>\n",
       "    <tr style=\"text-align: right;\">\n",
       "      <th></th>\n",
       "      <th>user_id</th>\n",
       "      <th>month</th>\n",
       "      <th>duration</th>\n",
       "      <th>plan</th>\n",
       "      <th>city</th>\n",
       "    </tr>\n",
       "  </thead>\n",
       "  <tbody>\n",
       "    <tr>\n",
       "      <th>0</th>\n",
       "      <td>1000</td>\n",
       "      <td>12</td>\n",
       "      <td>116.83</td>\n",
       "      <td>ultimate</td>\n",
       "      <td>Atlanta-Sandy Springs-Roswell, GA MSA</td>\n",
       "    </tr>\n",
       "    <tr>\n",
       "      <th>1</th>\n",
       "      <td>1001</td>\n",
       "      <td>8</td>\n",
       "      <td>171.14</td>\n",
       "      <td>surf</td>\n",
       "      <td>Seattle-Tacoma-Bellevue, WA MSA</td>\n",
       "    </tr>\n",
       "    <tr>\n",
       "      <th>2</th>\n",
       "      <td>1001</td>\n",
       "      <td>9</td>\n",
       "      <td>297.69</td>\n",
       "      <td>surf</td>\n",
       "      <td>Seattle-Tacoma-Bellevue, WA MSA</td>\n",
       "    </tr>\n",
       "    <tr>\n",
       "      <th>3</th>\n",
       "      <td>1001</td>\n",
       "      <td>10</td>\n",
       "      <td>374.11</td>\n",
       "      <td>surf</td>\n",
       "      <td>Seattle-Tacoma-Bellevue, WA MSA</td>\n",
       "    </tr>\n",
       "    <tr>\n",
       "      <th>4</th>\n",
       "      <td>1001</td>\n",
       "      <td>11</td>\n",
       "      <td>404.59</td>\n",
       "      <td>surf</td>\n",
       "      <td>Seattle-Tacoma-Bellevue, WA MSA</td>\n",
       "    </tr>\n",
       "  </tbody>\n",
       "</table>\n",
       "</div>"
      ],
      "text/plain": [
       "   user_id  month  duration      plan                                   city\n",
       "0     1000     12    116.83  ultimate  Atlanta-Sandy Springs-Roswell, GA MSA\n",
       "1     1001      8    171.14      surf        Seattle-Tacoma-Bellevue, WA MSA\n",
       "2     1001      9    297.69      surf        Seattle-Tacoma-Bellevue, WA MSA\n",
       "3     1001     10    374.11      surf        Seattle-Tacoma-Bellevue, WA MSA\n",
       "4     1001     11    404.59      surf        Seattle-Tacoma-Bellevue, WA MSA"
      ]
     },
     "execution_count": 28,
     "metadata": {},
     "output_type": "execute_result"
    }
   ],
   "source": [
    "call_user_min = call_user_min.merge(user_plan, on='user_id', how='left')\n",
    "call_user_min.head()"
   ]
  },
  {
   "cell_type": "code",
   "execution_count": 29,
   "metadata": {
    "trusted": false
   },
   "outputs": [
    {
     "data": {
      "text/html": [
       "<div>\n",
       "<style scoped>\n",
       "    .dataframe tbody tr th:only-of-type {\n",
       "        vertical-align: middle;\n",
       "    }\n",
       "\n",
       "    .dataframe tbody tr th {\n",
       "        vertical-align: top;\n",
       "    }\n",
       "\n",
       "    .dataframe thead th {\n",
       "        text-align: right;\n",
       "    }\n",
       "</style>\n",
       "<table border=\"1\" class=\"dataframe\">\n",
       "  <thead>\n",
       "    <tr style=\"text-align: right;\">\n",
       "      <th></th>\n",
       "      <th>user_id</th>\n",
       "      <th>month</th>\n",
       "      <th>id</th>\n",
       "      <th>plan</th>\n",
       "      <th>city</th>\n",
       "    </tr>\n",
       "  </thead>\n",
       "  <tbody>\n",
       "    <tr>\n",
       "      <th>0</th>\n",
       "      <td>1000</td>\n",
       "      <td>12</td>\n",
       "      <td>11</td>\n",
       "      <td>ultimate</td>\n",
       "      <td>Atlanta-Sandy Springs-Roswell, GA MSA</td>\n",
       "    </tr>\n",
       "    <tr>\n",
       "      <th>1</th>\n",
       "      <td>1001</td>\n",
       "      <td>8</td>\n",
       "      <td>30</td>\n",
       "      <td>surf</td>\n",
       "      <td>Seattle-Tacoma-Bellevue, WA MSA</td>\n",
       "    </tr>\n",
       "    <tr>\n",
       "      <th>2</th>\n",
       "      <td>1001</td>\n",
       "      <td>9</td>\n",
       "      <td>44</td>\n",
       "      <td>surf</td>\n",
       "      <td>Seattle-Tacoma-Bellevue, WA MSA</td>\n",
       "    </tr>\n",
       "    <tr>\n",
       "      <th>3</th>\n",
       "      <td>1001</td>\n",
       "      <td>10</td>\n",
       "      <td>53</td>\n",
       "      <td>surf</td>\n",
       "      <td>Seattle-Tacoma-Bellevue, WA MSA</td>\n",
       "    </tr>\n",
       "    <tr>\n",
       "      <th>4</th>\n",
       "      <td>1001</td>\n",
       "      <td>11</td>\n",
       "      <td>36</td>\n",
       "      <td>surf</td>\n",
       "      <td>Seattle-Tacoma-Bellevue, WA MSA</td>\n",
       "    </tr>\n",
       "  </tbody>\n",
       "</table>\n",
       "</div>"
      ],
      "text/plain": [
       "   user_id  month  id      plan                                   city\n",
       "0     1000     12  11  ultimate  Atlanta-Sandy Springs-Roswell, GA MSA\n",
       "1     1001      8  30      surf        Seattle-Tacoma-Bellevue, WA MSA\n",
       "2     1001      9  44      surf        Seattle-Tacoma-Bellevue, WA MSA\n",
       "3     1001     10  53      surf        Seattle-Tacoma-Bellevue, WA MSA\n",
       "4     1001     11  36      surf        Seattle-Tacoma-Bellevue, WA MSA"
      ]
     },
     "execution_count": 29,
     "metadata": {},
     "output_type": "execute_result"
    }
   ],
   "source": [
    "messages_user = messages_user.merge(user_plan, on='user_id', how='left')\n",
    "messages_user.head()"
   ]
  },
  {
   "cell_type": "code",
   "execution_count": 30,
   "metadata": {
    "scrolled": true,
    "trusted": false
   },
   "outputs": [
    {
     "data": {
      "text/html": [
       "<div>\n",
       "<style scoped>\n",
       "    .dataframe tbody tr th:only-of-type {\n",
       "        vertical-align: middle;\n",
       "    }\n",
       "\n",
       "    .dataframe tbody tr th {\n",
       "        vertical-align: top;\n",
       "    }\n",
       "\n",
       "    .dataframe thead th {\n",
       "        text-align: right;\n",
       "    }\n",
       "</style>\n",
       "<table border=\"1\" class=\"dataframe\">\n",
       "  <thead>\n",
       "    <tr style=\"text-align: right;\">\n",
       "      <th></th>\n",
       "      <th>user_id</th>\n",
       "      <th>month</th>\n",
       "      <th>mb_used</th>\n",
       "      <th>plan</th>\n",
       "      <th>city</th>\n",
       "    </tr>\n",
       "  </thead>\n",
       "  <tbody>\n",
       "    <tr>\n",
       "      <th>0</th>\n",
       "      <td>1000</td>\n",
       "      <td>12</td>\n",
       "      <td>1901.47</td>\n",
       "      <td>ultimate</td>\n",
       "      <td>Atlanta-Sandy Springs-Roswell, GA MSA</td>\n",
       "    </tr>\n",
       "    <tr>\n",
       "      <th>1</th>\n",
       "      <td>1001</td>\n",
       "      <td>8</td>\n",
       "      <td>6919.15</td>\n",
       "      <td>surf</td>\n",
       "      <td>Seattle-Tacoma-Bellevue, WA MSA</td>\n",
       "    </tr>\n",
       "    <tr>\n",
       "      <th>2</th>\n",
       "      <td>1001</td>\n",
       "      <td>9</td>\n",
       "      <td>13314.82</td>\n",
       "      <td>surf</td>\n",
       "      <td>Seattle-Tacoma-Bellevue, WA MSA</td>\n",
       "    </tr>\n",
       "    <tr>\n",
       "      <th>3</th>\n",
       "      <td>1001</td>\n",
       "      <td>10</td>\n",
       "      <td>22330.49</td>\n",
       "      <td>surf</td>\n",
       "      <td>Seattle-Tacoma-Bellevue, WA MSA</td>\n",
       "    </tr>\n",
       "    <tr>\n",
       "      <th>4</th>\n",
       "      <td>1001</td>\n",
       "      <td>11</td>\n",
       "      <td>18504.30</td>\n",
       "      <td>surf</td>\n",
       "      <td>Seattle-Tacoma-Bellevue, WA MSA</td>\n",
       "    </tr>\n",
       "  </tbody>\n",
       "</table>\n",
       "</div>"
      ],
      "text/plain": [
       "   user_id  month   mb_used      plan                                   city\n",
       "0     1000     12   1901.47  ultimate  Atlanta-Sandy Springs-Roswell, GA MSA\n",
       "1     1001      8   6919.15      surf        Seattle-Tacoma-Bellevue, WA MSA\n",
       "2     1001      9  13314.82      surf        Seattle-Tacoma-Bellevue, WA MSA\n",
       "3     1001     10  22330.49      surf        Seattle-Tacoma-Bellevue, WA MSA\n",
       "4     1001     11  18504.30      surf        Seattle-Tacoma-Bellevue, WA MSA"
      ]
     },
     "execution_count": 30,
     "metadata": {},
     "output_type": "execute_result"
    }
   ],
   "source": [
    "internet_user = internet_user.merge(user_plan, on='user_id', how='left')\n",
    "internet_user.head()"
   ]
  },
  {
   "cell_type": "code",
   "execution_count": 31,
   "metadata": {
    "trusted": false
   },
   "outputs": [
    {
     "data": {
      "text/html": [
       "<div>\n",
       "<style scoped>\n",
       "    .dataframe tbody tr th:only-of-type {\n",
       "        vertical-align: middle;\n",
       "    }\n",
       "\n",
       "    .dataframe tbody tr th {\n",
       "        vertical-align: top;\n",
       "    }\n",
       "\n",
       "    .dataframe thead th {\n",
       "        text-align: right;\n",
       "    }\n",
       "</style>\n",
       "<table border=\"1\" class=\"dataframe\">\n",
       "  <thead>\n",
       "    <tr style=\"text-align: right;\">\n",
       "      <th></th>\n",
       "      <th>user_id</th>\n",
       "      <th>month</th>\n",
       "      <th>duration</th>\n",
       "      <th>plan</th>\n",
       "      <th>id</th>\n",
       "      <th>mb_used</th>\n",
       "      <th>city</th>\n",
       "    </tr>\n",
       "  </thead>\n",
       "  <tbody>\n",
       "    <tr>\n",
       "      <th>0</th>\n",
       "      <td>1000</td>\n",
       "      <td>12</td>\n",
       "      <td>116.83</td>\n",
       "      <td>ultimate</td>\n",
       "      <td>11.0</td>\n",
       "      <td>1901.47</td>\n",
       "      <td>Atlanta-Sandy Springs-Roswell, GA MSA</td>\n",
       "    </tr>\n",
       "    <tr>\n",
       "      <th>1</th>\n",
       "      <td>1001</td>\n",
       "      <td>8</td>\n",
       "      <td>171.14</td>\n",
       "      <td>surf</td>\n",
       "      <td>30.0</td>\n",
       "      <td>6919.15</td>\n",
       "      <td>Seattle-Tacoma-Bellevue, WA MSA</td>\n",
       "    </tr>\n",
       "    <tr>\n",
       "      <th>2</th>\n",
       "      <td>1001</td>\n",
       "      <td>9</td>\n",
       "      <td>297.69</td>\n",
       "      <td>surf</td>\n",
       "      <td>44.0</td>\n",
       "      <td>13314.82</td>\n",
       "      <td>Seattle-Tacoma-Bellevue, WA MSA</td>\n",
       "    </tr>\n",
       "    <tr>\n",
       "      <th>3</th>\n",
       "      <td>1001</td>\n",
       "      <td>10</td>\n",
       "      <td>374.11</td>\n",
       "      <td>surf</td>\n",
       "      <td>53.0</td>\n",
       "      <td>22330.49</td>\n",
       "      <td>Seattle-Tacoma-Bellevue, WA MSA</td>\n",
       "    </tr>\n",
       "    <tr>\n",
       "      <th>4</th>\n",
       "      <td>1001</td>\n",
       "      <td>11</td>\n",
       "      <td>404.59</td>\n",
       "      <td>surf</td>\n",
       "      <td>36.0</td>\n",
       "      <td>18504.30</td>\n",
       "      <td>Seattle-Tacoma-Bellevue, WA MSA</td>\n",
       "    </tr>\n",
       "  </tbody>\n",
       "</table>\n",
       "</div>"
      ],
      "text/plain": [
       "   user_id  month  duration      plan    id   mb_used  \\\n",
       "0     1000     12    116.83  ultimate  11.0   1901.47   \n",
       "1     1001      8    171.14      surf  30.0   6919.15   \n",
       "2     1001      9    297.69      surf  44.0  13314.82   \n",
       "3     1001     10    374.11      surf  53.0  22330.49   \n",
       "4     1001     11    404.59      surf  36.0  18504.30   \n",
       "\n",
       "                                    city  \n",
       "0  Atlanta-Sandy Springs-Roswell, GA MSA  \n",
       "1        Seattle-Tacoma-Bellevue, WA MSA  \n",
       "2        Seattle-Tacoma-Bellevue, WA MSA  \n",
       "3        Seattle-Tacoma-Bellevue, WA MSA  \n",
       "4        Seattle-Tacoma-Bellevue, WA MSA  "
      ]
     },
     "execution_count": 31,
     "metadata": {},
     "output_type": "execute_result"
    }
   ],
   "source": [
    "df_user_month = call_user_min.merge(messages_user, on=['user_id', 'month','plan'], how='outer')\n",
    "df_user_month = df_user_month.merge(internet_user, on=['user_id', 'month','plan'], how='outer')\n",
    "df_user_month.drop(columns=['city_x', 'city_y'], inplace=True)\n",
    "df_user_month.head()\n",
    "# Fusiona los datos de llamadas, minutos, mensajes e Internet con base en user_id y month"
   ]
  },
  {
   "cell_type": "code",
   "execution_count": 32,
   "metadata": {
    "scrolled": true,
    "trusted": false
   },
   "outputs": [
    {
     "name": "stdout",
     "output_type": "stream",
     "text": [
      "<class 'pandas.core.frame.DataFrame'>\n",
      "Int64Index: 2293 entries, 0 to 2292\n",
      "Data columns (total 7 columns):\n",
      " #   Column    Non-Null Count  Dtype  \n",
      "---  ------    --------------  -----  \n",
      " 0   user_id   2293 non-null   int64  \n",
      " 1   month     2293 non-null   int64  \n",
      " 2   duration  2293 non-null   float64\n",
      " 3   plan      2293 non-null   object \n",
      " 4   id        2293 non-null   float64\n",
      " 5   mb_used   2293 non-null   float64\n",
      " 6   city      2293 non-null   object \n",
      "dtypes: float64(3), int64(2), object(2)\n",
      "memory usage: 143.3+ KB\n"
     ]
    }
   ],
   "source": [
    "df_user_month = df_user_month.fillna(0)\n",
    "df_user_month.info()"
   ]
  },
  {
   "cell_type": "code",
   "execution_count": 33,
   "metadata": {
    "trusted": false
   },
   "outputs": [
    {
     "data": {
      "text/html": [
       "<div>\n",
       "<style scoped>\n",
       "    .dataframe tbody tr th:only-of-type {\n",
       "        vertical-align: middle;\n",
       "    }\n",
       "\n",
       "    .dataframe tbody tr th {\n",
       "        vertical-align: top;\n",
       "    }\n",
       "\n",
       "    .dataframe thead th {\n",
       "        text-align: right;\n",
       "    }\n",
       "</style>\n",
       "<table border=\"1\" class=\"dataframe\">\n",
       "  <thead>\n",
       "    <tr style=\"text-align: right;\">\n",
       "      <th></th>\n",
       "      <th>user_id</th>\n",
       "      <th>month</th>\n",
       "      <th>duration</th>\n",
       "      <th>plan_name</th>\n",
       "      <th>messages</th>\n",
       "      <th>mb_used</th>\n",
       "      <th>city</th>\n",
       "    </tr>\n",
       "  </thead>\n",
       "  <tbody>\n",
       "    <tr>\n",
       "      <th>0</th>\n",
       "      <td>1000</td>\n",
       "      <td>12</td>\n",
       "      <td>116.83</td>\n",
       "      <td>ultimate</td>\n",
       "      <td>11.0</td>\n",
       "      <td>1901.47</td>\n",
       "      <td>Atlanta-Sandy Springs-Roswell, GA MSA</td>\n",
       "    </tr>\n",
       "    <tr>\n",
       "      <th>1</th>\n",
       "      <td>1001</td>\n",
       "      <td>8</td>\n",
       "      <td>171.14</td>\n",
       "      <td>surf</td>\n",
       "      <td>30.0</td>\n",
       "      <td>6919.15</td>\n",
       "      <td>Seattle-Tacoma-Bellevue, WA MSA</td>\n",
       "    </tr>\n",
       "    <tr>\n",
       "      <th>2</th>\n",
       "      <td>1001</td>\n",
       "      <td>9</td>\n",
       "      <td>297.69</td>\n",
       "      <td>surf</td>\n",
       "      <td>44.0</td>\n",
       "      <td>13314.82</td>\n",
       "      <td>Seattle-Tacoma-Bellevue, WA MSA</td>\n",
       "    </tr>\n",
       "    <tr>\n",
       "      <th>3</th>\n",
       "      <td>1001</td>\n",
       "      <td>10</td>\n",
       "      <td>374.11</td>\n",
       "      <td>surf</td>\n",
       "      <td>53.0</td>\n",
       "      <td>22330.49</td>\n",
       "      <td>Seattle-Tacoma-Bellevue, WA MSA</td>\n",
       "    </tr>\n",
       "    <tr>\n",
       "      <th>4</th>\n",
       "      <td>1001</td>\n",
       "      <td>11</td>\n",
       "      <td>404.59</td>\n",
       "      <td>surf</td>\n",
       "      <td>36.0</td>\n",
       "      <td>18504.30</td>\n",
       "      <td>Seattle-Tacoma-Bellevue, WA MSA</td>\n",
       "    </tr>\n",
       "  </tbody>\n",
       "</table>\n",
       "</div>"
      ],
      "text/plain": [
       "   user_id  month  duration plan_name  messages   mb_used  \\\n",
       "0     1000     12    116.83  ultimate      11.0   1901.47   \n",
       "1     1001      8    171.14      surf      30.0   6919.15   \n",
       "2     1001      9    297.69      surf      44.0  13314.82   \n",
       "3     1001     10    374.11      surf      53.0  22330.49   \n",
       "4     1001     11    404.59      surf      36.0  18504.30   \n",
       "\n",
       "                                    city  \n",
       "0  Atlanta-Sandy Springs-Roswell, GA MSA  \n",
       "1        Seattle-Tacoma-Bellevue, WA MSA  \n",
       "2        Seattle-Tacoma-Bellevue, WA MSA  \n",
       "3        Seattle-Tacoma-Bellevue, WA MSA  \n",
       "4        Seattle-Tacoma-Bellevue, WA MSA  "
      ]
     },
     "execution_count": 33,
     "metadata": {},
     "output_type": "execute_result"
    }
   ],
   "source": [
    "df_user_month.rename(columns={'id':'messages','plan':'plan_name'}, inplace=True)\n",
    "df_user_month.head()"
   ]
  },
  {
   "cell_type": "code",
   "execution_count": 34,
   "metadata": {
    "id": "0dNOXHag0q1H",
    "trusted": false
   },
   "outputs": [
    {
     "data": {
      "text/html": [
       "<div>\n",
       "<style scoped>\n",
       "    .dataframe tbody tr th:only-of-type {\n",
       "        vertical-align: middle;\n",
       "    }\n",
       "\n",
       "    .dataframe tbody tr th {\n",
       "        vertical-align: top;\n",
       "    }\n",
       "\n",
       "    .dataframe thead th {\n",
       "        text-align: right;\n",
       "    }\n",
       "</style>\n",
       "<table border=\"1\" class=\"dataframe\">\n",
       "  <thead>\n",
       "    <tr style=\"text-align: right;\">\n",
       "      <th></th>\n",
       "      <th>user_id</th>\n",
       "      <th>month</th>\n",
       "      <th>duration</th>\n",
       "      <th>plan_name</th>\n",
       "      <th>messages</th>\n",
       "      <th>mb_used</th>\n",
       "      <th>city</th>\n",
       "      <th>messages_included</th>\n",
       "      <th>mb_per_month_included</th>\n",
       "      <th>minutes_included</th>\n",
       "      <th>usd_monthly_pay</th>\n",
       "      <th>usd_per_gb</th>\n",
       "      <th>usd_per_message</th>\n",
       "      <th>usd_per_minute</th>\n",
       "    </tr>\n",
       "  </thead>\n",
       "  <tbody>\n",
       "    <tr>\n",
       "      <th>0</th>\n",
       "      <td>1000</td>\n",
       "      <td>12</td>\n",
       "      <td>116.83</td>\n",
       "      <td>ultimate</td>\n",
       "      <td>11.0</td>\n",
       "      <td>1901.47</td>\n",
       "      <td>Atlanta-Sandy Springs-Roswell, GA MSA</td>\n",
       "      <td>1000</td>\n",
       "      <td>30720</td>\n",
       "      <td>3000</td>\n",
       "      <td>70</td>\n",
       "      <td>7</td>\n",
       "      <td>0.01</td>\n",
       "      <td>0.01</td>\n",
       "    </tr>\n",
       "    <tr>\n",
       "      <th>1</th>\n",
       "      <td>1006</td>\n",
       "      <td>11</td>\n",
       "      <td>9.32</td>\n",
       "      <td>ultimate</td>\n",
       "      <td>15.0</td>\n",
       "      <td>2068.37</td>\n",
       "      <td>San Francisco-Oakland-Berkeley, CA MSA</td>\n",
       "      <td>1000</td>\n",
       "      <td>30720</td>\n",
       "      <td>3000</td>\n",
       "      <td>70</td>\n",
       "      <td>7</td>\n",
       "      <td>0.01</td>\n",
       "      <td>0.01</td>\n",
       "    </tr>\n",
       "    <tr>\n",
       "      <th>2</th>\n",
       "      <td>1006</td>\n",
       "      <td>12</td>\n",
       "      <td>54.79</td>\n",
       "      <td>ultimate</td>\n",
       "      <td>139.0</td>\n",
       "      <td>32118.82</td>\n",
       "      <td>San Francisco-Oakland-Berkeley, CA MSA</td>\n",
       "      <td>1000</td>\n",
       "      <td>30720</td>\n",
       "      <td>3000</td>\n",
       "      <td>70</td>\n",
       "      <td>7</td>\n",
       "      <td>0.01</td>\n",
       "      <td>0.01</td>\n",
       "    </tr>\n",
       "    <tr>\n",
       "      <th>3</th>\n",
       "      <td>1008</td>\n",
       "      <td>10</td>\n",
       "      <td>450.21</td>\n",
       "      <td>ultimate</td>\n",
       "      <td>21.0</td>\n",
       "      <td>17106.99</td>\n",
       "      <td>Orlando-Kissimmee-Sanford, FL MSA</td>\n",
       "      <td>1000</td>\n",
       "      <td>30720</td>\n",
       "      <td>3000</td>\n",
       "      <td>70</td>\n",
       "      <td>7</td>\n",
       "      <td>0.01</td>\n",
       "      <td>0.01</td>\n",
       "    </tr>\n",
       "    <tr>\n",
       "      <th>4</th>\n",
       "      <td>1008</td>\n",
       "      <td>11</td>\n",
       "      <td>422.81</td>\n",
       "      <td>ultimate</td>\n",
       "      <td>37.0</td>\n",
       "      <td>23676.72</td>\n",
       "      <td>Orlando-Kissimmee-Sanford, FL MSA</td>\n",
       "      <td>1000</td>\n",
       "      <td>30720</td>\n",
       "      <td>3000</td>\n",
       "      <td>70</td>\n",
       "      <td>7</td>\n",
       "      <td>0.01</td>\n",
       "      <td>0.01</td>\n",
       "    </tr>\n",
       "  </tbody>\n",
       "</table>\n",
       "</div>"
      ],
      "text/plain": [
       "   user_id  month  duration plan_name  messages   mb_used  \\\n",
       "0     1000     12    116.83  ultimate      11.0   1901.47   \n",
       "1     1006     11      9.32  ultimate      15.0   2068.37   \n",
       "2     1006     12     54.79  ultimate     139.0  32118.82   \n",
       "3     1008     10    450.21  ultimate      21.0  17106.99   \n",
       "4     1008     11    422.81  ultimate      37.0  23676.72   \n",
       "\n",
       "                                     city  messages_included  \\\n",
       "0   Atlanta-Sandy Springs-Roswell, GA MSA               1000   \n",
       "1  San Francisco-Oakland-Berkeley, CA MSA               1000   \n",
       "2  San Francisco-Oakland-Berkeley, CA MSA               1000   \n",
       "3       Orlando-Kissimmee-Sanford, FL MSA               1000   \n",
       "4       Orlando-Kissimmee-Sanford, FL MSA               1000   \n",
       "\n",
       "   mb_per_month_included  minutes_included  usd_monthly_pay  usd_per_gb  \\\n",
       "0                  30720              3000               70           7   \n",
       "1                  30720              3000               70           7   \n",
       "2                  30720              3000               70           7   \n",
       "3                  30720              3000               70           7   \n",
       "4                  30720              3000               70           7   \n",
       "\n",
       "   usd_per_message  usd_per_minute  \n",
       "0             0.01            0.01  \n",
       "1             0.01            0.01  \n",
       "2             0.01            0.01  \n",
       "3             0.01            0.01  \n",
       "4             0.01            0.01  "
      ]
     },
     "execution_count": 34,
     "metadata": {},
     "output_type": "execute_result"
    }
   ],
   "source": [
    "df_user_month =df_user_month.merge(meg_pla, on=['plan_name'], how='outer')\n",
    "df_user_month.head()\n",
    "# Añade la información de la tarifa\n",
    "\n"
   ]
  },
  {
   "cell_type": "code",
   "execution_count": 35,
   "metadata": {
    "trusted": false
   },
   "outputs": [
    {
     "name": "stdout",
     "output_type": "stream",
     "text": [
      "<class 'pandas.core.frame.DataFrame'>\n",
      "Int64Index: 2293 entries, 0 to 2292\n",
      "Data columns (total 14 columns):\n",
      " #   Column                 Non-Null Count  Dtype  \n",
      "---  ------                 --------------  -----  \n",
      " 0   user_id                2293 non-null   int64  \n",
      " 1   month                  2293 non-null   int64  \n",
      " 2   duration               2293 non-null   float64\n",
      " 3   plan_name              2293 non-null   object \n",
      " 4   messages               2293 non-null   float64\n",
      " 5   mb_used                2293 non-null   float64\n",
      " 6   city                   2293 non-null   object \n",
      " 7   messages_included      2293 non-null   int64  \n",
      " 8   mb_per_month_included  2293 non-null   int64  \n",
      " 9   minutes_included       2293 non-null   int64  \n",
      " 10  usd_monthly_pay        2293 non-null   int64  \n",
      " 11  usd_per_gb             2293 non-null   int64  \n",
      " 12  usd_per_message        2293 non-null   float64\n",
      " 13  usd_per_minute         2293 non-null   float64\n",
      "dtypes: float64(5), int64(7), object(2)\n",
      "memory usage: 268.7+ KB\n"
     ]
    }
   ],
   "source": [
    "df_user_month.info()"
   ]
  },
  {
   "cell_type": "markdown",
   "metadata": {
    "id": "1IwGo4wg0q1I"
   },
   "source": [
    "[Calcula los ingresos mensuales por usuario (resta el límite del paquete gratuito del número total de llamadas, mensajes de texto y datos; multiplica el resultado por el valor del plan de llamadas; añade la tarifa mensual en función del plan de llamadas). Nota: Dadas las condiciones del plan, ¡esto podría no ser tan trivial como un par de líneas! Así que no pasa nada si dedicas algo de tiempo a ello.]"
   ]
  },
  {
   "cell_type": "code",
   "execution_count": 36,
   "metadata": {
    "trusted": false
   },
   "outputs": [
    {
     "data": {
      "text/html": [
       "<div>\n",
       "<style scoped>\n",
       "    .dataframe tbody tr th:only-of-type {\n",
       "        vertical-align: middle;\n",
       "    }\n",
       "\n",
       "    .dataframe tbody tr th {\n",
       "        vertical-align: top;\n",
       "    }\n",
       "\n",
       "    .dataframe thead th {\n",
       "        text-align: right;\n",
       "    }\n",
       "</style>\n",
       "<table border=\"1\" class=\"dataframe\">\n",
       "  <thead>\n",
       "    <tr style=\"text-align: right;\">\n",
       "      <th></th>\n",
       "      <th>user_id</th>\n",
       "      <th>month</th>\n",
       "      <th>duration</th>\n",
       "      <th>plan_name</th>\n",
       "      <th>messages</th>\n",
       "      <th>mb_used</th>\n",
       "      <th>city</th>\n",
       "      <th>messages_included</th>\n",
       "      <th>mb_per_month_included</th>\n",
       "      <th>minutes_included</th>\n",
       "      <th>usd_monthly_pay</th>\n",
       "      <th>usd_per_gb</th>\n",
       "      <th>usd_per_message</th>\n",
       "      <th>usd_per_minute</th>\n",
       "      <th>val_lla</th>\n",
       "      <th>val_meg</th>\n",
       "      <th>val_int</th>\n",
       "    </tr>\n",
       "  </thead>\n",
       "  <tbody>\n",
       "    <tr>\n",
       "      <th>0</th>\n",
       "      <td>1000</td>\n",
       "      <td>12</td>\n",
       "      <td>116.83</td>\n",
       "      <td>ultimate</td>\n",
       "      <td>11.0</td>\n",
       "      <td>1901.47</td>\n",
       "      <td>Atlanta-Sandy Springs-Roswell, GA MSA</td>\n",
       "      <td>1000</td>\n",
       "      <td>30720</td>\n",
       "      <td>3000</td>\n",
       "      <td>70</td>\n",
       "      <td>7</td>\n",
       "      <td>0.01</td>\n",
       "      <td>0.01</td>\n",
       "      <td>-2883.17</td>\n",
       "      <td>-989.0</td>\n",
       "      <td>-28818.53</td>\n",
       "    </tr>\n",
       "    <tr>\n",
       "      <th>1</th>\n",
       "      <td>1006</td>\n",
       "      <td>11</td>\n",
       "      <td>9.32</td>\n",
       "      <td>ultimate</td>\n",
       "      <td>15.0</td>\n",
       "      <td>2068.37</td>\n",
       "      <td>San Francisco-Oakland-Berkeley, CA MSA</td>\n",
       "      <td>1000</td>\n",
       "      <td>30720</td>\n",
       "      <td>3000</td>\n",
       "      <td>70</td>\n",
       "      <td>7</td>\n",
       "      <td>0.01</td>\n",
       "      <td>0.01</td>\n",
       "      <td>-2990.68</td>\n",
       "      <td>-985.0</td>\n",
       "      <td>-28651.63</td>\n",
       "    </tr>\n",
       "    <tr>\n",
       "      <th>2</th>\n",
       "      <td>1006</td>\n",
       "      <td>12</td>\n",
       "      <td>54.79</td>\n",
       "      <td>ultimate</td>\n",
       "      <td>139.0</td>\n",
       "      <td>32118.82</td>\n",
       "      <td>San Francisco-Oakland-Berkeley, CA MSA</td>\n",
       "      <td>1000</td>\n",
       "      <td>30720</td>\n",
       "      <td>3000</td>\n",
       "      <td>70</td>\n",
       "      <td>7</td>\n",
       "      <td>0.01</td>\n",
       "      <td>0.01</td>\n",
       "      <td>-2945.21</td>\n",
       "      <td>-861.0</td>\n",
       "      <td>1398.82</td>\n",
       "    </tr>\n",
       "    <tr>\n",
       "      <th>3</th>\n",
       "      <td>1008</td>\n",
       "      <td>10</td>\n",
       "      <td>450.21</td>\n",
       "      <td>ultimate</td>\n",
       "      <td>21.0</td>\n",
       "      <td>17106.99</td>\n",
       "      <td>Orlando-Kissimmee-Sanford, FL MSA</td>\n",
       "      <td>1000</td>\n",
       "      <td>30720</td>\n",
       "      <td>3000</td>\n",
       "      <td>70</td>\n",
       "      <td>7</td>\n",
       "      <td>0.01</td>\n",
       "      <td>0.01</td>\n",
       "      <td>-2549.79</td>\n",
       "      <td>-979.0</td>\n",
       "      <td>-13613.01</td>\n",
       "    </tr>\n",
       "    <tr>\n",
       "      <th>4</th>\n",
       "      <td>1008</td>\n",
       "      <td>11</td>\n",
       "      <td>422.81</td>\n",
       "      <td>ultimate</td>\n",
       "      <td>37.0</td>\n",
       "      <td>23676.72</td>\n",
       "      <td>Orlando-Kissimmee-Sanford, FL MSA</td>\n",
       "      <td>1000</td>\n",
       "      <td>30720</td>\n",
       "      <td>3000</td>\n",
       "      <td>70</td>\n",
       "      <td>7</td>\n",
       "      <td>0.01</td>\n",
       "      <td>0.01</td>\n",
       "      <td>-2577.19</td>\n",
       "      <td>-963.0</td>\n",
       "      <td>-7043.28</td>\n",
       "    </tr>\n",
       "  </tbody>\n",
       "</table>\n",
       "</div>"
      ],
      "text/plain": [
       "   user_id  month  duration plan_name  messages   mb_used  \\\n",
       "0     1000     12    116.83  ultimate      11.0   1901.47   \n",
       "1     1006     11      9.32  ultimate      15.0   2068.37   \n",
       "2     1006     12     54.79  ultimate     139.0  32118.82   \n",
       "3     1008     10    450.21  ultimate      21.0  17106.99   \n",
       "4     1008     11    422.81  ultimate      37.0  23676.72   \n",
       "\n",
       "                                     city  messages_included  \\\n",
       "0   Atlanta-Sandy Springs-Roswell, GA MSA               1000   \n",
       "1  San Francisco-Oakland-Berkeley, CA MSA               1000   \n",
       "2  San Francisco-Oakland-Berkeley, CA MSA               1000   \n",
       "3       Orlando-Kissimmee-Sanford, FL MSA               1000   \n",
       "4       Orlando-Kissimmee-Sanford, FL MSA               1000   \n",
       "\n",
       "   mb_per_month_included  minutes_included  usd_monthly_pay  usd_per_gb  \\\n",
       "0                  30720              3000               70           7   \n",
       "1                  30720              3000               70           7   \n",
       "2                  30720              3000               70           7   \n",
       "3                  30720              3000               70           7   \n",
       "4                  30720              3000               70           7   \n",
       "\n",
       "   usd_per_message  usd_per_minute  val_lla  val_meg   val_int  \n",
       "0             0.01            0.01 -2883.17   -989.0 -28818.53  \n",
       "1             0.01            0.01 -2990.68   -985.0 -28651.63  \n",
       "2             0.01            0.01 -2945.21   -861.0   1398.82  \n",
       "3             0.01            0.01 -2549.79   -979.0 -13613.01  \n",
       "4             0.01            0.01 -2577.19   -963.0  -7043.28  "
      ]
     },
     "execution_count": 36,
     "metadata": {},
     "output_type": "execute_result"
    }
   ],
   "source": [
    "df_user_month['val_lla'] = df_user_month['duration'] - df_user_month['minutes_included']\n",
    "df_user_month['val_meg'] = df_user_month['messages'] - df_user_month['messages_included']\n",
    "df_user_month['val_int'] = df_user_month['mb_used'] - df_user_month['mb_per_month_included']\n",
    "df_user_month.head()"
   ]
  },
  {
   "cell_type": "code",
   "execution_count": 37,
   "metadata": {
    "trusted": false
   },
   "outputs": [],
   "source": [
    "def limpiar_calculo(calculo):\n",
    "    if calculo > 0:\n",
    "        calculo = calculo\n",
    "    else:\n",
    "        calculo = 0\n",
    "    return calculo"
   ]
  },
  {
   "cell_type": "code",
   "execution_count": 38,
   "metadata": {
    "scrolled": false,
    "trusted": false
   },
   "outputs": [
    {
     "data": {
      "text/html": [
       "<div>\n",
       "<style scoped>\n",
       "    .dataframe tbody tr th:only-of-type {\n",
       "        vertical-align: middle;\n",
       "    }\n",
       "\n",
       "    .dataframe tbody tr th {\n",
       "        vertical-align: top;\n",
       "    }\n",
       "\n",
       "    .dataframe thead th {\n",
       "        text-align: right;\n",
       "    }\n",
       "</style>\n",
       "<table border=\"1\" class=\"dataframe\">\n",
       "  <thead>\n",
       "    <tr style=\"text-align: right;\">\n",
       "      <th></th>\n",
       "      <th>user_id</th>\n",
       "      <th>month</th>\n",
       "      <th>duration</th>\n",
       "      <th>plan_name</th>\n",
       "      <th>messages</th>\n",
       "      <th>mb_used</th>\n",
       "      <th>city</th>\n",
       "      <th>messages_included</th>\n",
       "      <th>mb_per_month_included</th>\n",
       "      <th>minutes_included</th>\n",
       "      <th>usd_monthly_pay</th>\n",
       "      <th>usd_per_gb</th>\n",
       "      <th>usd_per_message</th>\n",
       "      <th>usd_per_minute</th>\n",
       "      <th>val_lla</th>\n",
       "      <th>val_meg</th>\n",
       "      <th>val_int</th>\n",
       "    </tr>\n",
       "  </thead>\n",
       "  <tbody>\n",
       "    <tr>\n",
       "      <th>0</th>\n",
       "      <td>1000</td>\n",
       "      <td>12</td>\n",
       "      <td>116.83</td>\n",
       "      <td>ultimate</td>\n",
       "      <td>11.0</td>\n",
       "      <td>1901.47</td>\n",
       "      <td>Atlanta-Sandy Springs-Roswell, GA MSA</td>\n",
       "      <td>1000</td>\n",
       "      <td>30720</td>\n",
       "      <td>3000</td>\n",
       "      <td>70</td>\n",
       "      <td>7</td>\n",
       "      <td>0.01</td>\n",
       "      <td>0.01</td>\n",
       "      <td>0.0</td>\n",
       "      <td>0.0</td>\n",
       "      <td>0.00</td>\n",
       "    </tr>\n",
       "    <tr>\n",
       "      <th>1</th>\n",
       "      <td>1006</td>\n",
       "      <td>11</td>\n",
       "      <td>9.32</td>\n",
       "      <td>ultimate</td>\n",
       "      <td>15.0</td>\n",
       "      <td>2068.37</td>\n",
       "      <td>San Francisco-Oakland-Berkeley, CA MSA</td>\n",
       "      <td>1000</td>\n",
       "      <td>30720</td>\n",
       "      <td>3000</td>\n",
       "      <td>70</td>\n",
       "      <td>7</td>\n",
       "      <td>0.01</td>\n",
       "      <td>0.01</td>\n",
       "      <td>0.0</td>\n",
       "      <td>0.0</td>\n",
       "      <td>0.00</td>\n",
       "    </tr>\n",
       "    <tr>\n",
       "      <th>2</th>\n",
       "      <td>1006</td>\n",
       "      <td>12</td>\n",
       "      <td>54.79</td>\n",
       "      <td>ultimate</td>\n",
       "      <td>139.0</td>\n",
       "      <td>32118.82</td>\n",
       "      <td>San Francisco-Oakland-Berkeley, CA MSA</td>\n",
       "      <td>1000</td>\n",
       "      <td>30720</td>\n",
       "      <td>3000</td>\n",
       "      <td>70</td>\n",
       "      <td>7</td>\n",
       "      <td>0.01</td>\n",
       "      <td>0.01</td>\n",
       "      <td>0.0</td>\n",
       "      <td>0.0</td>\n",
       "      <td>1398.82</td>\n",
       "    </tr>\n",
       "    <tr>\n",
       "      <th>3</th>\n",
       "      <td>1008</td>\n",
       "      <td>10</td>\n",
       "      <td>450.21</td>\n",
       "      <td>ultimate</td>\n",
       "      <td>21.0</td>\n",
       "      <td>17106.99</td>\n",
       "      <td>Orlando-Kissimmee-Sanford, FL MSA</td>\n",
       "      <td>1000</td>\n",
       "      <td>30720</td>\n",
       "      <td>3000</td>\n",
       "      <td>70</td>\n",
       "      <td>7</td>\n",
       "      <td>0.01</td>\n",
       "      <td>0.01</td>\n",
       "      <td>0.0</td>\n",
       "      <td>0.0</td>\n",
       "      <td>0.00</td>\n",
       "    </tr>\n",
       "    <tr>\n",
       "      <th>4</th>\n",
       "      <td>1008</td>\n",
       "      <td>11</td>\n",
       "      <td>422.81</td>\n",
       "      <td>ultimate</td>\n",
       "      <td>37.0</td>\n",
       "      <td>23676.72</td>\n",
       "      <td>Orlando-Kissimmee-Sanford, FL MSA</td>\n",
       "      <td>1000</td>\n",
       "      <td>30720</td>\n",
       "      <td>3000</td>\n",
       "      <td>70</td>\n",
       "      <td>7</td>\n",
       "      <td>0.01</td>\n",
       "      <td>0.01</td>\n",
       "      <td>0.0</td>\n",
       "      <td>0.0</td>\n",
       "      <td>0.00</td>\n",
       "    </tr>\n",
       "  </tbody>\n",
       "</table>\n",
       "</div>"
      ],
      "text/plain": [
       "   user_id  month  duration plan_name  messages   mb_used  \\\n",
       "0     1000     12    116.83  ultimate      11.0   1901.47   \n",
       "1     1006     11      9.32  ultimate      15.0   2068.37   \n",
       "2     1006     12     54.79  ultimate     139.0  32118.82   \n",
       "3     1008     10    450.21  ultimate      21.0  17106.99   \n",
       "4     1008     11    422.81  ultimate      37.0  23676.72   \n",
       "\n",
       "                                     city  messages_included  \\\n",
       "0   Atlanta-Sandy Springs-Roswell, GA MSA               1000   \n",
       "1  San Francisco-Oakland-Berkeley, CA MSA               1000   \n",
       "2  San Francisco-Oakland-Berkeley, CA MSA               1000   \n",
       "3       Orlando-Kissimmee-Sanford, FL MSA               1000   \n",
       "4       Orlando-Kissimmee-Sanford, FL MSA               1000   \n",
       "\n",
       "   mb_per_month_included  minutes_included  usd_monthly_pay  usd_per_gb  \\\n",
       "0                  30720              3000               70           7   \n",
       "1                  30720              3000               70           7   \n",
       "2                  30720              3000               70           7   \n",
       "3                  30720              3000               70           7   \n",
       "4                  30720              3000               70           7   \n",
       "\n",
       "   usd_per_message  usd_per_minute  val_lla  val_meg  val_int  \n",
       "0             0.01            0.01      0.0      0.0     0.00  \n",
       "1             0.01            0.01      0.0      0.0     0.00  \n",
       "2             0.01            0.01      0.0      0.0  1398.82  \n",
       "3             0.01            0.01      0.0      0.0     0.00  \n",
       "4             0.01            0.01      0.0      0.0     0.00  "
      ]
     },
     "execution_count": 38,
     "metadata": {},
     "output_type": "execute_result"
    }
   ],
   "source": [
    "df_user_month['val_lla'] = df_user_month['val_lla'].apply(limpiar_calculo)\n",
    "df_user_month['val_meg'] = df_user_month['val_meg'].apply(limpiar_calculo)\n",
    "df_user_month['val_int'] = df_user_month['val_int'].apply(limpiar_calculo)\n",
    "df_user_month.head()"
   ]
  },
  {
   "cell_type": "code",
   "execution_count": 39,
   "metadata": {
    "trusted": false
   },
   "outputs": [],
   "source": [
    "df_user_month = df_user_month.dropna(subset=['usd_monthly_pay', 'val_lla', 'usd_per_minute', 'val_meg', 'usd_per_message', 'val_int', 'usd_per_gb'])\n",
    "\n",
    "df_user_month['val_lla'] = np.round(df_user_month['val_lla'])\n",
    "\n",
    "df_user_month['val_int_gb'] = np.round(df_user_month['val_int'] / 1024)\n",
    "\n",
    "df_user_month['revenue'] = (\n",
    "    df_user_month['usd_monthly_pay'] +\n",
    "    (df_user_month['val_lla'] * df_user_month['usd_per_minute']) +\n",
    "    (df_user_month['val_meg'] * df_user_month['usd_per_message']) +\n",
    "    (df_user_month['val_int_gb'] * df_user_month['usd_per_gb'])\n",
    ")\n"
   ]
  },
  {
   "cell_type": "code",
   "execution_count": 40,
   "metadata": {
    "trusted": false
   },
   "outputs": [
    {
     "data": {
      "text/html": [
       "<div>\n",
       "<style scoped>\n",
       "    .dataframe tbody tr th:only-of-type {\n",
       "        vertical-align: middle;\n",
       "    }\n",
       "\n",
       "    .dataframe tbody tr th {\n",
       "        vertical-align: top;\n",
       "    }\n",
       "\n",
       "    .dataframe thead th {\n",
       "        text-align: right;\n",
       "    }\n",
       "</style>\n",
       "<table border=\"1\" class=\"dataframe\">\n",
       "  <thead>\n",
       "    <tr style=\"text-align: right;\">\n",
       "      <th></th>\n",
       "      <th>user_id</th>\n",
       "      <th>month</th>\n",
       "      <th>duration</th>\n",
       "      <th>plan_name</th>\n",
       "      <th>messages</th>\n",
       "      <th>mb_used</th>\n",
       "      <th>city</th>\n",
       "      <th>messages_included</th>\n",
       "      <th>mb_per_month_included</th>\n",
       "      <th>minutes_included</th>\n",
       "      <th>usd_monthly_pay</th>\n",
       "      <th>usd_per_gb</th>\n",
       "      <th>usd_per_message</th>\n",
       "      <th>usd_per_minute</th>\n",
       "      <th>val_lla</th>\n",
       "      <th>val_meg</th>\n",
       "      <th>val_int</th>\n",
       "      <th>val_int_gb</th>\n",
       "      <th>revenue</th>\n",
       "    </tr>\n",
       "  </thead>\n",
       "  <tbody>\n",
       "    <tr>\n",
       "      <th>0</th>\n",
       "      <td>1000</td>\n",
       "      <td>12</td>\n",
       "      <td>116.83</td>\n",
       "      <td>ultimate</td>\n",
       "      <td>11.0</td>\n",
       "      <td>1901.47</td>\n",
       "      <td>Atlanta-Sandy Springs-Roswell, GA MSA</td>\n",
       "      <td>1000</td>\n",
       "      <td>30720</td>\n",
       "      <td>3000</td>\n",
       "      <td>70</td>\n",
       "      <td>7</td>\n",
       "      <td>0.01</td>\n",
       "      <td>0.01</td>\n",
       "      <td>0.0</td>\n",
       "      <td>0.0</td>\n",
       "      <td>0.00</td>\n",
       "      <td>0.0</td>\n",
       "      <td>70.0</td>\n",
       "    </tr>\n",
       "    <tr>\n",
       "      <th>1</th>\n",
       "      <td>1006</td>\n",
       "      <td>11</td>\n",
       "      <td>9.32</td>\n",
       "      <td>ultimate</td>\n",
       "      <td>15.0</td>\n",
       "      <td>2068.37</td>\n",
       "      <td>San Francisco-Oakland-Berkeley, CA MSA</td>\n",
       "      <td>1000</td>\n",
       "      <td>30720</td>\n",
       "      <td>3000</td>\n",
       "      <td>70</td>\n",
       "      <td>7</td>\n",
       "      <td>0.01</td>\n",
       "      <td>0.01</td>\n",
       "      <td>0.0</td>\n",
       "      <td>0.0</td>\n",
       "      <td>0.00</td>\n",
       "      <td>0.0</td>\n",
       "      <td>70.0</td>\n",
       "    </tr>\n",
       "    <tr>\n",
       "      <th>2</th>\n",
       "      <td>1006</td>\n",
       "      <td>12</td>\n",
       "      <td>54.79</td>\n",
       "      <td>ultimate</td>\n",
       "      <td>139.0</td>\n",
       "      <td>32118.82</td>\n",
       "      <td>San Francisco-Oakland-Berkeley, CA MSA</td>\n",
       "      <td>1000</td>\n",
       "      <td>30720</td>\n",
       "      <td>3000</td>\n",
       "      <td>70</td>\n",
       "      <td>7</td>\n",
       "      <td>0.01</td>\n",
       "      <td>0.01</td>\n",
       "      <td>0.0</td>\n",
       "      <td>0.0</td>\n",
       "      <td>1398.82</td>\n",
       "      <td>1.0</td>\n",
       "      <td>77.0</td>\n",
       "    </tr>\n",
       "    <tr>\n",
       "      <th>3</th>\n",
       "      <td>1008</td>\n",
       "      <td>10</td>\n",
       "      <td>450.21</td>\n",
       "      <td>ultimate</td>\n",
       "      <td>21.0</td>\n",
       "      <td>17106.99</td>\n",
       "      <td>Orlando-Kissimmee-Sanford, FL MSA</td>\n",
       "      <td>1000</td>\n",
       "      <td>30720</td>\n",
       "      <td>3000</td>\n",
       "      <td>70</td>\n",
       "      <td>7</td>\n",
       "      <td>0.01</td>\n",
       "      <td>0.01</td>\n",
       "      <td>0.0</td>\n",
       "      <td>0.0</td>\n",
       "      <td>0.00</td>\n",
       "      <td>0.0</td>\n",
       "      <td>70.0</td>\n",
       "    </tr>\n",
       "    <tr>\n",
       "      <th>4</th>\n",
       "      <td>1008</td>\n",
       "      <td>11</td>\n",
       "      <td>422.81</td>\n",
       "      <td>ultimate</td>\n",
       "      <td>37.0</td>\n",
       "      <td>23676.72</td>\n",
       "      <td>Orlando-Kissimmee-Sanford, FL MSA</td>\n",
       "      <td>1000</td>\n",
       "      <td>30720</td>\n",
       "      <td>3000</td>\n",
       "      <td>70</td>\n",
       "      <td>7</td>\n",
       "      <td>0.01</td>\n",
       "      <td>0.01</td>\n",
       "      <td>0.0</td>\n",
       "      <td>0.0</td>\n",
       "      <td>0.00</td>\n",
       "      <td>0.0</td>\n",
       "      <td>70.0</td>\n",
       "    </tr>\n",
       "  </tbody>\n",
       "</table>\n",
       "</div>"
      ],
      "text/plain": [
       "   user_id  month  duration plan_name  messages   mb_used  \\\n",
       "0     1000     12    116.83  ultimate      11.0   1901.47   \n",
       "1     1006     11      9.32  ultimate      15.0   2068.37   \n",
       "2     1006     12     54.79  ultimate     139.0  32118.82   \n",
       "3     1008     10    450.21  ultimate      21.0  17106.99   \n",
       "4     1008     11    422.81  ultimate      37.0  23676.72   \n",
       "\n",
       "                                     city  messages_included  \\\n",
       "0   Atlanta-Sandy Springs-Roswell, GA MSA               1000   \n",
       "1  San Francisco-Oakland-Berkeley, CA MSA               1000   \n",
       "2  San Francisco-Oakland-Berkeley, CA MSA               1000   \n",
       "3       Orlando-Kissimmee-Sanford, FL MSA               1000   \n",
       "4       Orlando-Kissimmee-Sanford, FL MSA               1000   \n",
       "\n",
       "   mb_per_month_included  minutes_included  usd_monthly_pay  usd_per_gb  \\\n",
       "0                  30720              3000               70           7   \n",
       "1                  30720              3000               70           7   \n",
       "2                  30720              3000               70           7   \n",
       "3                  30720              3000               70           7   \n",
       "4                  30720              3000               70           7   \n",
       "\n",
       "   usd_per_message  usd_per_minute  val_lla  val_meg  val_int  val_int_gb  \\\n",
       "0             0.01            0.01      0.0      0.0     0.00         0.0   \n",
       "1             0.01            0.01      0.0      0.0     0.00         0.0   \n",
       "2             0.01            0.01      0.0      0.0  1398.82         1.0   \n",
       "3             0.01            0.01      0.0      0.0     0.00         0.0   \n",
       "4             0.01            0.01      0.0      0.0     0.00         0.0   \n",
       "\n",
       "   revenue  \n",
       "0     70.0  \n",
       "1     70.0  \n",
       "2     77.0  \n",
       "3     70.0  \n",
       "4     70.0  "
      ]
     },
     "execution_count": 40,
     "metadata": {},
     "output_type": "execute_result"
    }
   ],
   "source": [
    "df_user_month.head()"
   ]
  },
  {
   "cell_type": "markdown",
   "metadata": {
    "id": "-jtyHzJb0q1I"
   },
   "source": [
    "## Estudia el comportamiento de usuario"
   ]
  },
  {
   "cell_type": "markdown",
   "metadata": {
    "id": "AxU3Y0N70q1J"
   },
   "source": [
    "[Calcula algunas estadísticas descriptivas para los datos agregados y fusionados que nos sean útiles y que muestren un panorama general captado por los datos. Dibuja gráficos útiles para facilitar la comprensión. Dado que la tarea principal es comparar las tarifas y decidir cuál es más rentable, las estadísticas y gráficas deben calcularse por tarifa.]\n",
    "\n",
    "[En los comentarios hallarás pistas relevantes para las llamadas, pero no las hay para los mensajes e Internet. Sin embargo, el principio del estudio estadístico que se aplica para ellos es el mismo que para las llamadas.]"
   ]
  },
  {
   "cell_type": "markdown",
   "metadata": {
    "id": "vtW4CJEe0q1J"
   },
   "source": [
    "### Llamadas"
   ]
  },
  {
   "cell_type": "code",
   "execution_count": 41,
   "metadata": {
    "id": "Jf5v5--k0q1J",
    "trusted": false
   },
   "outputs": [
    {
     "data": {
      "image/png": "[encoded data removed]",
      "text/plain": [
       "<Figure size 1000x600 with 1 Axes>"
      ]
     },
     "metadata": {},
     "output_type": "display_data"
    }
   ],
   "source": [
    "average_duration = df_user_month.groupby(['plan_name', 'month'])['duration'].mean().reset_index()\n",
    "\n",
    "plt.figure(figsize=(10, 6))\n",
    "\n",
    "plt.bar(average_duration[average_duration['plan_name'] == 'surf']['month'],\n",
    "        average_duration[average_duration['plan_name'] == 'surf']['duration'],\n",
    "        width=0.4, label='Surf', align='center')\n",
    "\n",
    "plt.bar(average_duration[average_duration['plan_name'] == 'ultimate']['month'],\n",
    "        average_duration[average_duration['plan_name'] == 'ultimate']['duration'],\n",
    "        width=0.4, label='Ultimate', align='center', color='green')\n",
    "\n",
    "plt.xlabel('Mes')\n",
    "plt.ylabel('Duración promedio de llamadas (minutos)')\n",
    "plt.title('Duración promedio de llamadas por plan y por mes')\n",
    "plt.legend(title='Plan')\n",
    "\n",
    "plt.show()\n",
    "\n",
    "# Compara la duración promedio de llamadas por cada plan y por cada mes. Traza un gráfico de barras para visualizarla.\n",
    "\n"
   ]
  },
  {
   "cell_type": "markdown",
   "metadata": {
    "id": "bLS9T8OH0q1K"
   },
   "source": [
    "[Calcula la media y la variable de la duración de las llamadas para averiguar si los usuarios de los distintos planes se comportan de forma diferente al realizar sus llamadas.]"
   ]
  },
  {
   "cell_type": "code",
   "execution_count": 42,
   "metadata": {
    "id": "oSndbAnt0q1K",
    "trusted": false
   },
   "outputs": [
    {
     "name": "stdout",
     "output_type": "stream",
     "text": [
      "  plan_name        mean           var\n",
      "0      surf  404.762390  49135.104891\n",
      "1  ultimate  406.193083  51640.971402\n"
     ]
    }
   ],
   "source": [
    "dur_me_va = df_user_month.groupby('plan_name')['duration'].agg(['mean', 'var']).reset_index()\n",
    "print(dur_me_va)\n",
    "\n",
    "# Calcula la media y la varianza de la duración mensual de llamadas."
   ]
  },
  {
   "cell_type": "code",
   "execution_count": 43,
   "metadata": {
    "id": "nZzoRUKc0q1K",
    "trusted": false
   },
   "outputs": [
    {
     "data": {
      "image/png": "[encoded data removed]",
      "text/plain": [
       "<Figure size 1200x600 with 1 Axes>"
      ]
     },
     "metadata": {},
     "output_type": "display_data"
    }
   ],
   "source": [
    "import seaborn as sns\n",
    "\n",
    "# Configurar el estilo de Seaborn\n",
    "sns.set(style=\"whitegrid\")\n",
    "\n",
    "# Crear el diagrama de caja\n",
    "plt.figure(figsize=(12, 6))\n",
    "\n",
    "# Diagrama de caja para la duración mensual de llamadas por plan\n",
    "sns.boxplot(x='month', y='duration', hue='plan_name', data=df_user_month)\n",
    "\n",
    "# Configurar etiquetas y título del gráfico\n",
    "plt.xlabel('Mes')\n",
    "plt.ylabel('Duración de llamadas (minutos)')\n",
    "plt.title('Duración mensual de llamadas por plan')\n",
    "plt.legend(title='Plan')\n",
    "\n",
    "# Mostrar el gráfico\n",
    "plt.show()\n",
    "\n",
    "\n",
    "# Traza un diagrama de caja para visualizar la distribución de la duración mensual de llamadas\n",
    "\n"
   ]
  },
  {
   "cell_type": "markdown",
   "metadata": {
    "id": "r627zBO50q1K"
   },
   "source": [
    "[Elabora las conclusiones sobre el comportamiento de los usuarios con respecto a las llamadas. ¿Su comportamiento varía en función del plan?]\n",
    "\n",
    "la duración de las llamadas indica que los usuarios de los distintos planes se comportan de forma diferente al realizar sus llamadas:\n",
    "\n",
    "Los usuarios del plan \"Ultimate\" realizan llamadas más largas y con mayor variabilidad.\n",
    "\n",
    "Los usuarios del plan \"Surf\" tienden a tener una duración de llamadas más uniforme y menor variabilidad."
   ]
  },
  {
   "cell_type": "markdown",
   "metadata": {
    "id": "8idKy8Wh0q1L"
   },
   "source": [
    "### Mensajes"
   ]
  },
  {
   "cell_type": "code",
   "execution_count": 44,
   "metadata": {
    "id": "NXLxiTit0q1L",
    "trusted": false
   },
   "outputs": [
    {
     "name": "stdout",
     "output_type": "stream",
     "text": [
      "  plan_name  month   messages\n",
      "0      surf      1  10.500000\n",
      "1      surf      2  12.000000\n",
      "2      surf      3  15.260870\n",
      "3      surf      4  17.400000\n",
      "4      surf      5  24.012987\n"
     ]
    }
   ],
   "source": [
    "\n",
    "average_messages = df_user_month.groupby(['plan_name', 'month'])['messages'].mean().reset_index()\n",
    "\n",
    "print(average_messages.head())\n",
    "\n",
    "# Comprara el número de mensajes que tienden a enviar cada mes los usuarios de cada plan\n",
    "\n"
   ]
  },
  {
   "cell_type": "code",
   "execution_count": 45,
   "metadata": {
    "trusted": false
   },
   "outputs": [
    {
     "data": {
      "image/png": "[encoded data removed]",
      "text/plain": [
       "<Figure size 1000x600 with 1 Axes>"
      ]
     },
     "metadata": {},
     "output_type": "display_data"
    }
   ],
   "source": [
    "plt.figure(figsize=(10, 6))\n",
    "\n",
    "plt.plot(average_messages[average_messages['plan_name'] == 'surf']['month'],\n",
    "         average_messages[average_messages['plan_name'] == 'surf']['messages'],\n",
    "         marker='o', linestyle='-', label='Surf', color='blue')\n",
    "\n",
    "plt.plot(average_messages[average_messages['plan_name'] == 'ultimate']['month'],\n",
    "         average_messages[average_messages['plan_name'] == 'ultimate']['messages'],\n",
    "         marker='o', linestyle='-', label='Ultimate', color='green')\n",
    "\n",
    "\n",
    "plt.xlabel('Mes')\n",
    "plt.ylabel('Número promedio de mensajes')\n",
    "plt.title('Número promedio de mensajes enviados por plan y por mes')\n",
    "plt.legend(title='Plan')\n",
    "plt.show()\n",
    "\n"
   ]
  },
  {
   "cell_type": "code",
   "execution_count": 46,
   "metadata": {
    "id": "GRI_R7xF0q1L",
    "trusted": false
   },
   "outputs": [
    {
     "name": "stdout",
     "output_type": "stream",
     "text": [
      "  plan_name  month       mb_used\n",
      "0      surf      1   4874.860000\n",
      "1      surf      2  12178.843333\n",
      "2      surf      3  13345.440000\n",
      "3      surf      4  11984.203000\n",
      "4      surf      5  13936.354935\n"
     ]
    }
   ],
   "source": [
    "\n",
    "average_data_usage = df_user_month.groupby(['plan_name', 'month'])['mb_used'].mean().reset_index()\n",
    "print(average_data_usage.head())\n",
    "\n",
    "# Compara la cantidad de tráfico de Internet consumido por usuarios por plan"
   ]
  },
  {
   "cell_type": "code",
   "execution_count": 47,
   "metadata": {
    "id": "dtFwCGAp0q1M",
    "trusted": false
   },
   "outputs": [
    {
     "data": {
      "image/png": "[encoded data removed]",
      "text/plain": [
       "<Figure size 1000x600 with 1 Axes>"
      ]
     },
     "metadata": {},
     "output_type": "display_data"
    }
   ],
   "source": [
    "plt.figure(figsize=(10, 6))\n",
    "\n",
    "plt.plot(average_data_usage[average_data_usage['plan_name'] == 'surf']['month'],\n",
    "         average_data_usage[average_data_usage['plan_name'] == 'surf']['mb_used'],\n",
    "         marker='o', linestyle='-', label='Surf', color='blue')\n",
    "\n",
    "plt.plot(average_data_usage[average_data_usage['plan_name'] == 'ultimate']['month'],\n",
    "         average_data_usage[average_data_usage['plan_name'] == 'ultimate']['mb_used'],\n",
    "         marker='o', linestyle='-', label='Ultimate', color='green')\n",
    "\n",
    "plt.xlabel('Mes')\n",
    "plt.ylabel('Uso promedio de datos (MB)')\n",
    "plt.title('Uso promedio de datos por plan y por mes')\n",
    "plt.legend(title='Plan')\n",
    "plt.show()\n"
   ]
  },
  {
   "cell_type": "markdown",
   "metadata": {
    "id": "390SSL480q1M"
   },
   "source": [
    "[Elabora las conclusiones sobre el comportamiento de los usuarios con respecto a los mensajes. ¿Su comportamiento varía en función del plan?]"
   ]
  },
  {
   "cell_type": "markdown",
   "metadata": {},
   "source": [
    "respecto a los mensajes varía en función del plan:\n",
    "\n",
    "Los usuarios del plan \"Ultimate\" tienden a enviar más mensajes en comparación con los usuarios del plan \"Surf\".\n",
    "\n",
    "La variabilidad en el número de mensajes enviados es mayor en el plan \"Ultimate\", lo que indica diferentes patrones de uso entre los usuarios.\n",
    "\n"
   ]
  },
  {
   "cell_type": "markdown",
   "metadata": {
    "id": "42YSypXz0q1M"
   },
   "source": [
    "### Internet"
   ]
  },
  {
   "cell_type": "markdown",
   "metadata": {
    "id": "5VlyJ9ry0q1N"
   },
   "source": [
    "con respecto al consumo de tráfico de Internet varía en función del plan:\n",
    "\n",
    "Los usuarios del plan \"Ultimate\" tienden a consumir más datos en comparación con los usuarios del plan \"Surf\".\n",
    "\n",
    "La variabilidad en el consumo de datos es mayor en el plan \"Ultimate\", indicando diferentes patrones de uso entre los usuarios"
   ]
  },
  {
   "cell_type": "markdown",
   "metadata": {
    "id": "UN9zwuMP0q1N"
   },
   "source": [
    "[Elabora las conclusiones sobre cómo los usuarios tienden a consumir el tráfico de Internet. ¿Su comportamiento varía en función del plan?]"
   ]
  },
  {
   "cell_type": "markdown",
   "metadata": {
    "id": "tCijq3260q1N"
   },
   "source": [
    "## Ingreso"
   ]
  },
  {
   "cell_type": "markdown",
   "metadata": {
    "id": "9nq5IAcy0q1O"
   },
   "source": [
    "[Del mismo modo que has estudiado el comportamiento de los usuarios, describe estadísticamente los ingresos de los planes.]"
   ]
  },
  {
   "cell_type": "code",
   "execution_count": 48,
   "metadata": {
    "id": "tz-dq_V00q1O",
    "trusted": false
   },
   "outputs": [
    {
     "name": "stdout",
     "output_type": "stream",
     "text": [
      "  plan_name  month    revenue\n",
      "0      surf      1  20.000000\n",
      "1      surf      2  33.145556\n",
      "2      surf      3  43.616087\n",
      "3      surf      4  38.653800\n",
      "4      surf      5  45.677013\n"
     ]
    }
   ],
   "source": [
    "average_revenue_month = df_user_month.groupby(['plan_name', 'month'])['revenue'].mean().reset_index()\n",
    "print(average_revenue_month.head())"
   ]
  },
  {
   "cell_type": "code",
   "execution_count": 49,
   "metadata": {
    "id": "0Y1v8ZUz0q1P",
    "trusted": false
   },
   "outputs": [
    {
     "data": {
      "image/png": "[encoded data removed]",
      "text/plain": [
       "<Figure size 1000x600 with 1 Axes>"
      ]
     },
     "metadata": {},
     "output_type": "display_data"
    }
   ],
   "source": [
    "\n",
    "plt.figure(figsize=(10, 6))\n",
    "\n",
    "\n",
    "for plan in average_revenue_month['plan_name'].unique():\n",
    "    plan_data = average_revenue_month[average_revenue_month['plan_name'] == plan]\n",
    "    plt.plot(plan_data['month'], plan_data['revenue'], marker='o', label=plan.capitalize())\n",
    "    \n",
    "   \n",
    "    for i in range(len(plan_data)):\n",
    "        plt.text(plan_data['month'].iloc[i], plan_data['revenue'].iloc[i], round(plan_data['revenue'].iloc[i], 2), \n",
    "                 ha='center', va='bottom', fontsize=10, fontweight='bold')\n",
    "\n",
    "plt.xlabel('Mes')\n",
    "plt.ylabel('Ingreso promedio (USD)')\n",
    "plt.title('Ingreso promedio por mes y por plan')\n",
    "plt.legend(title='Plan')\n",
    "plt.show()\n",
    "\n",
    "\n"
   ]
  },
  {
   "cell_type": "markdown",
   "metadata": {
    "id": "KAFidcXZ0q1P"
   },
   "source": [
    "[Elabora las conclusiones sobre cómo difiere el ingreso entre los planes.]"
   ]
  },
  {
   "cell_type": "markdown",
   "metadata": {},
   "source": [
    "los ingresos difieren significativamente entre los planes \"Surf\" y \"Ultimate\":\n",
    "\n",
    "Plan \"Surf\": Genera ingresos más bajos y consistentes por usuario, principalmente a partir de la tarifa mensual básica.\n",
    "\n",
    "Plan \"Ultimate\": Genera ingresos más altos y variables por usuario, tanto de la tarifa mensual básica como de los ingresos adicionales por excedentes en llamadas, mensajes y datos."
   ]
  },
  {
   "cell_type": "markdown",
   "metadata": {
    "id": "ajJ7VKeI0q1Q"
   },
   "source": [
    "## Prueba las hipótesis estadísticas"
   ]
  },
  {
   "cell_type": "markdown",
   "metadata": {
    "id": "AdXAZ-yL0q1Q"
   },
   "source": [
    "[Prueba la hipótesis de que son diferentes los ingresos promedio procedentes de los usuarios de los planes de llamada Ultimate y Surf.]"
   ]
  },
  {
   "cell_type": "markdown",
   "metadata": {
    "id": "IQwa_hsh0q1Q"
   },
   "source": [
    "[Elabora las hipótesis nula y alternativa, escoge la prueba estadística, determina el valor alfa.]"
   ]
  },
  {
   "cell_type": "code",
   "execution_count": 50,
   "metadata": {
    "trusted": false
   },
   "outputs": [
    {
     "data": {
      "text/html": [
       "<div>\n",
       "<style scoped>\n",
       "    .dataframe tbody tr th:only-of-type {\n",
       "        vertical-align: middle;\n",
       "    }\n",
       "\n",
       "    .dataframe tbody tr th {\n",
       "        vertical-align: top;\n",
       "    }\n",
       "\n",
       "    .dataframe thead th {\n",
       "        text-align: right;\n",
       "    }\n",
       "</style>\n",
       "<table border=\"1\" class=\"dataframe\">\n",
       "  <thead>\n",
       "    <tr style=\"text-align: right;\">\n",
       "      <th></th>\n",
       "      <th>user_id</th>\n",
       "      <th>month</th>\n",
       "      <th>duration</th>\n",
       "      <th>messages</th>\n",
       "      <th>mb_used</th>\n",
       "      <th>messages_included</th>\n",
       "      <th>mb_per_month_included</th>\n",
       "      <th>minutes_included</th>\n",
       "      <th>usd_monthly_pay</th>\n",
       "      <th>usd_per_gb</th>\n",
       "      <th>usd_per_message</th>\n",
       "      <th>usd_per_minute</th>\n",
       "      <th>val_lla</th>\n",
       "      <th>val_meg</th>\n",
       "      <th>val_int</th>\n",
       "      <th>val_int_gb</th>\n",
       "      <th>revenue</th>\n",
       "    </tr>\n",
       "  </thead>\n",
       "  <tbody>\n",
       "    <tr>\n",
       "      <th>count</th>\n",
       "      <td>2293.000000</td>\n",
       "      <td>2293.000000</td>\n",
       "      <td>2293.000000</td>\n",
       "      <td>2293.000000</td>\n",
       "      <td>2293.000000</td>\n",
       "      <td>2293.000000</td>\n",
       "      <td>2293.000000</td>\n",
       "      <td>2293.000000</td>\n",
       "      <td>2293.000000</td>\n",
       "      <td>2293.000000</td>\n",
       "      <td>2293.000000</td>\n",
       "      <td>2293.000000</td>\n",
       "      <td>2293.000000</td>\n",
       "      <td>2293.000000</td>\n",
       "      <td>2293.000000</td>\n",
       "      <td>2293.000000</td>\n",
       "      <td>2293.000000</td>\n",
       "    </tr>\n",
       "    <tr>\n",
       "      <th>mean</th>\n",
       "      <td>1246.075883</td>\n",
       "      <td>9.172700</td>\n",
       "      <td>405.211627</td>\n",
       "      <td>33.166594</td>\n",
       "      <td>16764.397606</td>\n",
       "      <td>348.299171</td>\n",
       "      <td>20183.026603</td>\n",
       "      <td>1284.997819</td>\n",
       "      <td>35.699956</td>\n",
       "      <td>9.058003</td>\n",
       "      <td>0.023720</td>\n",
       "      <td>0.023720</td>\n",
       "      <td>33.491932</td>\n",
       "      <td>4.810728</td>\n",
       "      <td>2599.287383</td>\n",
       "      <td>2.530310</td>\n",
       "      <td>61.868225</td>\n",
       "    </tr>\n",
       "    <tr>\n",
       "      <th>std</th>\n",
       "      <td>143.051927</td>\n",
       "      <td>2.496386</td>\n",
       "      <td>223.383523</td>\n",
       "      <td>34.070085</td>\n",
       "      <td>7967.237527</td>\n",
       "      <td>441.006389</td>\n",
       "      <td>7130.376976</td>\n",
       "      <td>1160.543128</td>\n",
       "      <td>23.210863</td>\n",
       "      <td>1.392652</td>\n",
       "      <td>0.009284</td>\n",
       "      <td>0.009284</td>\n",
       "      <td>93.926109</td>\n",
       "      <td>16.450516</td>\n",
       "      <td>4829.602158</td>\n",
       "      <td>4.713759</td>\n",
       "      <td>45.426586</td>\n",
       "    </tr>\n",
       "    <tr>\n",
       "      <th>min</th>\n",
       "      <td>1000.000000</td>\n",
       "      <td>1.000000</td>\n",
       "      <td>0.000000</td>\n",
       "      <td>0.000000</td>\n",
       "      <td>0.000000</td>\n",
       "      <td>50.000000</td>\n",
       "      <td>15360.000000</td>\n",
       "      <td>500.000000</td>\n",
       "      <td>20.000000</td>\n",
       "      <td>7.000000</td>\n",
       "      <td>0.010000</td>\n",
       "      <td>0.010000</td>\n",
       "      <td>0.000000</td>\n",
       "      <td>0.000000</td>\n",
       "      <td>0.000000</td>\n",
       "      <td>0.000000</td>\n",
       "      <td>20.000000</td>\n",
       "    </tr>\n",
       "    <tr>\n",
       "      <th>25%</th>\n",
       "      <td>1122.000000</td>\n",
       "      <td>8.000000</td>\n",
       "      <td>249.130000</td>\n",
       "      <td>3.000000</td>\n",
       "      <td>12235.760000</td>\n",
       "      <td>50.000000</td>\n",
       "      <td>15360.000000</td>\n",
       "      <td>500.000000</td>\n",
       "      <td>20.000000</td>\n",
       "      <td>7.000000</td>\n",
       "      <td>0.010000</td>\n",
       "      <td>0.010000</td>\n",
       "      <td>0.000000</td>\n",
       "      <td>0.000000</td>\n",
       "      <td>0.000000</td>\n",
       "      <td>0.000000</td>\n",
       "      <td>21.530000</td>\n",
       "    </tr>\n",
       "    <tr>\n",
       "      <th>50%</th>\n",
       "      <td>1245.000000</td>\n",
       "      <td>10.000000</td>\n",
       "      <td>400.160000</td>\n",
       "      <td>26.000000</td>\n",
       "      <td>16830.640000</td>\n",
       "      <td>50.000000</td>\n",
       "      <td>15360.000000</td>\n",
       "      <td>500.000000</td>\n",
       "      <td>20.000000</td>\n",
       "      <td>10.000000</td>\n",
       "      <td>0.030000</td>\n",
       "      <td>0.030000</td>\n",
       "      <td>0.000000</td>\n",
       "      <td>0.000000</td>\n",
       "      <td>0.000000</td>\n",
       "      <td>0.000000</td>\n",
       "      <td>70.000000</td>\n",
       "    </tr>\n",
       "    <tr>\n",
       "      <th>75%</th>\n",
       "      <td>1368.000000</td>\n",
       "      <td>11.000000</td>\n",
       "      <td>540.450000</td>\n",
       "      <td>51.000000</td>\n",
       "      <td>20999.840000</td>\n",
       "      <td>1000.000000</td>\n",
       "      <td>30720.000000</td>\n",
       "      <td>3000.000000</td>\n",
       "      <td>70.000000</td>\n",
       "      <td>10.000000</td>\n",
       "      <td>0.030000</td>\n",
       "      <td>0.030000</td>\n",
       "      <td>0.000000</td>\n",
       "      <td>0.000000</td>\n",
       "      <td>3699.300000</td>\n",
       "      <td>4.000000</td>\n",
       "      <td>70.000000</td>\n",
       "    </tr>\n",
       "    <tr>\n",
       "      <th>max</th>\n",
       "      <td>1499.000000</td>\n",
       "      <td>12.000000</td>\n",
       "      <td>1431.220000</td>\n",
       "      <td>266.000000</td>\n",
       "      <td>70931.590000</td>\n",
       "      <td>1000.000000</td>\n",
       "      <td>30720.000000</td>\n",
       "      <td>3000.000000</td>\n",
       "      <td>70.000000</td>\n",
       "      <td>10.000000</td>\n",
       "      <td>0.030000</td>\n",
       "      <td>0.030000</td>\n",
       "      <td>931.000000</td>\n",
       "      <td>216.000000</td>\n",
       "      <td>55571.590000</td>\n",
       "      <td>54.000000</td>\n",
       "      <td>578.630000</td>\n",
       "    </tr>\n",
       "  </tbody>\n",
       "</table>\n",
       "</div>"
      ],
      "text/plain": [
       "           user_id        month     duration     messages       mb_used  \\\n",
       "count  2293.000000  2293.000000  2293.000000  2293.000000   2293.000000   \n",
       "mean   1246.075883     9.172700   405.211627    33.166594  16764.397606   \n",
       "std     143.051927     2.496386   223.383523    34.070085   7967.237527   \n",
       "min    1000.000000     1.000000     0.000000     0.000000      0.000000   \n",
       "25%    1122.000000     8.000000   249.130000     3.000000  12235.760000   \n",
       "50%    1245.000000    10.000000   400.160000    26.000000  16830.640000   \n",
       "75%    1368.000000    11.000000   540.450000    51.000000  20999.840000   \n",
       "max    1499.000000    12.000000  1431.220000   266.000000  70931.590000   \n",
       "\n",
       "       messages_included  mb_per_month_included  minutes_included  \\\n",
       "count        2293.000000            2293.000000       2293.000000   \n",
       "mean          348.299171           20183.026603       1284.997819   \n",
       "std           441.006389            7130.376976       1160.543128   \n",
       "min            50.000000           15360.000000        500.000000   \n",
       "25%            50.000000           15360.000000        500.000000   \n",
       "50%            50.000000           15360.000000        500.000000   \n",
       "75%          1000.000000           30720.000000       3000.000000   \n",
       "max          1000.000000           30720.000000       3000.000000   \n",
       "\n",
       "       usd_monthly_pay   usd_per_gb  usd_per_message  usd_per_minute  \\\n",
       "count      2293.000000  2293.000000      2293.000000     2293.000000   \n",
       "mean         35.699956     9.058003         0.023720        0.023720   \n",
       "std          23.210863     1.392652         0.009284        0.009284   \n",
       "min          20.000000     7.000000         0.010000        0.010000   \n",
       "25%          20.000000     7.000000         0.010000        0.010000   \n",
       "50%          20.000000    10.000000         0.030000        0.030000   \n",
       "75%          70.000000    10.000000         0.030000        0.030000   \n",
       "max          70.000000    10.000000         0.030000        0.030000   \n",
       "\n",
       "           val_lla      val_meg       val_int   val_int_gb      revenue  \n",
       "count  2293.000000  2293.000000   2293.000000  2293.000000  2293.000000  \n",
       "mean     33.491932     4.810728   2599.287383     2.530310    61.868225  \n",
       "std      93.926109    16.450516   4829.602158     4.713759    45.426586  \n",
       "min       0.000000     0.000000      0.000000     0.000000    20.000000  \n",
       "25%       0.000000     0.000000      0.000000     0.000000    21.530000  \n",
       "50%       0.000000     0.000000      0.000000     0.000000    70.000000  \n",
       "75%       0.000000     0.000000   3699.300000     4.000000    70.000000  \n",
       "max     931.000000   216.000000  55571.590000    54.000000   578.630000  "
      ]
     },
     "execution_count": 50,
     "metadata": {},
     "output_type": "execute_result"
    }
   ],
   "source": [
    "df_user_month.describe()"
   ]
  },
  {
   "cell_type": "code",
   "execution_count": 51,
   "metadata": {
    "trusted": false
   },
   "outputs": [],
   "source": [
    "alpha = 0.05"
   ]
  },
  {
   "cell_type": "code",
   "execution_count": 52,
   "metadata": {
    "id": "nFoPNlPq0q1R",
    "trusted": false
   },
   "outputs": [
    {
     "name": "stdout",
     "output_type": "stream",
     "text": [
      "Valor p de la prueba t para comparar ingresos entre planes: 2.2734565113013996e-25\n"
     ]
    }
   ],
   "source": [
    "test_results = st.ttest_ind(df_user_month[df_user_month['plan_name'] == 'surf']['revenue'], \n",
    "                            df_user_month[df_user_month['plan_name'] == 'ultimate']['revenue'],\n",
    "                            equal_var=False)\n",
    "print('Valor p de la prueba t para comparar ingresos entre planes:', test_results.pvalue)"
   ]
  },
  {
   "cell_type": "markdown",
   "metadata": {},
   "source": [
    "Si el valor p es menor a 0.05 , podemos decir que la hipotesis alternativa es la correcta, en el contexto si hay diferencia \n",
    "en los ingresos promedio entre los dos planes.\n",
    "\n",
    "Si el valor p es mayor a 0.05 , podemos rechazar la hipótesis nula, \n",
    "en este contexto sería que no hay diferencia en los ingresos promedio entre los dos planes."
   ]
  },
  {
   "cell_type": "markdown",
   "metadata": {
    "id": "tCcAruM60q1R"
   },
   "source": [
    "    [Prueba la hipótesis de que el ingreso promedio de los usuarios del área NY-NJ es diferente al de los usuarios de otras regiones.]"
   ]
  },
  {
   "cell_type": "code",
   "execution_count": 53,
   "metadata": {
    "trusted": false
   },
   "outputs": [],
   "source": [
    "alpha = 0.05"
   ]
  },
  {
   "cell_type": "code",
   "execution_count": 54,
   "metadata": {
    "scrolled": true,
    "trusted": false
   },
   "outputs": [
    {
     "name": "stdout",
     "output_type": "stream",
     "text": [
      "Valor p de la prueba t para comparar ingresos entre regiones: 0.02562213042590581\n"
     ]
    }
   ],
   "source": [
    "ny_nj_region = 'New York-Newark-Jersey City, NY-NJ-PA MSA'\n",
    "\n",
    "revenue_ny_nj = df_user_month[df_user_month['city'] == ny_nj_region]['revenue']\n",
    "revenue_other_regions = df_user_month[df_user_month['city'] != ny_nj_region]['revenue']\n",
    "\n",
    "test_results = st.ttest_ind(revenue_ny_nj, revenue_other_regions)\n",
    "\n",
    "print('Valor p de la prueba t para comparar ingresos entre regiones:', test_results.pvalue)\n"
   ]
  },
  {
   "cell_type": "markdown",
   "metadata": {
    "id": "LsBgitqj0q1R"
   },
   "source": [
    "[Elabora las hipótesis nula y alternativa, escoge la prueba estadística, determina el valor alfa.]"
   ]
  },
  {
   "cell_type": "markdown",
   "metadata": {},
   "source": [
    "Si el valor p es menor a 0.05 , podemos decir que la hipotesis alternativa es la correcta, en el contexto que si hay diferencia significativa en los ingresos promedio entre las ciudades.\n",
    "\n",
    "Si el valor p es mayor a 0.05 , podemos rechazar la hipótesis nula, \n",
    "en este contexto sería que no hay diferencia en los ingresos promedio entre las ciudades."
   ]
  },
  {
   "cell_type": "markdown",
   "metadata": {
    "id": "Cqcj7wrZ0q1S"
   },
   "source": [
    "Para comparar los ingresos promedio de dos grupos independientes (usuarios del área NY-NJ vs. \n",
    "usuarios de otras regiones), utilizaremos la prueba t para dos muestras independientes.\n",
    "Esta prueba nos permite determinar si hay una diferencia estadísticamente significativa\n",
    "entre los ingresos promedio de los dos grupos.\n"
   ]
  },
  {
   "cell_type": "markdown",
   "metadata": {
    "id": "bbTR8UQO0q1T"
   },
   "source": [
    "## Conclusión general\n",
    "\n",
    "[En esta sección final, enumera tus conclusiones importantes. Asegúrate de que estas abarquen todas las decisiones (suposiciones) importantes que adoptaste y que determinaron la forma elegida para procesar y analizar los datos.]"
   ]
  },
  {
   "cell_type": "markdown",
   "metadata": {},
   "source": [
    "En este proyecto, realizamos un análisis exhaustivo de los planes de prepago Surf y Ultimate ofrecidos por Megaline para determinar cuál de ellos genera más ingresos. A continuación, se enumeran las conclusiones y decisiones clave que determinaron la forma en que procesamos y analizamos los datos:\n",
    "\n",
    "Preparación y Limpieza de Datos:\n",
    "\n",
    "Conversión de Fechas: Convertimos las fechas en objetos datetime para facilitar el análisis basado en el tiempo de los dataframe, internet, mensajes y llamadas.\n",
    "\n",
    "Creación de Columnas de Mes: Añadimos columnas que representan el mes para permitir la agrupación mensual de los datos.\n",
    "\n",
    "Cálculo del Uso Total:\n",
    "\n",
    "Agrupamos los datos de llamadas, mensajes y uso de datos por usuario y mes para obtener el total de minutos utilizados, SMS enviados y datos consumidos.\n",
    "\n",
    "Unión de Datos:\n",
    "\n",
    "Unimos los datos de llamadas, mensajes e internet con los datos de usuarios para tener un conjunto de datos completo que incluya la información del plan, el uso de servicios y las tarifas correspondientes, tambien añadimos el plan, obteniendo un dateframe grande con toda la informacion procesada.\n",
    "\n",
    "Cálculo de Ingresos:\n",
    "\n",
    "Desarrollamos una función para calcular los ingresos totales por usuario, considerando tanto los ingresos básicos por suscripción mensual como los ingresos adicionales por exceder los límites del plan.\n",
    "\n",
    "Distribucion en grafico:\n",
    "Graficamos la distribucion por mes de llamadas, mensajes, internet y planes.\n",
    "\n",
    "Análisis Estadístico:\n",
    "\n",
    "Formulación de Hipótesis del dataframe:\n",
    "\n",
    "Hipótesis Nula (H0): Los ingresos promedio de los usuarios del plan Ultimate son iguales a los ingresos promedio de los usuarios del plan Surf.\n",
    "\n",
    "Hipótesis Alternativa (H1): Los ingresos promedio de los usuarios del plan Ultimate son diferentes a los ingresos promedio de los usuarios del plan Surf.\n",
    "\n",
    "Selección de Prueba Estadística: Usamos una prueba t de dos muestras (independiente) para comparar las medias de ingresos de los dos planes.\n",
    "\n",
    "Establecimos un nivel de significancia de 0.05 para la prueba estadística.\n",
    "\n",
    "Resultados: El valor p obtenido 2.2734565113013996e-25 fue extremadamente bajo, permitiéndonos rechazar la hipótesis nula y concluir que hay una diferencia significativa en los ingresos promedio entre los planes Ultimate y Surf.\n",
    "\n",
    "Formulación de Hipótesis de la ciudades:\n",
    "\n",
    "Hipótesis Nula (H0): Los ingresos promedio de los usuarios en NY-NJ son iguales a los ingresos promedio de los usuarios del  resto de cuidades.\n",
    "\n",
    "Hipótesis Alternativa (H1): Los ingresos promedio de los usuarios en NY-NJ son diferentes a los ingresos promedio de los usuarios del resto de cuidades.\n",
    "\n",
    "Selección de Prueba Estadística: Usamos una prueba t de dos muestras (independiente) para comparar las medias de ingresos de las cuidades (NY-NJ) con el resto de estados.\n",
    "\n",
    "Establecimos un nivel de significancia de 0.05 para la prueba estadística.\n",
    "\n",
    "Resultados: El valor p obtenido 0.02562213042590581 fue extremadamente bajo, permitiéndonos rechazar la hipótesis nula y concluir que hay una diferencia significativa en los ingresos promedio entre las ciudades de NY-NJ y el resto de estados.\n",
    "\n",
    "CONCLUSIONES IMPORTANTES:\n",
    "\n",
    "Diferencia Significativa en los Ingresos Promedio:\n",
    "\n",
    "Los resultados de la prueba t indicaron una diferencia significativa en los ingresos promedio entre los usuarios de los planes Ultimate y Surf. Específicamente, el plan Ultimate genera más ingresos promedio que el plan Surf.\n",
    "\n",
    "Beneficios del Plan Ultimate:\n",
    "\n",
    "Aunque el plan Ultimate tiene una tarifa de suscripción más alta, ofrece más minutos, mensajes y datos incluidos, lo que resulta en menos cargos adicionales para los usuarios y, en general, mayores ingresos para la empresa.\n",
    "\n",
    "Consideraciones para la Toma de Decisiones:\n",
    "\n",
    "Estos hallazgos pueden informar las decisiones del departamento comercial de Megaline, especialmente en lo que respecta a la asignación del presupuesto de publicidad y el enfoque de marketing para maximizar los ingresos."
   ]
  }
 ],
 "metadata": {
  "ExecuteTimeLog": [
   {
    "duration": 828,
    "start_time": "2021-11-16T09:21:11.304Z"
   },
   {
    "duration": 893,
    "start_time": "2021-11-16T09:21:17.728Z"
   },
   {
    "duration": 1150,
    "start_time": "2021-11-16T09:21:29.568Z"
   },
   {
    "duration": 3,
    "start_time": "2021-11-16T09:24:14.495Z"
   },
   {
    "duration": 120,
    "start_time": "2021-11-16T09:24:46.630Z"
   },
   {
    "duration": 3,
    "start_time": "2021-11-16T09:28:27.882Z"
   },
   {
    "duration": 4,
    "start_time": "2021-11-16T09:29:54.281Z"
   },
   {
    "duration": 3,
    "start_time": "2021-11-16T09:30:45.936Z"
   },
   {
    "duration": 4,
    "start_time": "2021-11-16T09:31:06.300Z"
   },
   {
    "duration": 113,
    "start_time": "2021-11-16T09:31:37.208Z"
   },
   {
    "duration": 143,
    "start_time": "2021-11-16T09:31:48.656Z"
   },
   {
    "duration": 98,
    "start_time": "2021-11-16T09:31:55.678Z"
   },
   {
    "duration": 3,
    "start_time": "2021-11-16T09:32:08.535Z"
   },
   {
    "duration": 111,
    "start_time": "2021-11-16T09:32:10.120Z"
   },
   {
    "duration": 3,
    "start_time": "2021-11-16T09:32:15.732Z"
   },
   {
    "duration": 4,
    "start_time": "2021-11-16T09:32:29.423Z"
   },
   {
    "duration": 3,
    "start_time": "2021-11-16T10:03:03.074Z"
   },
   {
    "duration": 3,
    "start_time": "2021-11-16T10:10:01.288Z"
   },
   {
    "duration": 3,
    "start_time": "2021-11-16T10:10:46.923Z"
   },
   {
    "duration": 121,
    "start_time": "2021-11-16T10:37:46.494Z"
   },
   {
    "duration": 125,
    "start_time": "2021-11-16T10:38:20.632Z"
   },
   {
    "duration": 112,
    "start_time": "2021-11-16T10:46:53.001Z"
   },
   {
    "duration": 110,
    "start_time": "2021-11-16T10:48:25.775Z"
   },
   {
    "duration": 3,
    "start_time": "2021-11-16T10:50:18.720Z"
   },
   {
    "duration": 4,
    "start_time": "2021-11-16T10:50:37.649Z"
   },
   {
    "duration": 2,
    "start_time": "2021-11-16T10:50:51.884Z"
   },
   {
    "duration": 3,
    "start_time": "2021-11-16T10:51:56.237Z"
   },
   {
    "duration": 101,
    "start_time": "2021-11-16T10:53:13.791Z"
   },
   {
    "duration": 3,
    "start_time": "2021-11-16T10:55:59.186Z"
   },
   {
    "duration": 3,
    "start_time": "2021-11-16T10:56:10.751Z"
   },
   {
    "duration": 3,
    "start_time": "2021-11-16T10:56:49.038Z"
   },
   {
    "duration": 3,
    "start_time": "2021-11-16T10:56:49.174Z"
   },
   {
    "duration": 4,
    "start_time": "2021-11-16T10:56:49.414Z"
   },
   {
    "duration": 3,
    "start_time": "2021-11-16T10:56:49.680Z"
   },
   {
    "duration": 3,
    "start_time": "2021-11-16T10:56:50.370Z"
   },
   {
    "duration": 114,
    "start_time": "2021-11-16T10:59:34.518Z"
   },
   {
    "duration": 3,
    "start_time": "2021-11-16T11:01:41.201Z"
   },
   {
    "duration": 116,
    "start_time": "2021-11-16T11:01:48.754Z"
   },
   {
    "duration": 3,
    "start_time": "2021-11-16T11:02:16.685Z"
   },
   {
    "duration": 3,
    "start_time": "2021-11-16T11:02:19.479Z"
   },
   {
    "duration": 3,
    "start_time": "2021-11-16T11:02:47.067Z"
   },
   {
    "duration": 3,
    "start_time": "2021-11-16T11:02:49.353Z"
   },
   {
    "duration": 3,
    "start_time": "2021-11-16T11:03:07.835Z"
   },
   {
    "duration": 3,
    "start_time": "2021-11-16T11:03:07.953Z"
   },
   {
    "duration": 112,
    "start_time": "2021-11-16T11:07:52.072Z"
   },
   {
    "duration": 187,
    "start_time": "2021-11-16T11:09:23.468Z"
   },
   {
    "duration": 4,
    "start_time": "2021-11-16T11:10:01.455Z"
   },
   {
    "duration": 3,
    "start_time": "2021-11-16T11:10:05.069Z"
   },
   {
    "duration": 4,
    "start_time": "2021-11-16T11:10:13.376Z"
   },
   {
    "duration": 3,
    "start_time": "2021-11-16T11:10:14.434Z"
   },
   {
    "duration": 3,
    "start_time": "2021-11-16T11:10:22.853Z"
   },
   {
    "duration": 4,
    "start_time": "2021-11-16T11:27:29.279Z"
   },
   {
    "duration": 4,
    "start_time": "2021-11-16T11:29:08.919Z"
   },
   {
    "duration": 118,
    "start_time": "2021-11-16T11:29:46.703Z"
   },
   {
    "duration": 437,
    "start_time": "2021-11-16T11:36:02.181Z"
   },
   {
    "duration": 157,
    "start_time": "2021-11-16T11:36:14.388Z"
   },
   {
    "duration": 207,
    "start_time": "2021-11-16T11:47:15.898Z"
   },
   {
    "duration": 3,
    "start_time": "2021-11-16T11:53:52.092Z"
   },
   {
    "duration": 3,
    "start_time": "2021-11-16T11:53:52.236Z"
   },
   {
    "duration": 3,
    "start_time": "2021-11-16T11:59:12.005Z"
   },
   {
    "duration": 112,
    "start_time": "2021-11-16T12:00:33.446Z"
   },
   {
    "duration": 3,
    "start_time": "2021-11-16T12:02:14.453Z"
   },
   {
    "duration": 3,
    "start_time": "2021-11-16T12:02:39.512Z"
   },
   {
    "duration": 106,
    "start_time": "2021-11-16T12:03:03.460Z"
   },
   {
    "duration": 3,
    "start_time": "2021-11-17T20:37:21.139Z"
   },
   {
    "duration": 3,
    "start_time": "2021-11-17T20:37:22.229Z"
   },
   {
    "duration": 3,
    "start_time": "2021-11-17T20:38:38.806Z"
   },
   {
    "duration": 3,
    "start_time": "2021-11-17T20:38:41.958Z"
   },
   {
    "duration": 3,
    "start_time": "2021-11-17T20:43:46.551Z"
   },
   {
    "duration": 4,
    "start_time": "2021-11-17T20:58:21.835Z"
   },
   {
    "duration": 3,
    "start_time": "2021-11-17T20:59:21.872Z"
   },
   {
    "duration": 4,
    "start_time": "2021-11-17T20:59:45.352Z"
   },
   {
    "duration": 4,
    "start_time": "2021-11-17T20:59:49.646Z"
   },
   {
    "duration": 159,
    "start_time": "2021-11-17T21:02:26.949Z"
   },
   {
    "duration": 3,
    "start_time": "2021-11-17T21:03:53.461Z"
   },
   {
    "duration": 3,
    "start_time": "2021-11-17T21:03:53.694Z"
   },
   {
    "duration": 3,
    "start_time": "2021-11-17T21:05:28.145Z"
   },
   {
    "duration": 116,
    "start_time": "2021-11-17T21:05:57.787Z"
   },
   {
    "duration": 3,
    "start_time": "2021-11-17T21:06:37.993Z"
   },
   {
    "duration": 3,
    "start_time": "2021-11-17T21:06:38.261Z"
   },
   {
    "duration": 3,
    "start_time": "2021-11-17T21:11:54.358Z"
   },
   {
    "duration": 3,
    "start_time": "2021-11-17T21:12:43.846Z"
   },
   {
    "duration": 4,
    "start_time": "2021-11-17T21:13:08.773Z"
   },
   {
    "duration": 3,
    "start_time": "2021-11-17T21:14:44.441Z"
   },
   {
    "duration": 3,
    "start_time": "2021-11-17T21:15:42.059Z"
   },
   {
    "duration": 4,
    "start_time": "2021-11-17T21:15:51.995Z"
   },
   {
    "duration": 3,
    "start_time": "2021-11-17T21:15:53.923Z"
   },
   {
    "duration": 3,
    "start_time": "2021-11-17T21:15:55.282Z"
   },
   {
    "duration": 3,
    "start_time": "2021-11-17T21:16:28.492Z"
   },
   {
    "duration": 3,
    "start_time": "2021-11-17T21:16:32.603Z"
   },
   {
    "duration": 3,
    "start_time": "2021-11-17T21:17:06.941Z"
   },
   {
    "duration": 98,
    "start_time": "2021-11-17T21:18:05.733Z"
   },
   {
    "duration": 4,
    "start_time": "2021-11-17T21:21:35.255Z"
   },
   {
    "duration": 3,
    "start_time": "2021-11-17T21:21:37.804Z"
   },
   {
    "duration": 4,
    "start_time": "2021-11-17T21:23:06.071Z"
   },
   {
    "duration": 3,
    "start_time": "2021-11-17T21:23:24.799Z"
   },
   {
    "duration": 3,
    "start_time": "2021-11-17T21:23:32.591Z"
   },
   {
    "duration": 98,
    "start_time": "2021-11-17T21:28:31.559Z"
   },
   {
    "duration": 3,
    "start_time": "2021-11-17T21:28:45.448Z"
   },
   {
    "duration": 3,
    "start_time": "2021-11-17T21:29:17.303Z"
   },
   {
    "duration": 3,
    "start_time": "2021-11-17T21:29:29.617Z"
   },
   {
    "duration": 3,
    "start_time": "2021-11-17T21:29:32.681Z"
   },
   {
    "duration": 3,
    "start_time": "2021-11-17T21:36:11.474Z"
   },
   {
    "duration": 3,
    "start_time": "2021-11-17T21:36:14.791Z"
   },
   {
    "duration": 3,
    "start_time": "2021-11-17T21:36:53.943Z"
   },
   {
    "duration": 3,
    "start_time": "2021-11-17T21:36:56.165Z"
   },
   {
    "duration": 4,
    "start_time": "2021-11-17T21:37:16.590Z"
   },
   {
    "duration": 3,
    "start_time": "2021-11-17T21:37:22.702Z"
   },
   {
    "duration": 4,
    "start_time": "2021-11-17T21:38:03.479Z"
   },
   {
    "duration": 3,
    "start_time": "2021-11-17T21:38:08.601Z"
   },
   {
    "duration": 3,
    "start_time": "2021-11-17T21:38:12.928Z"
   },
   {
    "duration": 3,
    "start_time": "2021-11-17T21:38:48.896Z"
   },
   {
    "duration": 2,
    "start_time": "2021-11-17T21:38:49.171Z"
   },
   {
    "duration": 4,
    "start_time": "2021-11-17T21:39:57.889Z"
   },
   {
    "duration": 3,
    "start_time": "2021-11-17T21:39:58.057Z"
   },
   {
    "duration": 3,
    "start_time": "2021-11-17T21:41:20.108Z"
   },
   {
    "duration": 3,
    "start_time": "2021-11-17T21:41:20.629Z"
   },
   {
    "duration": 3,
    "start_time": "2021-11-17T21:42:49.136Z"
   },
   {
    "duration": 3,
    "start_time": "2021-11-17T21:43:15.137Z"
   },
   {
    "duration": 4,
    "start_time": "2021-11-17T21:43:16.766Z"
   },
   {
    "duration": 4,
    "start_time": "2021-11-17T21:43:31.711Z"
   },
   {
    "duration": 3,
    "start_time": "2021-11-17T21:43:36.312Z"
   },
   {
    "duration": 4,
    "start_time": "2021-11-17T21:45:08.825Z"
   },
   {
    "duration": 4,
    "start_time": "2021-11-17T21:45:10.119Z"
   },
   {
    "duration": 4,
    "start_time": "2021-11-17T21:45:13.748Z"
   },
   {
    "duration": 3,
    "start_time": "2021-11-17T21:45:22.219Z"
   },
   {
    "duration": 3,
    "start_time": "2021-11-17T21:45:33.412Z"
   },
   {
    "duration": 2,
    "start_time": "2021-11-17T21:46:01.885Z"
   },
   {
    "duration": 3,
    "start_time": "2021-11-17T21:46:03.628Z"
   },
   {
    "duration": 107,
    "start_time": "2021-11-17T21:47:32.512Z"
   },
   {
    "duration": 103,
    "start_time": "2021-11-17T21:50:36.243Z"
   },
   {
    "duration": 3,
    "start_time": "2021-11-18T06:28:31.440Z"
   },
   {
    "duration": 3,
    "start_time": "2021-11-18T06:29:00.168Z"
   },
   {
    "duration": 3,
    "start_time": "2021-11-18T06:31:27.008Z"
   },
   {
    "duration": 2,
    "start_time": "2021-11-18T06:35:34.288Z"
   },
   {
    "duration": 2,
    "start_time": "2021-11-18T06:38:04.527Z"
   },
   {
    "duration": 587,
    "start_time": "2025-02-19T06:27:18.000Z"
   },
   {
    "duration": 216,
    "start_time": "2025-02-19T06:27:23.088Z"
   },
   {
    "duration": 10,
    "start_time": "2025-02-19T06:34:56.093Z"
   },
   {
    "duration": 10,
    "start_time": "2025-02-19T06:50:30.034Z"
   },
   {
    "duration": 7,
    "start_time": "2025-02-19T06:50:42.150Z"
   },
   {
    "duration": 11,
    "start_time": "2025-02-19T07:17:49.878Z"
   },
   {
    "duration": 6,
    "start_time": "2025-02-19T07:19:42.371Z"
   },
   {
    "duration": 10,
    "start_time": "2025-02-19T07:26:04.185Z"
   },
   {
    "duration": 8,
    "start_time": "2025-02-19T07:29:02.529Z"
   },
   {
    "duration": 9,
    "start_time": "2025-02-19T07:29:47.485Z"
   },
   {
    "duration": 14,
    "start_time": "2025-02-19T07:42:20.116Z"
   },
   {
    "duration": 10,
    "start_time": "2025-02-19T07:43:11.618Z"
   },
   {
    "duration": 8,
    "start_time": "2025-02-19T07:46:25.290Z"
   },
   {
    "duration": 166,
    "start_time": "2025-02-20T04:53:12.161Z"
   },
   {
    "duration": 11,
    "start_time": "2025-02-20T04:53:26.494Z"
   },
   {
    "duration": 599,
    "start_time": "2025-02-20T04:54:37.105Z"
   },
   {
    "duration": 217,
    "start_time": "2025-02-20T04:54:37.706Z"
   },
   {
    "duration": 11,
    "start_time": "2025-02-20T04:54:37.925Z"
   },
   {
    "duration": 10,
    "start_time": "2025-02-20T04:54:37.939Z"
   },
   {
    "duration": 13,
    "start_time": "2025-02-20T04:54:37.951Z"
   },
   {
    "duration": 8,
    "start_time": "2025-02-20T04:54:37.966Z"
   },
   {
    "duration": 8,
    "start_time": "2025-02-20T04:54:37.976Z"
   },
   {
    "duration": 43,
    "start_time": "2025-02-20T04:54:37.986Z"
   },
   {
    "duration": 9,
    "start_time": "2025-02-20T04:54:38.031Z"
   },
   {
    "duration": 15,
    "start_time": "2025-02-20T04:54:38.043Z"
   },
   {
    "duration": 2,
    "start_time": "2025-02-20T04:54:38.060Z"
   },
   {
    "duration": 3,
    "start_time": "2025-02-20T04:54:38.064Z"
   },
   {
    "duration": 3,
    "start_time": "2025-02-20T04:54:38.068Z"
   },
   {
    "duration": 4,
    "start_time": "2025-02-20T04:54:38.072Z"
   },
   {
    "duration": 4,
    "start_time": "2025-02-20T04:54:38.077Z"
   },
   {
    "duration": 3,
    "start_time": "2025-02-20T04:54:38.083Z"
   },
   {
    "duration": 2,
    "start_time": "2025-02-20T04:54:38.123Z"
   },
   {
    "duration": 3,
    "start_time": "2025-02-20T04:54:38.127Z"
   },
   {
    "duration": 3,
    "start_time": "2025-02-20T04:54:38.131Z"
   },
   {
    "duration": 3,
    "start_time": "2025-02-20T04:54:38.136Z"
   },
   {
    "duration": 2,
    "start_time": "2025-02-20T04:54:38.141Z"
   },
   {
    "duration": 2,
    "start_time": "2025-02-20T04:54:38.146Z"
   },
   {
    "duration": 2,
    "start_time": "2025-02-20T04:54:38.152Z"
   },
   {
    "duration": 3,
    "start_time": "2025-02-20T04:54:38.156Z"
   },
   {
    "duration": 3,
    "start_time": "2025-02-20T04:54:38.160Z"
   },
   {
    "duration": 2,
    "start_time": "2025-02-20T04:54:38.165Z"
   },
   {
    "duration": 3,
    "start_time": "2025-02-20T04:54:38.169Z"
   },
   {
    "duration": 2,
    "start_time": "2025-02-20T04:54:38.177Z"
   },
   {
    "duration": 2,
    "start_time": "2025-02-20T04:54:38.225Z"
   },
   {
    "duration": 3,
    "start_time": "2025-02-20T04:54:38.228Z"
   },
   {
    "duration": 3,
    "start_time": "2025-02-20T04:54:38.233Z"
   },
   {
    "duration": 7,
    "start_time": "2025-02-20T04:55:38.936Z"
   },
   {
    "duration": 266,
    "start_time": "2025-02-20T05:04:25.042Z"
   },
   {
    "duration": 26,
    "start_time": "2025-02-20T05:06:34.674Z"
   },
   {
    "duration": 14,
    "start_time": "2025-02-20T05:07:26.202Z"
   },
   {
    "duration": 58,
    "start_time": "2025-02-20T05:08:24.351Z"
   },
   {
    "duration": 51,
    "start_time": "2025-02-20T05:09:47.218Z"
   },
   {
    "duration": 42,
    "start_time": "2025-02-20T05:10:33.680Z"
   },
   {
    "duration": 32,
    "start_time": "2025-02-20T05:25:28.163Z"
   },
   {
    "duration": 40,
    "start_time": "2025-02-20T05:25:51.688Z"
   },
   {
    "duration": 14,
    "start_time": "2025-02-20T05:28:12.410Z"
   },
   {
    "duration": 6,
    "start_time": "2025-02-20T05:28:17.496Z"
   },
   {
    "duration": 29,
    "start_time": "2025-02-20T05:30:47.527Z"
   },
   {
    "duration": 37,
    "start_time": "2025-02-20T05:33:39.973Z"
   },
   {
    "duration": 14,
    "start_time": "2025-02-20T05:36:27.069Z"
   },
   {
    "duration": 12,
    "start_time": "2025-02-20T05:36:27.840Z"
   },
   {
    "duration": 8,
    "start_time": "2025-02-20T05:36:48.191Z"
   },
   {
    "duration": 65,
    "start_time": "2025-02-20T05:45:00.468Z"
   },
   {
    "duration": 45,
    "start_time": "2025-02-20T05:51:22.668Z"
   },
   {
    "duration": 7,
    "start_time": "2025-02-20T06:00:46.184Z"
   },
   {
    "duration": 19,
    "start_time": "2025-02-20T06:01:06.187Z"
   },
   {
    "duration": 7,
    "start_time": "2025-02-20T06:01:59.776Z"
   },
   {
    "duration": 6,
    "start_time": "2025-02-20T06:09:17.742Z"
   },
   {
    "duration": 4,
    "start_time": "2025-02-20T06:09:34.968Z"
   },
   {
    "duration": 591,
    "start_time": "2025-02-20T06:11:54.787Z"
   },
   {
    "duration": 153,
    "start_time": "2025-02-20T06:11:55.380Z"
   },
   {
    "duration": 11,
    "start_time": "2025-02-20T06:11:55.535Z"
   },
   {
    "duration": 20,
    "start_time": "2025-02-20T06:11:55.548Z"
   },
   {
    "duration": 9,
    "start_time": "2025-02-20T06:11:55.570Z"
   },
   {
    "duration": 9,
    "start_time": "2025-02-20T06:11:55.581Z"
   },
   {
    "duration": 8,
    "start_time": "2025-02-20T06:11:55.591Z"
   },
   {
    "duration": 31,
    "start_time": "2025-02-20T06:11:55.600Z"
   },
   {
    "duration": 7,
    "start_time": "2025-02-20T06:11:55.633Z"
   },
   {
    "duration": 15,
    "start_time": "2025-02-20T06:11:55.644Z"
   },
   {
    "duration": 6,
    "start_time": "2025-02-20T06:11:55.660Z"
   },
   {
    "duration": 86,
    "start_time": "2025-02-20T06:11:55.668Z"
   },
   {
    "duration": 468,
    "start_time": "2025-02-20T06:11:55.756Z"
   },
   {
    "duration": 0,
    "start_time": "2025-02-20T06:11:56.227Z"
   },
   {
    "duration": 0,
    "start_time": "2025-02-20T06:11:56.228Z"
   },
   {
    "duration": 1,
    "start_time": "2025-02-20T06:11:56.229Z"
   },
   {
    "duration": 0,
    "start_time": "2025-02-20T06:11:56.230Z"
   },
   {
    "duration": 0,
    "start_time": "2025-02-20T06:11:56.231Z"
   },
   {
    "duration": 0,
    "start_time": "2025-02-20T06:11:56.232Z"
   },
   {
    "duration": 0,
    "start_time": "2025-02-20T06:11:56.234Z"
   },
   {
    "duration": 0,
    "start_time": "2025-02-20T06:11:56.235Z"
   },
   {
    "duration": 0,
    "start_time": "2025-02-20T06:11:56.237Z"
   },
   {
    "duration": 0,
    "start_time": "2025-02-20T06:11:56.238Z"
   },
   {
    "duration": 0,
    "start_time": "2025-02-20T06:11:56.239Z"
   },
   {
    "duration": 0,
    "start_time": "2025-02-20T06:11:56.240Z"
   },
   {
    "duration": 0,
    "start_time": "2025-02-20T06:11:56.240Z"
   },
   {
    "duration": 0,
    "start_time": "2025-02-20T06:11:56.241Z"
   },
   {
    "duration": 0,
    "start_time": "2025-02-20T06:11:56.242Z"
   },
   {
    "duration": 0,
    "start_time": "2025-02-20T06:11:56.243Z"
   },
   {
    "duration": 0,
    "start_time": "2025-02-20T06:11:56.244Z"
   },
   {
    "duration": 0,
    "start_time": "2025-02-20T06:11:56.245Z"
   },
   {
    "duration": 0,
    "start_time": "2025-02-20T06:11:56.247Z"
   },
   {
    "duration": 0,
    "start_time": "2025-02-20T06:11:56.249Z"
   },
   {
    "duration": 0,
    "start_time": "2025-02-20T06:11:56.250Z"
   },
   {
    "duration": 0,
    "start_time": "2025-02-20T06:11:56.251Z"
   },
   {
    "duration": 0,
    "start_time": "2025-02-20T06:11:56.252Z"
   },
   {
    "duration": 0,
    "start_time": "2025-02-20T06:11:56.253Z"
   },
   {
    "duration": 26,
    "start_time": "2025-02-20T06:13:23.138Z"
   },
   {
    "duration": 26,
    "start_time": "2025-02-20T06:13:51.771Z"
   },
   {
    "duration": 45,
    "start_time": "2025-02-20T06:18:15.961Z"
   },
   {
    "duration": 8,
    "start_time": "2025-02-20T06:18:33.020Z"
   },
   {
    "duration": 6,
    "start_time": "2025-02-20T06:30:12.406Z"
   },
   {
    "duration": 5,
    "start_time": "2025-02-20T06:31:29.775Z"
   },
   {
    "duration": 21,
    "start_time": "2025-02-20T06:37:54.331Z"
   },
   {
    "duration": 14,
    "start_time": "2025-02-20T06:40:47.740Z"
   },
   {
    "duration": 15,
    "start_time": "2025-02-20T06:44:15.255Z"
   },
   {
    "duration": 26,
    "start_time": "2025-02-20T06:45:40.978Z"
   },
   {
    "duration": 93,
    "start_time": "2025-02-20T06:46:10.353Z"
   },
   {
    "duration": 26,
    "start_time": "2025-02-20T06:53:09.478Z"
   },
   {
    "duration": 159,
    "start_time": "2025-02-20T07:09:40.843Z"
   },
   {
    "duration": 630,
    "start_time": "2025-02-20T07:09:41.288Z"
   },
   {
    "duration": 156,
    "start_time": "2025-02-20T07:09:41.920Z"
   },
   {
    "duration": 10,
    "start_time": "2025-02-20T07:09:42.077Z"
   },
   {
    "duration": 11,
    "start_time": "2025-02-20T07:09:42.089Z"
   },
   {
    "duration": 27,
    "start_time": "2025-02-20T07:09:42.102Z"
   },
   {
    "duration": 8,
    "start_time": "2025-02-20T07:09:42.130Z"
   },
   {
    "duration": 8,
    "start_time": "2025-02-20T07:09:42.139Z"
   },
   {
    "duration": 10,
    "start_time": "2025-02-20T07:09:42.148Z"
   },
   {
    "duration": 7,
    "start_time": "2025-02-20T07:09:42.159Z"
   },
   {
    "duration": 15,
    "start_time": "2025-02-20T07:09:42.168Z"
   },
   {
    "duration": 40,
    "start_time": "2025-02-20T07:09:42.184Z"
   },
   {
    "duration": 57,
    "start_time": "2025-02-20T07:09:42.226Z"
   },
   {
    "duration": 56,
    "start_time": "2025-02-20T07:09:42.284Z"
   },
   {
    "duration": 12,
    "start_time": "2025-02-20T07:09:42.345Z"
   },
   {
    "duration": 7,
    "start_time": "2025-02-20T07:09:42.358Z"
   },
   {
    "duration": 25,
    "start_time": "2025-02-20T07:09:42.366Z"
   },
   {
    "duration": 61,
    "start_time": "2025-02-20T07:09:42.393Z"
   },
   {
    "duration": 12,
    "start_time": "2025-02-20T07:09:42.456Z"
   },
   {
    "duration": 6,
    "start_time": "2025-02-20T07:09:42.470Z"
   },
   {
    "duration": 83,
    "start_time": "2025-02-20T07:09:42.477Z"
   },
   {
    "duration": 45,
    "start_time": "2025-02-20T07:09:42.562Z"
   },
   {
    "duration": 5,
    "start_time": "2025-02-20T07:09:42.625Z"
   },
   {
    "duration": 20,
    "start_time": "2025-02-20T07:09:42.631Z"
   },
   {
    "duration": 14,
    "start_time": "2025-02-20T07:09:42.653Z"
   },
   {
    "duration": 20,
    "start_time": "2025-02-20T07:09:42.669Z"
   },
   {
    "duration": 48,
    "start_time": "2025-02-20T07:09:42.690Z"
   },
   {
    "duration": 14,
    "start_time": "2025-02-20T07:09:42.739Z"
   },
   {
    "duration": 2,
    "start_time": "2025-02-20T07:09:42.755Z"
   },
   {
    "duration": 4,
    "start_time": "2025-02-20T07:09:42.758Z"
   },
   {
    "duration": 4,
    "start_time": "2025-02-20T07:09:42.763Z"
   },
   {
    "duration": 3,
    "start_time": "2025-02-20T07:09:42.768Z"
   },
   {
    "duration": 3,
    "start_time": "2025-02-20T07:09:42.773Z"
   },
   {
    "duration": 3,
    "start_time": "2025-02-20T07:09:42.777Z"
   },
   {
    "duration": 3,
    "start_time": "2025-02-20T07:09:42.782Z"
   },
   {
    "duration": 38,
    "start_time": "2025-02-20T07:09:42.787Z"
   },
   {
    "duration": 3,
    "start_time": "2025-02-20T07:09:42.827Z"
   },
   {
    "duration": 2,
    "start_time": "2025-02-20T07:09:42.832Z"
   },
   {
    "duration": 63,
    "start_time": "2025-02-20T07:21:49.050Z"
   },
   {
    "duration": 18,
    "start_time": "2025-02-20T07:22:41.945Z"
   },
   {
    "duration": 5,
    "start_time": "2025-02-20T07:32:25.343Z"
   },
   {
    "duration": 48,
    "start_time": "2025-02-20T07:34:21.694Z"
   },
   {
    "duration": 2573,
    "start_time": "2025-02-21T02:57:52.982Z"
   },
   {
    "duration": 768,
    "start_time": "2025-02-21T02:58:03.371Z"
   },
   {
    "duration": 262,
    "start_time": "2025-02-21T02:58:04.142Z"
   },
   {
    "duration": 9,
    "start_time": "2025-02-21T02:58:04.407Z"
   },
   {
    "duration": 10,
    "start_time": "2025-02-21T02:58:04.419Z"
   },
   {
    "duration": 12,
    "start_time": "2025-02-21T02:58:04.431Z"
   },
   {
    "duration": 8,
    "start_time": "2025-02-21T02:58:04.445Z"
   },
   {
    "duration": 8,
    "start_time": "2025-02-21T02:58:04.455Z"
   },
   {
    "duration": 41,
    "start_time": "2025-02-21T02:58:04.464Z"
   },
   {
    "duration": 9,
    "start_time": "2025-02-21T02:58:04.507Z"
   },
   {
    "duration": 15,
    "start_time": "2025-02-21T02:58:04.519Z"
   },
   {
    "duration": 6,
    "start_time": "2025-02-21T02:58:04.536Z"
   },
   {
    "duration": 97,
    "start_time": "2025-02-21T02:58:04.544Z"
   },
   {
    "duration": 66,
    "start_time": "2025-02-21T02:58:04.644Z"
   },
   {
    "duration": 19,
    "start_time": "2025-02-21T02:58:04.712Z"
   },
   {
    "duration": 7,
    "start_time": "2025-02-21T02:58:04.734Z"
   },
   {
    "duration": 30,
    "start_time": "2025-02-21T02:58:04.743Z"
   },
   {
    "duration": 54,
    "start_time": "2025-02-21T02:58:04.774Z"
   },
   {
    "duration": 15,
    "start_time": "2025-02-21T02:58:04.830Z"
   },
   {
    "duration": 10,
    "start_time": "2025-02-21T02:58:04.846Z"
   },
   {
    "duration": 101,
    "start_time": "2025-02-21T02:58:04.859Z"
   },
   {
    "duration": 50,
    "start_time": "2025-02-21T02:58:04.961Z"
   },
   {
    "duration": 4,
    "start_time": "2025-02-21T02:58:05.013Z"
   },
   {
    "duration": 21,
    "start_time": "2025-02-21T02:58:05.019Z"
   },
   {
    "duration": 13,
    "start_time": "2025-02-21T02:58:05.043Z"
   },
   {
    "duration": 20,
    "start_time": "2025-02-21T02:58:05.058Z"
   },
   {
    "duration": 47,
    "start_time": "2025-02-21T02:58:05.081Z"
   },
   {
    "duration": 18,
    "start_time": "2025-02-21T02:58:05.130Z"
   },
   {
    "duration": 16,
    "start_time": "2025-02-21T02:58:05.153Z"
   },
   {
    "duration": 105,
    "start_time": "2025-02-21T02:58:05.170Z"
   },
   {
    "duration": 2,
    "start_time": "2025-02-21T02:58:05.277Z"
   },
   {
    "duration": 2,
    "start_time": "2025-02-21T02:58:05.281Z"
   },
   {
    "duration": 3,
    "start_time": "2025-02-21T02:58:05.285Z"
   },
   {
    "duration": 3,
    "start_time": "2025-02-21T02:58:05.306Z"
   },
   {
    "duration": 2,
    "start_time": "2025-02-21T02:58:05.312Z"
   },
   {
    "duration": 4,
    "start_time": "2025-02-21T02:58:05.315Z"
   },
   {
    "duration": 2,
    "start_time": "2025-02-21T02:58:05.321Z"
   },
   {
    "duration": 3,
    "start_time": "2025-02-21T02:58:05.325Z"
   },
   {
    "duration": 617,
    "start_time": "2025-02-21T03:00:29.069Z"
   },
   {
    "duration": 273,
    "start_time": "2025-02-21T03:01:52.126Z"
   },
   {
    "duration": 270,
    "start_time": "2025-02-21T03:02:21.692Z"
   },
   {
    "duration": 315,
    "start_time": "2025-02-21T03:04:44.156Z"
   },
   {
    "duration": 8,
    "start_time": "2025-02-21T03:05:54.721Z"
   },
   {
    "duration": 243,
    "start_time": "2025-02-21T03:06:34.402Z"
   },
   {
    "duration": 7,
    "start_time": "2025-02-21T03:07:56.362Z"
   },
   {
    "duration": 241,
    "start_time": "2025-02-21T03:08:29.668Z"
   },
   {
    "duration": 7,
    "start_time": "2025-02-21T03:10:22.156Z"
   },
   {
    "duration": 253,
    "start_time": "2025-02-21T03:10:52.242Z"
   },
   {
    "duration": 265,
    "start_time": "2025-02-21T03:13:35.207Z"
   },
   {
    "duration": 463,
    "start_time": "2025-02-21T03:16:36.751Z"
   },
   {
    "duration": 274,
    "start_time": "2025-02-21T03:17:39.187Z"
   },
   {
    "duration": 308,
    "start_time": "2025-02-21T03:18:41.340Z"
   },
   {
    "duration": 305,
    "start_time": "2025-02-21T03:20:10.645Z"
   },
   {
    "duration": 5,
    "start_time": "2025-02-21T03:22:58.061Z"
   },
   {
    "duration": 123,
    "start_time": "2025-02-21T03:24:23.950Z"
   },
   {
    "duration": 19,
    "start_time": "2025-02-21T03:26:15.634Z"
   },
   {
    "duration": 24,
    "start_time": "2025-02-21T03:26:52.434Z"
   },
   {
    "duration": 344,
    "start_time": "2025-02-21T03:27:29.333Z"
   },
   {
    "duration": 170,
    "start_time": "2025-02-21T04:20:20.979Z"
   },
   {
    "duration": 22,
    "start_time": "2025-02-21T04:23:09.932Z"
   },
   {
    "duration": 2540,
    "start_time": "2025-02-21T04:23:18.205Z"
   },
   {
    "duration": 216,
    "start_time": "2025-02-21T04:23:20.748Z"
   },
   {
    "duration": 10,
    "start_time": "2025-02-21T04:23:20.965Z"
   },
   {
    "duration": 10,
    "start_time": "2025-02-21T04:23:20.977Z"
   },
   {
    "duration": 11,
    "start_time": "2025-02-21T04:23:20.990Z"
   },
   {
    "duration": 24,
    "start_time": "2025-02-21T04:23:21.003Z"
   },
   {
    "duration": 8,
    "start_time": "2025-02-21T04:23:21.029Z"
   },
   {
    "duration": 13,
    "start_time": "2025-02-21T04:23:21.039Z"
   },
   {
    "duration": 8,
    "start_time": "2025-02-21T04:23:21.055Z"
   },
   {
    "duration": 20,
    "start_time": "2025-02-21T04:23:21.064Z"
   },
   {
    "duration": 8,
    "start_time": "2025-02-21T04:23:21.086Z"
   },
   {
    "duration": 59,
    "start_time": "2025-02-21T04:23:21.125Z"
   },
   {
    "duration": 60,
    "start_time": "2025-02-21T04:23:21.186Z"
   },
   {
    "duration": 13,
    "start_time": "2025-02-21T04:23:21.251Z"
   },
   {
    "duration": 7,
    "start_time": "2025-02-21T04:23:21.267Z"
   },
   {
    "duration": 48,
    "start_time": "2025-02-21T04:23:21.277Z"
   },
   {
    "duration": 40,
    "start_time": "2025-02-21T04:23:21.327Z"
   },
   {
    "duration": 15,
    "start_time": "2025-02-21T04:23:21.371Z"
   },
   {
    "duration": 8,
    "start_time": "2025-02-21T04:23:21.388Z"
   },
   {
    "duration": 83,
    "start_time": "2025-02-21T04:23:21.398Z"
   },
   {
    "duration": 54,
    "start_time": "2025-02-21T04:23:21.483Z"
   },
   {
    "duration": 6,
    "start_time": "2025-02-21T04:23:21.539Z"
   },
   {
    "duration": 28,
    "start_time": "2025-02-21T04:23:21.547Z"
   },
   {
    "duration": 13,
    "start_time": "2025-02-21T04:23:21.578Z"
   },
   {
    "duration": 47,
    "start_time": "2025-02-21T04:23:21.593Z"
   },
   {
    "duration": 26,
    "start_time": "2025-02-21T04:23:21.643Z"
   },
   {
    "duration": 20,
    "start_time": "2025-02-21T04:23:21.671Z"
   },
   {
    "duration": 35,
    "start_time": "2025-02-21T04:23:21.695Z"
   },
   {
    "duration": 48,
    "start_time": "2025-02-21T04:23:21.732Z"
   },
   {
    "duration": 284,
    "start_time": "2025-02-21T04:23:21.781Z"
   },
   {
    "duration": 383,
    "start_time": "2025-02-21T04:23:22.067Z"
   },
   {
    "duration": 6,
    "start_time": "2025-02-21T04:23:22.452Z"
   },
   {
    "duration": 157,
    "start_time": "2025-02-21T04:23:22.460Z"
   },
   {
    "duration": 289,
    "start_time": "2025-02-21T04:23:22.624Z"
   },
   {
    "duration": 11,
    "start_time": "2025-02-21T04:23:22.915Z"
   },
   {
    "duration": 3,
    "start_time": "2025-02-21T04:23:22.928Z"
   },
   {
    "duration": 3,
    "start_time": "2025-02-21T04:23:22.933Z"
   },
   {
    "duration": 276,
    "start_time": "2025-02-21T04:24:40.753Z"
   },
   {
    "duration": 280,
    "start_time": "2025-02-21T04:30:44.077Z"
   },
   {
    "duration": 147,
    "start_time": "2025-02-21T04:34:52.636Z"
   },
   {
    "duration": 232,
    "start_time": "2025-02-21T04:34:59.420Z"
   },
   {
    "duration": 8,
    "start_time": "2025-02-21T04:54:12.627Z"
   },
   {
    "duration": 218,
    "start_time": "2025-02-21T05:16:18.882Z"
   },
   {
    "duration": 839,
    "start_time": "2025-02-21T05:18:56.465Z"
   },
   {
    "duration": 161,
    "start_time": "2025-02-21T05:18:57.306Z"
   },
   {
    "duration": 12,
    "start_time": "2025-02-21T05:18:57.468Z"
   },
   {
    "duration": 12,
    "start_time": "2025-02-21T05:18:57.482Z"
   },
   {
    "duration": 13,
    "start_time": "2025-02-21T05:18:57.496Z"
   },
   {
    "duration": 18,
    "start_time": "2025-02-21T05:18:57.526Z"
   },
   {
    "duration": 13,
    "start_time": "2025-02-21T05:18:57.546Z"
   },
   {
    "duration": 11,
    "start_time": "2025-02-21T05:18:57.561Z"
   },
   {
    "duration": 8,
    "start_time": "2025-02-21T05:18:57.574Z"
   },
   {
    "duration": 16,
    "start_time": "2025-02-21T05:18:57.584Z"
   },
   {
    "duration": 22,
    "start_time": "2025-02-21T05:18:57.603Z"
   },
   {
    "duration": 64,
    "start_time": "2025-02-21T05:18:57.626Z"
   },
   {
    "duration": 73,
    "start_time": "2025-02-21T05:18:57.691Z"
   },
   {
    "duration": 12,
    "start_time": "2025-02-21T05:18:57.766Z"
   },
   {
    "duration": 6,
    "start_time": "2025-02-21T05:18:57.779Z"
   },
   {
    "duration": 46,
    "start_time": "2025-02-21T05:18:57.786Z"
   },
   {
    "duration": 35,
    "start_time": "2025-02-21T05:18:57.834Z"
   },
   {
    "duration": 14,
    "start_time": "2025-02-21T05:18:57.871Z"
   },
   {
    "duration": 6,
    "start_time": "2025-02-21T05:18:57.887Z"
   },
   {
    "duration": 90,
    "start_time": "2025-02-21T05:18:57.895Z"
   },
   {
    "duration": 70,
    "start_time": "2025-02-21T05:18:57.987Z"
   },
   {
    "duration": 6,
    "start_time": "2025-02-21T05:18:58.059Z"
   },
   {
    "duration": 20,
    "start_time": "2025-02-21T05:18:58.068Z"
   },
   {
    "duration": 36,
    "start_time": "2025-02-21T05:18:58.090Z"
   },
   {
    "duration": 29,
    "start_time": "2025-02-21T05:18:58.128Z"
   },
   {
    "duration": 22,
    "start_time": "2025-02-21T05:18:58.159Z"
   },
   {
    "duration": 16,
    "start_time": "2025-02-21T05:18:58.183Z"
   },
   {
    "duration": 24,
    "start_time": "2025-02-21T05:18:58.224Z"
   },
   {
    "duration": 115,
    "start_time": "2025-02-21T05:18:58.251Z"
   },
   {
    "duration": 257,
    "start_time": "2025-02-21T05:18:58.368Z"
   },
   {
    "duration": 306,
    "start_time": "2025-02-21T05:18:58.627Z"
   },
   {
    "duration": 5,
    "start_time": "2025-02-21T05:18:58.935Z"
   },
   {
    "duration": 141,
    "start_time": "2025-02-21T05:18:58.941Z"
   },
   {
    "duration": 263,
    "start_time": "2025-02-21T05:18:59.084Z"
   },
   {
    "duration": 0,
    "start_time": "2025-02-21T05:18:59.349Z"
   },
   {
    "duration": 0,
    "start_time": "2025-02-21T05:18:59.350Z"
   },
   {
    "duration": 0,
    "start_time": "2025-02-21T05:18:59.351Z"
   },
   {
    "duration": 0,
    "start_time": "2025-02-21T05:18:59.354Z"
   },
   {
    "duration": 30,
    "start_time": "2025-02-21T05:20:37.718Z"
   },
   {
    "duration": 148,
    "start_time": "2025-02-21T05:20:48.921Z"
   },
   {
    "duration": 231,
    "start_time": "2025-02-21T05:21:01.953Z"
   },
   {
    "duration": 15,
    "start_time": "2025-02-21T05:21:29.372Z"
   },
   {
    "duration": 27,
    "start_time": "2025-02-21T05:23:57.252Z"
   },
   {
    "duration": 36,
    "start_time": "2025-02-21T05:34:53.627Z"
   },
   {
    "duration": 712,
    "start_time": "2025-02-21T05:39:18.500Z"
   },
   {
    "duration": 3,
    "start_time": "2025-02-21T05:41:45.761Z"
   },
   {
    "duration": 1314,
    "start_time": "2025-02-21T05:44:24.578Z"
   },
   {
    "duration": 8,
    "start_time": "2025-02-21T05:48:09.905Z"
   },
   {
    "duration": 854,
    "start_time": "2025-02-21T06:33:12.948Z"
   },
   {
    "duration": 185,
    "start_time": "2025-02-21T06:33:13.805Z"
   },
   {
    "duration": 12,
    "start_time": "2025-02-21T06:33:13.992Z"
   },
   {
    "duration": 17,
    "start_time": "2025-02-21T06:33:14.007Z"
   },
   {
    "duration": 12,
    "start_time": "2025-02-21T06:33:14.026Z"
   },
   {
    "duration": 10,
    "start_time": "2025-02-21T06:33:14.039Z"
   },
   {
    "duration": 11,
    "start_time": "2025-02-21T06:33:14.051Z"
   },
   {
    "duration": 12,
    "start_time": "2025-02-21T06:33:14.064Z"
   },
   {
    "duration": 8,
    "start_time": "2025-02-21T06:33:14.078Z"
   },
   {
    "duration": 54,
    "start_time": "2025-02-21T06:33:14.090Z"
   },
   {
    "duration": 9,
    "start_time": "2025-02-21T06:33:14.146Z"
   },
   {
    "duration": 76,
    "start_time": "2025-02-21T06:33:14.157Z"
   },
   {
    "duration": 54,
    "start_time": "2025-02-21T06:33:14.235Z"
   },
   {
    "duration": 33,
    "start_time": "2025-02-21T06:33:14.291Z"
   },
   {
    "duration": 10,
    "start_time": "2025-02-21T06:33:14.327Z"
   },
   {
    "duration": 37,
    "start_time": "2025-02-21T06:33:14.339Z"
   },
   {
    "duration": 52,
    "start_time": "2025-02-21T06:33:14.378Z"
   },
   {
    "duration": 15,
    "start_time": "2025-02-21T06:33:14.431Z"
   },
   {
    "duration": 7,
    "start_time": "2025-02-21T06:33:14.448Z"
   },
   {
    "duration": 100,
    "start_time": "2025-02-21T06:33:14.457Z"
   },
   {
    "duration": 69,
    "start_time": "2025-02-21T06:33:14.560Z"
   },
   {
    "duration": 6,
    "start_time": "2025-02-21T06:33:14.631Z"
   },
   {
    "duration": 24,
    "start_time": "2025-02-21T06:33:14.639Z"
   },
   {
    "duration": 17,
    "start_time": "2025-02-21T06:33:14.667Z"
   },
   {
    "duration": 50,
    "start_time": "2025-02-21T06:33:14.685Z"
   },
   {
    "duration": 26,
    "start_time": "2025-02-21T06:33:14.737Z"
   },
   {
    "duration": 18,
    "start_time": "2025-02-21T06:33:14.765Z"
   },
   {
    "duration": 38,
    "start_time": "2025-02-21T06:33:14.787Z"
   },
   {
    "duration": 108,
    "start_time": "2025-02-21T06:33:14.827Z"
   },
   {
    "duration": 264,
    "start_time": "2025-02-21T06:33:14.937Z"
   },
   {
    "duration": 333,
    "start_time": "2025-02-21T06:33:15.204Z"
   },
   {
    "duration": 5,
    "start_time": "2025-02-21T06:33:15.539Z"
   },
   {
    "duration": 173,
    "start_time": "2025-02-21T06:33:15.546Z"
   },
   {
    "duration": 266,
    "start_time": "2025-02-21T06:33:15.721Z"
   },
   {
    "duration": 0,
    "start_time": "2025-02-21T06:33:15.989Z"
   },
   {
    "duration": 0,
    "start_time": "2025-02-21T06:33:15.991Z"
   },
   {
    "duration": 0,
    "start_time": "2025-02-21T06:33:15.992Z"
   },
   {
    "duration": 0,
    "start_time": "2025-02-21T06:33:15.993Z"
   },
   {
    "duration": 0,
    "start_time": "2025-02-21T06:33:15.994Z"
   },
   {
    "duration": 10,
    "start_time": "2025-02-21T06:44:45.095Z"
   },
   {
    "duration": 19,
    "start_time": "2025-02-21T06:45:36.447Z"
   },
   {
    "duration": 18,
    "start_time": "2025-02-21T06:47:58.332Z"
   },
   {
    "duration": 14,
    "start_time": "2025-02-21T07:00:00.623Z"
   },
   {
    "duration": 14,
    "start_time": "2025-02-21T07:00:30.163Z"
   },
   {
    "duration": 17,
    "start_time": "2025-02-21T07:03:22.242Z"
   },
   {
    "duration": 13,
    "start_time": "2025-02-21T07:04:32.269Z"
   },
   {
    "duration": 14,
    "start_time": "2025-02-21T07:05:03.981Z"
   },
   {
    "duration": 761,
    "start_time": "2025-02-21T07:06:12.195Z"
   },
   {
    "duration": 153,
    "start_time": "2025-02-21T07:06:12.958Z"
   },
   {
    "duration": 11,
    "start_time": "2025-02-21T07:06:13.113Z"
   },
   {
    "duration": 10,
    "start_time": "2025-02-21T07:06:13.127Z"
   },
   {
    "duration": 16,
    "start_time": "2025-02-21T07:06:13.138Z"
   },
   {
    "duration": 9,
    "start_time": "2025-02-21T07:06:13.157Z"
   },
   {
    "duration": 17,
    "start_time": "2025-02-21T07:06:13.168Z"
   },
   {
    "duration": 43,
    "start_time": "2025-02-21T07:06:13.186Z"
   },
   {
    "duration": 7,
    "start_time": "2025-02-21T07:06:13.232Z"
   },
   {
    "duration": 15,
    "start_time": "2025-02-21T07:06:13.242Z"
   },
   {
    "duration": 7,
    "start_time": "2025-02-21T07:06:13.258Z"
   },
   {
    "duration": 76,
    "start_time": "2025-02-21T07:06:13.267Z"
   },
   {
    "duration": 43,
    "start_time": "2025-02-21T07:06:13.345Z"
   },
   {
    "duration": 12,
    "start_time": "2025-02-21T07:06:13.390Z"
   },
   {
    "duration": 26,
    "start_time": "2025-02-21T07:06:13.403Z"
   },
   {
    "duration": 25,
    "start_time": "2025-02-21T07:06:13.430Z"
   },
   {
    "duration": 34,
    "start_time": "2025-02-21T07:06:13.456Z"
   },
   {
    "duration": 33,
    "start_time": "2025-02-21T07:06:13.492Z"
   },
   {
    "duration": 6,
    "start_time": "2025-02-21T07:06:13.527Z"
   },
   {
    "duration": 62,
    "start_time": "2025-02-21T07:06:13.535Z"
   },
   {
    "duration": 61,
    "start_time": "2025-02-21T07:06:13.599Z"
   },
   {
    "duration": 4,
    "start_time": "2025-02-21T07:06:13.662Z"
   },
   {
    "duration": 19,
    "start_time": "2025-02-21T07:06:13.668Z"
   },
   {
    "duration": 35,
    "start_time": "2025-02-21T07:06:13.689Z"
   },
   {
    "duration": 20,
    "start_time": "2025-02-21T07:06:13.725Z"
   },
   {
    "duration": 23,
    "start_time": "2025-02-21T07:06:13.746Z"
   },
   {
    "duration": 14,
    "start_time": "2025-02-21T07:06:13.771Z"
   },
   {
    "duration": 40,
    "start_time": "2025-02-21T07:06:13.790Z"
   },
   {
    "duration": 100,
    "start_time": "2025-02-21T07:06:13.832Z"
   },
   {
    "duration": 396,
    "start_time": "2025-02-21T07:06:13.934Z"
   },
   {
    "duration": 0,
    "start_time": "2025-02-21T07:06:14.332Z"
   },
   {
    "duration": 0,
    "start_time": "2025-02-21T07:06:14.333Z"
   },
   {
    "duration": 0,
    "start_time": "2025-02-21T07:06:14.335Z"
   },
   {
    "duration": 0,
    "start_time": "2025-02-21T07:06:14.337Z"
   },
   {
    "duration": 0,
    "start_time": "2025-02-21T07:06:14.338Z"
   },
   {
    "duration": 0,
    "start_time": "2025-02-21T07:06:14.339Z"
   },
   {
    "duration": 0,
    "start_time": "2025-02-21T07:06:14.341Z"
   },
   {
    "duration": 0,
    "start_time": "2025-02-21T07:06:14.343Z"
   },
   {
    "duration": 0,
    "start_time": "2025-02-21T07:06:14.345Z"
   },
   {
    "duration": 15,
    "start_time": "2025-02-21T07:07:09.153Z"
   },
   {
    "duration": 15,
    "start_time": "2025-02-21T07:12:40.406Z"
   },
   {
    "duration": 739,
    "start_time": "2025-02-21T07:13:45.290Z"
   },
   {
    "duration": 154,
    "start_time": "2025-02-21T07:13:46.031Z"
   },
   {
    "duration": 10,
    "start_time": "2025-02-21T07:13:46.187Z"
   },
   {
    "duration": 10,
    "start_time": "2025-02-21T07:13:46.200Z"
   },
   {
    "duration": 12,
    "start_time": "2025-02-21T07:13:46.223Z"
   },
   {
    "duration": 9,
    "start_time": "2025-02-21T07:13:46.236Z"
   },
   {
    "duration": 15,
    "start_time": "2025-02-21T07:13:46.247Z"
   },
   {
    "duration": 14,
    "start_time": "2025-02-21T07:13:46.264Z"
   },
   {
    "duration": 8,
    "start_time": "2025-02-21T07:13:46.279Z"
   },
   {
    "duration": 15,
    "start_time": "2025-02-21T07:13:46.323Z"
   },
   {
    "duration": 7,
    "start_time": "2025-02-21T07:13:46.339Z"
   },
   {
    "duration": 55,
    "start_time": "2025-02-21T07:13:46.348Z"
   },
   {
    "duration": 43,
    "start_time": "2025-02-21T07:13:46.423Z"
   },
   {
    "duration": 12,
    "start_time": "2025-02-21T07:13:46.467Z"
   },
   {
    "duration": 6,
    "start_time": "2025-02-21T07:13:46.480Z"
   },
   {
    "duration": 43,
    "start_time": "2025-02-21T07:13:46.488Z"
   },
   {
    "duration": 34,
    "start_time": "2025-02-21T07:13:46.533Z"
   },
   {
    "duration": 13,
    "start_time": "2025-02-21T07:13:46.568Z"
   },
   {
    "duration": 8,
    "start_time": "2025-02-21T07:13:46.583Z"
   },
   {
    "duration": 84,
    "start_time": "2025-02-21T07:13:46.593Z"
   },
   {
    "duration": 48,
    "start_time": "2025-02-21T07:13:46.678Z"
   },
   {
    "duration": 7,
    "start_time": "2025-02-21T07:13:46.728Z"
   },
   {
    "duration": 19,
    "start_time": "2025-02-21T07:13:46.736Z"
   },
   {
    "duration": 12,
    "start_time": "2025-02-21T07:13:46.757Z"
   },
   {
    "duration": 19,
    "start_time": "2025-02-21T07:13:46.771Z"
   },
   {
    "duration": 47,
    "start_time": "2025-02-21T07:13:46.792Z"
   },
   {
    "duration": 14,
    "start_time": "2025-02-21T07:13:46.840Z"
   },
   {
    "duration": 15,
    "start_time": "2025-02-21T07:13:46.858Z"
   },
   {
    "duration": 101,
    "start_time": "2025-02-21T07:13:46.874Z"
   },
   {
    "duration": 383,
    "start_time": "2025-02-21T07:13:46.977Z"
   },
   {
    "duration": 0,
    "start_time": "2025-02-21T07:13:47.362Z"
   },
   {
    "duration": 0,
    "start_time": "2025-02-21T07:13:47.363Z"
   },
   {
    "duration": 0,
    "start_time": "2025-02-21T07:13:47.364Z"
   },
   {
    "duration": 0,
    "start_time": "2025-02-21T07:13:47.366Z"
   },
   {
    "duration": 0,
    "start_time": "2025-02-21T07:13:47.367Z"
   },
   {
    "duration": 0,
    "start_time": "2025-02-21T07:13:47.368Z"
   },
   {
    "duration": 0,
    "start_time": "2025-02-21T07:13:47.369Z"
   },
   {
    "duration": 0,
    "start_time": "2025-02-21T07:13:47.370Z"
   },
   {
    "duration": 0,
    "start_time": "2025-02-21T07:13:47.371Z"
   },
   {
    "duration": 283,
    "start_time": "2025-02-21T07:19:51.443Z"
   },
   {
    "duration": 842,
    "start_time": "2025-02-21T07:21:37.555Z"
   },
   {
    "duration": 162,
    "start_time": "2025-02-21T07:21:38.399Z"
   },
   {
    "duration": 9,
    "start_time": "2025-02-21T07:21:38.563Z"
   },
   {
    "duration": 11,
    "start_time": "2025-02-21T07:21:38.575Z"
   },
   {
    "duration": 13,
    "start_time": "2025-02-21T07:21:38.588Z"
   },
   {
    "duration": 26,
    "start_time": "2025-02-21T07:21:38.602Z"
   },
   {
    "duration": 17,
    "start_time": "2025-02-21T07:21:38.630Z"
   },
   {
    "duration": 19,
    "start_time": "2025-02-21T07:21:38.648Z"
   },
   {
    "duration": 562,
    "start_time": "2025-02-21T07:21:38.669Z"
   },
   {
    "duration": 0,
    "start_time": "2025-02-21T07:21:39.234Z"
   },
   {
    "duration": 0,
    "start_time": "2025-02-21T07:21:39.236Z"
   },
   {
    "duration": 0,
    "start_time": "2025-02-21T07:21:39.237Z"
   },
   {
    "duration": 0,
    "start_time": "2025-02-21T07:21:39.238Z"
   },
   {
    "duration": 0,
    "start_time": "2025-02-21T07:21:39.240Z"
   },
   {
    "duration": 0,
    "start_time": "2025-02-21T07:21:39.242Z"
   },
   {
    "duration": 0,
    "start_time": "2025-02-21T07:21:39.243Z"
   },
   {
    "duration": 0,
    "start_time": "2025-02-21T07:21:39.245Z"
   },
   {
    "duration": 0,
    "start_time": "2025-02-21T07:21:39.246Z"
   },
   {
    "duration": 0,
    "start_time": "2025-02-21T07:21:39.248Z"
   },
   {
    "duration": 0,
    "start_time": "2025-02-21T07:21:39.249Z"
   },
   {
    "duration": 0,
    "start_time": "2025-02-21T07:21:39.250Z"
   },
   {
    "duration": 0,
    "start_time": "2025-02-21T07:21:39.252Z"
   },
   {
    "duration": 0,
    "start_time": "2025-02-21T07:21:39.253Z"
   },
   {
    "duration": 0,
    "start_time": "2025-02-21T07:21:39.254Z"
   },
   {
    "duration": 0,
    "start_time": "2025-02-21T07:21:39.256Z"
   },
   {
    "duration": 0,
    "start_time": "2025-02-21T07:21:39.257Z"
   },
   {
    "duration": 0,
    "start_time": "2025-02-21T07:21:39.258Z"
   },
   {
    "duration": 0,
    "start_time": "2025-02-21T07:21:39.260Z"
   },
   {
    "duration": 0,
    "start_time": "2025-02-21T07:21:39.262Z"
   },
   {
    "duration": 0,
    "start_time": "2025-02-21T07:21:39.263Z"
   },
   {
    "duration": 0,
    "start_time": "2025-02-21T07:21:39.265Z"
   },
   {
    "duration": 0,
    "start_time": "2025-02-21T07:21:39.267Z"
   },
   {
    "duration": 0,
    "start_time": "2025-02-21T07:21:39.269Z"
   },
   {
    "duration": 0,
    "start_time": "2025-02-21T07:21:39.270Z"
   },
   {
    "duration": 0,
    "start_time": "2025-02-21T07:21:39.324Z"
   },
   {
    "duration": 0,
    "start_time": "2025-02-21T07:21:39.325Z"
   },
   {
    "duration": 0,
    "start_time": "2025-02-21T07:21:39.327Z"
   },
   {
    "duration": 0,
    "start_time": "2025-02-21T07:21:39.328Z"
   },
   {
    "duration": 0,
    "start_time": "2025-02-21T07:21:39.329Z"
   },
   {
    "duration": 20,
    "start_time": "2025-02-21T07:24:34.705Z"
   },
   {
    "duration": 13,
    "start_time": "2025-02-21T07:24:56.416Z"
   },
   {
    "duration": 165,
    "start_time": "2025-02-21T07:25:54.254Z"
   },
   {
    "duration": 78,
    "start_time": "2025-02-21T07:27:42.214Z"
   },
   {
    "duration": 766,
    "start_time": "2025-02-21T07:27:56.811Z"
   },
   {
    "duration": 168,
    "start_time": "2025-02-21T07:27:57.580Z"
   },
   {
    "duration": 10,
    "start_time": "2025-02-21T07:27:57.750Z"
   },
   {
    "duration": 10,
    "start_time": "2025-02-21T07:27:57.762Z"
   },
   {
    "duration": 13,
    "start_time": "2025-02-21T07:27:57.775Z"
   },
   {
    "duration": 7,
    "start_time": "2025-02-21T07:27:57.790Z"
   },
   {
    "duration": 43,
    "start_time": "2025-02-21T07:27:57.799Z"
   },
   {
    "duration": 15,
    "start_time": "2025-02-21T07:27:57.844Z"
   },
   {
    "duration": 8,
    "start_time": "2025-02-21T07:27:57.860Z"
   },
   {
    "duration": 16,
    "start_time": "2025-02-21T07:27:57.869Z"
   },
   {
    "duration": 38,
    "start_time": "2025-02-21T07:27:57.887Z"
   },
   {
    "duration": 60,
    "start_time": "2025-02-21T07:27:57.927Z"
   },
   {
    "duration": 61,
    "start_time": "2025-02-21T07:27:57.989Z"
   },
   {
    "duration": 11,
    "start_time": "2025-02-21T07:27:58.054Z"
   },
   {
    "duration": 6,
    "start_time": "2025-02-21T07:27:58.067Z"
   },
   {
    "duration": 26,
    "start_time": "2025-02-21T07:27:58.075Z"
   },
   {
    "duration": 59,
    "start_time": "2025-02-21T07:27:58.103Z"
   },
   {
    "duration": 14,
    "start_time": "2025-02-21T07:27:58.164Z"
   },
   {
    "duration": 9,
    "start_time": "2025-02-21T07:27:58.180Z"
   },
   {
    "duration": 103,
    "start_time": "2025-02-21T07:27:58.191Z"
   },
   {
    "duration": 53,
    "start_time": "2025-02-21T07:27:58.296Z"
   },
   {
    "duration": 5,
    "start_time": "2025-02-21T07:27:58.351Z"
   },
   {
    "duration": 22,
    "start_time": "2025-02-21T07:27:58.357Z"
   },
   {
    "duration": 14,
    "start_time": "2025-02-21T07:27:58.381Z"
   },
   {
    "duration": 46,
    "start_time": "2025-02-21T07:27:58.397Z"
   },
   {
    "duration": 24,
    "start_time": "2025-02-21T07:27:58.444Z"
   },
   {
    "duration": 16,
    "start_time": "2025-02-21T07:27:58.470Z"
   },
   {
    "duration": 38,
    "start_time": "2025-02-21T07:27:58.488Z"
   },
   {
    "duration": 103,
    "start_time": "2025-02-21T07:27:58.528Z"
   },
   {
    "duration": 253,
    "start_time": "2025-02-21T07:27:58.633Z"
   },
   {
    "duration": 320,
    "start_time": "2025-02-21T07:27:58.889Z"
   },
   {
    "duration": 13,
    "start_time": "2025-02-21T07:27:59.211Z"
   },
   {
    "duration": 133,
    "start_time": "2025-02-21T07:27:59.226Z"
   },
   {
    "duration": 228,
    "start_time": "2025-02-21T07:27:59.360Z"
   },
   {
    "duration": 0,
    "start_time": "2025-02-21T07:27:59.590Z"
   },
   {
    "duration": 0,
    "start_time": "2025-02-21T07:27:59.591Z"
   },
   {
    "duration": 0,
    "start_time": "2025-02-21T07:27:59.592Z"
   },
   {
    "duration": 0,
    "start_time": "2025-02-21T07:27:59.594Z"
   },
   {
    "duration": 0,
    "start_time": "2025-02-21T07:27:59.595Z"
   },
   {
    "duration": 13,
    "start_time": "2025-02-21T07:30:32.794Z"
   },
   {
    "duration": 14,
    "start_time": "2025-02-21T07:32:28.998Z"
   },
   {
    "duration": 16,
    "start_time": "2025-02-21T07:32:54.819Z"
   },
   {
    "duration": 0,
    "start_time": "2025-02-21T07:33:56.263Z"
   },
   {
    "duration": 0,
    "start_time": "2025-02-21T07:33:56.265Z"
   },
   {
    "duration": 0,
    "start_time": "2025-02-21T07:33:56.266Z"
   },
   {
    "duration": 0,
    "start_time": "2025-02-21T07:33:56.324Z"
   },
   {
    "duration": 0,
    "start_time": "2025-02-21T07:33:56.326Z"
   },
   {
    "duration": 0,
    "start_time": "2025-02-21T07:33:56.326Z"
   },
   {
    "duration": 0,
    "start_time": "2025-02-21T07:33:56.328Z"
   },
   {
    "duration": 0,
    "start_time": "2025-02-21T07:33:56.329Z"
   },
   {
    "duration": 0,
    "start_time": "2025-02-21T07:33:56.330Z"
   },
   {
    "duration": 0,
    "start_time": "2025-02-21T07:33:56.331Z"
   },
   {
    "duration": 0,
    "start_time": "2025-02-21T07:33:56.332Z"
   },
   {
    "duration": 0,
    "start_time": "2025-02-21T07:33:56.332Z"
   },
   {
    "duration": 0,
    "start_time": "2025-02-21T07:33:56.333Z"
   },
   {
    "duration": 0,
    "start_time": "2025-02-21T07:33:56.334Z"
   },
   {
    "duration": 0,
    "start_time": "2025-02-21T07:33:56.336Z"
   },
   {
    "duration": 0,
    "start_time": "2025-02-21T07:33:56.337Z"
   },
   {
    "duration": 0,
    "start_time": "2025-02-21T07:33:56.338Z"
   },
   {
    "duration": 0,
    "start_time": "2025-02-21T07:33:56.339Z"
   },
   {
    "duration": 0,
    "start_time": "2025-02-21T07:33:56.340Z"
   },
   {
    "duration": 0,
    "start_time": "2025-02-21T07:33:56.341Z"
   },
   {
    "duration": 0,
    "start_time": "2025-02-21T07:33:56.342Z"
   },
   {
    "duration": 0,
    "start_time": "2025-02-21T07:33:56.343Z"
   },
   {
    "duration": 0,
    "start_time": "2025-02-21T07:33:56.344Z"
   },
   {
    "duration": 0,
    "start_time": "2025-02-21T07:33:56.345Z"
   },
   {
    "duration": 0,
    "start_time": "2025-02-21T07:33:56.346Z"
   },
   {
    "duration": 0,
    "start_time": "2025-02-21T07:33:56.347Z"
   },
   {
    "duration": 0,
    "start_time": "2025-02-21T07:33:56.348Z"
   },
   {
    "duration": 0,
    "start_time": "2025-02-21T07:33:56.350Z"
   },
   {
    "duration": 0,
    "start_time": "2025-02-21T07:33:56.350Z"
   },
   {
    "duration": 0,
    "start_time": "2025-02-21T07:33:56.352Z"
   },
   {
    "duration": 0,
    "start_time": "2025-02-21T07:33:56.354Z"
   },
   {
    "duration": 0,
    "start_time": "2025-02-21T07:33:56.355Z"
   },
   {
    "duration": 0,
    "start_time": "2025-02-21T07:33:56.356Z"
   },
   {
    "duration": 0,
    "start_time": "2025-02-21T07:33:56.358Z"
   },
   {
    "duration": 0,
    "start_time": "2025-02-21T07:33:56.359Z"
   },
   {
    "duration": 0,
    "start_time": "2025-02-21T07:33:56.360Z"
   },
   {
    "duration": 0,
    "start_time": "2025-02-21T07:33:56.362Z"
   },
   {
    "duration": 0,
    "start_time": "2025-02-21T07:33:56.363Z"
   },
   {
    "duration": 0,
    "start_time": "2025-02-21T07:33:56.424Z"
   },
   {
    "duration": 4,
    "start_time": "2025-02-21T07:34:15.299Z"
   },
   {
    "duration": 164,
    "start_time": "2025-02-21T07:34:17.576Z"
   },
   {
    "duration": 8,
    "start_time": "2025-02-21T07:34:21.732Z"
   },
   {
    "duration": 8,
    "start_time": "2025-02-21T07:34:23.309Z"
   },
   {
    "duration": 13,
    "start_time": "2025-02-21T07:34:26.039Z"
   },
   {
    "duration": 9,
    "start_time": "2025-02-21T07:34:30.984Z"
   },
   {
    "duration": 16,
    "start_time": "2025-02-21T07:34:31.900Z"
   },
   {
    "duration": 12,
    "start_time": "2025-02-21T07:34:41.559Z"
   },
   {
    "duration": 19,
    "start_time": "2025-02-21T07:35:26.432Z"
   },
   {
    "duration": 4,
    "start_time": "2025-02-21T07:35:47.484Z"
   },
   {
    "duration": 13,
    "start_time": "2025-02-21T07:36:24.548Z"
   },
   {
    "duration": 14,
    "start_time": "2025-02-21T07:37:31.624Z"
   },
   {
    "duration": 17,
    "start_time": "2025-02-21T07:38:20.864Z"
   },
   {
    "duration": 16,
    "start_time": "2025-02-21T07:38:39.089Z"
   },
   {
    "duration": 20,
    "start_time": "2025-02-21T07:42:34.274Z"
   },
   {
    "duration": 36,
    "start_time": "2025-02-21T07:43:29.745Z"
   },
   {
    "duration": 64,
    "start_time": "2025-02-21T07:44:26.331Z"
   },
   {
    "duration": 39,
    "start_time": "2025-02-21T07:46:48.717Z"
   },
   {
    "duration": 274,
    "start_time": "2025-02-21T07:51:57.819Z"
   },
   {
    "duration": 22,
    "start_time": "2025-02-21T07:52:36.593Z"
   },
   {
    "duration": 12,
    "start_time": "2025-02-21T07:53:06.375Z"
   },
   {
    "duration": 337,
    "start_time": "2025-02-21T07:54:44.550Z"
   },
   {
    "duration": 22,
    "start_time": "2025-02-21T07:55:27.547Z"
   },
   {
    "duration": 22,
    "start_time": "2025-02-21T07:56:49.818Z"
   },
   {
    "duration": 10,
    "start_time": "2025-02-21T07:58:15.497Z"
   },
   {
    "duration": 17,
    "start_time": "2025-02-21T07:58:46.384Z"
   },
   {
    "duration": 15,
    "start_time": "2025-02-21T07:59:03.398Z"
   },
   {
    "duration": 26,
    "start_time": "2025-02-21T08:01:07.001Z"
   },
   {
    "duration": 114,
    "start_time": "2025-02-21T08:02:19.570Z"
   },
   {
    "duration": 23,
    "start_time": "2025-02-21T08:02:42.406Z"
   },
   {
    "duration": 19,
    "start_time": "2025-02-21T08:04:38.766Z"
   },
   {
    "duration": 5,
    "start_time": "2025-02-21T08:06:43.579Z"
   },
   {
    "duration": 2471,
    "start_time": "2025-02-21T15:20:18.970Z"
   },
   {
    "duration": 218,
    "start_time": "2025-02-21T15:20:21.443Z"
   },
   {
    "duration": 10,
    "start_time": "2025-02-21T15:20:21.663Z"
   },
   {
    "duration": 11,
    "start_time": "2025-02-21T15:20:21.675Z"
   },
   {
    "duration": 16,
    "start_time": "2025-02-21T15:20:21.688Z"
   },
   {
    "duration": 9,
    "start_time": "2025-02-21T15:20:21.708Z"
   },
   {
    "duration": 15,
    "start_time": "2025-02-21T15:20:21.718Z"
   },
   {
    "duration": 17,
    "start_time": "2025-02-21T15:20:21.736Z"
   },
   {
    "duration": 14,
    "start_time": "2025-02-21T15:20:21.755Z"
   },
   {
    "duration": 42,
    "start_time": "2025-02-21T15:20:21.772Z"
   },
   {
    "duration": 29,
    "start_time": "2025-02-21T15:20:21.816Z"
   },
   {
    "duration": 38,
    "start_time": "2025-02-21T15:20:21.847Z"
   },
   {
    "duration": 21,
    "start_time": "2025-02-21T15:20:21.906Z"
   },
   {
    "duration": 12,
    "start_time": "2025-02-21T15:20:21.928Z"
   },
   {
    "duration": 20,
    "start_time": "2025-02-21T15:20:21.942Z"
   },
   {
    "duration": 49,
    "start_time": "2025-02-21T15:20:21.964Z"
   },
   {
    "duration": 16,
    "start_time": "2025-02-21T15:20:22.014Z"
   },
   {
    "duration": 13,
    "start_time": "2025-02-21T15:20:22.031Z"
   },
   {
    "duration": 24,
    "start_time": "2025-02-21T15:20:22.045Z"
   },
   {
    "duration": 48,
    "start_time": "2025-02-21T15:20:22.071Z"
   },
   {
    "duration": 16,
    "start_time": "2025-02-21T15:20:22.121Z"
   },
   {
    "duration": 5,
    "start_time": "2025-02-21T15:20:22.138Z"
   },
   {
    "duration": 233,
    "start_time": "2025-02-21T15:20:22.145Z"
   },
   {
    "duration": 0,
    "start_time": "2025-02-21T15:20:22.381Z"
   },
   {
    "duration": 0,
    "start_time": "2025-02-21T15:20:22.383Z"
   },
   {
    "duration": 0,
    "start_time": "2025-02-21T15:20:22.384Z"
   },
   {
    "duration": 0,
    "start_time": "2025-02-21T15:20:22.385Z"
   },
   {
    "duration": 0,
    "start_time": "2025-02-21T15:20:22.386Z"
   },
   {
    "duration": 0,
    "start_time": "2025-02-21T15:20:22.387Z"
   },
   {
    "duration": 0,
    "start_time": "2025-02-21T15:20:22.388Z"
   },
   {
    "duration": 0,
    "start_time": "2025-02-21T15:20:22.390Z"
   },
   {
    "duration": 0,
    "start_time": "2025-02-21T15:20:22.390Z"
   },
   {
    "duration": 0,
    "start_time": "2025-02-21T15:20:22.391Z"
   },
   {
    "duration": 0,
    "start_time": "2025-02-21T15:20:22.405Z"
   },
   {
    "duration": 0,
    "start_time": "2025-02-21T15:20:22.407Z"
   },
   {
    "duration": 0,
    "start_time": "2025-02-21T15:20:22.409Z"
   },
   {
    "duration": 0,
    "start_time": "2025-02-21T15:20:22.410Z"
   },
   {
    "duration": 0,
    "start_time": "2025-02-21T15:20:22.412Z"
   },
   {
    "duration": 0,
    "start_time": "2025-02-21T15:20:22.413Z"
   },
   {
    "duration": 771,
    "start_time": "2025-02-21T15:24:19.650Z"
   },
   {
    "duration": 154,
    "start_time": "2025-02-21T15:24:20.423Z"
   },
   {
    "duration": 9,
    "start_time": "2025-02-21T15:24:20.579Z"
   },
   {
    "duration": 16,
    "start_time": "2025-02-21T15:24:20.591Z"
   },
   {
    "duration": 13,
    "start_time": "2025-02-21T15:24:20.609Z"
   },
   {
    "duration": 8,
    "start_time": "2025-02-21T15:24:20.624Z"
   },
   {
    "duration": 14,
    "start_time": "2025-02-21T15:24:20.634Z"
   },
   {
    "duration": 18,
    "start_time": "2025-02-21T15:24:20.649Z"
   },
   {
    "duration": 45,
    "start_time": "2025-02-21T15:24:20.669Z"
   },
   {
    "duration": 14,
    "start_time": "2025-02-21T15:24:20.718Z"
   },
   {
    "duration": 30,
    "start_time": "2025-02-21T15:24:20.734Z"
   },
   {
    "duration": 67,
    "start_time": "2025-02-21T15:24:20.765Z"
   },
   {
    "duration": 21,
    "start_time": "2025-02-21T15:24:20.834Z"
   },
   {
    "duration": 11,
    "start_time": "2025-02-21T15:24:20.857Z"
   },
   {
    "duration": 42,
    "start_time": "2025-02-21T15:24:20.869Z"
   },
   {
    "duration": 21,
    "start_time": "2025-02-21T15:24:20.913Z"
   },
   {
    "duration": 17,
    "start_time": "2025-02-21T15:24:20.936Z"
   },
   {
    "duration": 16,
    "start_time": "2025-02-21T15:24:20.956Z"
   },
   {
    "duration": 46,
    "start_time": "2025-02-21T15:24:20.974Z"
   },
   {
    "duration": 22,
    "start_time": "2025-02-21T15:24:21.022Z"
   },
   {
    "duration": 17,
    "start_time": "2025-02-21T15:24:21.045Z"
   },
   {
    "duration": 5,
    "start_time": "2025-02-21T15:24:21.063Z"
   },
   {
    "duration": 0,
    "start_time": "2025-02-21T15:24:21.070Z"
   },
   {
    "duration": 0,
    "start_time": "2025-02-21T15:24:21.104Z"
   },
   {
    "duration": 0,
    "start_time": "2025-02-21T15:24:21.106Z"
   },
   {
    "duration": 0,
    "start_time": "2025-02-21T15:24:21.106Z"
   },
   {
    "duration": 0,
    "start_time": "2025-02-21T15:24:21.107Z"
   },
   {
    "duration": 0,
    "start_time": "2025-02-21T15:24:21.108Z"
   },
   {
    "duration": 1,
    "start_time": "2025-02-21T15:24:21.109Z"
   },
   {
    "duration": 0,
    "start_time": "2025-02-21T15:24:21.110Z"
   },
   {
    "duration": 0,
    "start_time": "2025-02-21T15:24:21.112Z"
   },
   {
    "duration": 0,
    "start_time": "2025-02-21T15:24:21.113Z"
   },
   {
    "duration": 0,
    "start_time": "2025-02-21T15:24:21.114Z"
   },
   {
    "duration": 0,
    "start_time": "2025-02-21T15:24:21.115Z"
   },
   {
    "duration": 0,
    "start_time": "2025-02-21T15:24:21.116Z"
   },
   {
    "duration": 0,
    "start_time": "2025-02-21T15:24:21.117Z"
   },
   {
    "duration": 0,
    "start_time": "2025-02-21T15:24:21.118Z"
   },
   {
    "duration": 0,
    "start_time": "2025-02-21T15:24:21.119Z"
   },
   {
    "duration": 0,
    "start_time": "2025-02-21T15:24:21.120Z"
   },
   {
    "duration": 4,
    "start_time": "2025-02-21T15:26:18.324Z"
   },
   {
    "duration": 4,
    "start_time": "2025-02-21T15:26:56.028Z"
   },
   {
    "duration": 5,
    "start_time": "2025-02-21T15:27:15.058Z"
   },
   {
    "duration": 4,
    "start_time": "2025-02-21T15:27:36.263Z"
   },
   {
    "duration": 5,
    "start_time": "2025-02-21T15:46:32.695Z"
   },
   {
    "duration": 2460,
    "start_time": "2025-02-22T06:03:36.236Z"
   },
   {
    "duration": 215,
    "start_time": "2025-02-22T06:03:38.698Z"
   },
   {
    "duration": 9,
    "start_time": "2025-02-22T06:03:38.915Z"
   },
   {
    "duration": 8,
    "start_time": "2025-02-22T06:03:38.927Z"
   },
   {
    "duration": 12,
    "start_time": "2025-02-22T06:03:38.937Z"
   },
   {
    "duration": 7,
    "start_time": "2025-02-22T06:03:38.950Z"
   },
   {
    "duration": 14,
    "start_time": "2025-02-22T06:03:38.959Z"
   },
   {
    "duration": 17,
    "start_time": "2025-02-22T06:03:38.975Z"
   },
   {
    "duration": 14,
    "start_time": "2025-02-22T06:03:38.994Z"
   },
   {
    "duration": 15,
    "start_time": "2025-02-22T06:03:39.043Z"
   },
   {
    "duration": 29,
    "start_time": "2025-02-22T06:03:39.060Z"
   },
   {
    "duration": 55,
    "start_time": "2025-02-22T06:03:39.091Z"
   },
   {
    "duration": 22,
    "start_time": "2025-02-22T06:03:39.148Z"
   },
   {
    "duration": 12,
    "start_time": "2025-02-22T06:03:39.172Z"
   },
   {
    "duration": 21,
    "start_time": "2025-02-22T06:03:39.185Z"
   },
   {
    "duration": 46,
    "start_time": "2025-02-22T06:03:39.208Z"
   },
   {
    "duration": 17,
    "start_time": "2025-02-22T06:03:39.256Z"
   },
   {
    "duration": 13,
    "start_time": "2025-02-22T06:03:39.274Z"
   },
   {
    "duration": 24,
    "start_time": "2025-02-22T06:03:39.289Z"
   },
   {
    "duration": 48,
    "start_time": "2025-02-22T06:03:39.314Z"
   },
   {
    "duration": 16,
    "start_time": "2025-02-22T06:03:39.363Z"
   },
   {
    "duration": 4,
    "start_time": "2025-02-22T06:03:39.381Z"
   },
   {
    "duration": 236,
    "start_time": "2025-02-22T06:03:39.388Z"
   },
   {
    "duration": 0,
    "start_time": "2025-02-22T06:03:39.627Z"
   },
   {
    "duration": 0,
    "start_time": "2025-02-22T06:03:39.628Z"
   },
   {
    "duration": 0,
    "start_time": "2025-02-22T06:03:39.630Z"
   },
   {
    "duration": 0,
    "start_time": "2025-02-22T06:03:39.643Z"
   },
   {
    "duration": 0,
    "start_time": "2025-02-22T06:03:39.644Z"
   },
   {
    "duration": 0,
    "start_time": "2025-02-22T06:03:39.645Z"
   },
   {
    "duration": 0,
    "start_time": "2025-02-22T06:03:39.646Z"
   },
   {
    "duration": 0,
    "start_time": "2025-02-22T06:03:39.647Z"
   },
   {
    "duration": 0,
    "start_time": "2025-02-22T06:03:39.648Z"
   },
   {
    "duration": 0,
    "start_time": "2025-02-22T06:03:39.649Z"
   },
   {
    "duration": 0,
    "start_time": "2025-02-22T06:03:39.651Z"
   },
   {
    "duration": 0,
    "start_time": "2025-02-22T06:03:39.652Z"
   },
   {
    "duration": 0,
    "start_time": "2025-02-22T06:03:39.653Z"
   },
   {
    "duration": 0,
    "start_time": "2025-02-22T06:03:39.654Z"
   },
   {
    "duration": 0,
    "start_time": "2025-02-22T06:03:39.656Z"
   },
   {
    "duration": 0,
    "start_time": "2025-02-22T06:03:39.659Z"
   },
   {
    "duration": 772,
    "start_time": "2025-02-22T06:25:21.977Z"
   },
   {
    "duration": 154,
    "start_time": "2025-02-22T06:25:22.751Z"
   },
   {
    "duration": 10,
    "start_time": "2025-02-22T06:25:22.906Z"
   },
   {
    "duration": 9,
    "start_time": "2025-02-22T06:25:22.918Z"
   },
   {
    "duration": 20,
    "start_time": "2025-02-22T06:25:22.929Z"
   },
   {
    "duration": 11,
    "start_time": "2025-02-22T06:25:22.950Z"
   },
   {
    "duration": 21,
    "start_time": "2025-02-22T06:25:22.962Z"
   },
   {
    "duration": 21,
    "start_time": "2025-02-22T06:25:22.985Z"
   },
   {
    "duration": 39,
    "start_time": "2025-02-22T06:25:23.009Z"
   },
   {
    "duration": 15,
    "start_time": "2025-02-22T06:25:23.052Z"
   },
   {
    "duration": 29,
    "start_time": "2025-02-22T06:25:23.068Z"
   },
   {
    "duration": 64,
    "start_time": "2025-02-22T06:25:23.098Z"
   },
   {
    "duration": 22,
    "start_time": "2025-02-22T06:25:23.163Z"
   },
   {
    "duration": 11,
    "start_time": "2025-02-22T06:25:23.187Z"
   },
   {
    "duration": 20,
    "start_time": "2025-02-22T06:25:23.199Z"
   },
   {
    "duration": 41,
    "start_time": "2025-02-22T06:25:23.221Z"
   },
   {
    "duration": 15,
    "start_time": "2025-02-22T06:25:23.264Z"
   },
   {
    "duration": 13,
    "start_time": "2025-02-22T06:25:23.280Z"
   },
   {
    "duration": 52,
    "start_time": "2025-02-22T06:25:23.295Z"
   },
   {
    "duration": 22,
    "start_time": "2025-02-22T06:25:23.349Z"
   },
   {
    "duration": 16,
    "start_time": "2025-02-22T06:25:23.373Z"
   },
   {
    "duration": 5,
    "start_time": "2025-02-22T06:25:23.390Z"
   },
   {
    "duration": 236,
    "start_time": "2025-02-22T06:25:23.397Z"
   },
   {
    "duration": 0,
    "start_time": "2025-02-22T06:25:23.635Z"
   },
   {
    "duration": 1,
    "start_time": "2025-02-22T06:25:23.636Z"
   },
   {
    "duration": 0,
    "start_time": "2025-02-22T06:25:23.642Z"
   },
   {
    "duration": 0,
    "start_time": "2025-02-22T06:25:23.644Z"
   },
   {
    "duration": 0,
    "start_time": "2025-02-22T06:25:23.645Z"
   },
   {
    "duration": 0,
    "start_time": "2025-02-22T06:25:23.647Z"
   },
   {
    "duration": 0,
    "start_time": "2025-02-22T06:25:23.648Z"
   },
   {
    "duration": 1,
    "start_time": "2025-02-22T06:25:23.649Z"
   },
   {
    "duration": 0,
    "start_time": "2025-02-22T06:25:23.651Z"
   },
   {
    "duration": 0,
    "start_time": "2025-02-22T06:25:23.652Z"
   },
   {
    "duration": 0,
    "start_time": "2025-02-22T06:25:23.654Z"
   },
   {
    "duration": 0,
    "start_time": "2025-02-22T06:25:23.655Z"
   },
   {
    "duration": 0,
    "start_time": "2025-02-22T06:25:23.657Z"
   },
   {
    "duration": 0,
    "start_time": "2025-02-22T06:25:23.658Z"
   },
   {
    "duration": 0,
    "start_time": "2025-02-22T06:25:23.660Z"
   },
   {
    "duration": 0,
    "start_time": "2025-02-22T06:25:23.661Z"
   },
   {
    "duration": 10,
    "start_time": "2025-02-22T06:28:22.740Z"
   },
   {
    "duration": 12,
    "start_time": "2025-02-22T06:34:58.232Z"
   },
   {
    "duration": 14,
    "start_time": "2025-02-22T07:16:13.415Z"
   },
   {
    "duration": 15,
    "start_time": "2025-02-22T07:16:25.857Z"
   },
   {
    "duration": 16,
    "start_time": "2025-02-22T07:20:05.853Z"
   },
   {
    "duration": 15,
    "start_time": "2025-02-22T07:20:40.172Z"
   },
   {
    "duration": 14,
    "start_time": "2025-02-22T07:40:20.572Z"
   },
   {
    "duration": 15,
    "start_time": "2025-02-22T07:40:22.918Z"
   },
   {
    "duration": 13,
    "start_time": "2025-02-22T07:48:40.718Z"
   },
   {
    "duration": 12,
    "start_time": "2025-02-22T07:49:04.513Z"
   },
   {
    "duration": 362,
    "start_time": "2025-02-22T07:53:02.125Z"
   },
   {
    "duration": 40,
    "start_time": "2025-02-22T07:54:44.610Z"
   },
   {
    "duration": 792,
    "start_time": "2025-02-22T08:00:45.853Z"
   },
   {
    "duration": 155,
    "start_time": "2025-02-22T08:00:46.648Z"
   },
   {
    "duration": 10,
    "start_time": "2025-02-22T08:00:46.804Z"
   },
   {
    "duration": 10,
    "start_time": "2025-02-22T08:00:46.816Z"
   },
   {
    "duration": 20,
    "start_time": "2025-02-22T08:00:46.827Z"
   },
   {
    "duration": 7,
    "start_time": "2025-02-22T08:00:46.849Z"
   },
   {
    "duration": 14,
    "start_time": "2025-02-22T08:00:46.858Z"
   },
   {
    "duration": 18,
    "start_time": "2025-02-22T08:00:46.874Z"
   },
   {
    "duration": 13,
    "start_time": "2025-02-22T08:00:46.893Z"
   },
   {
    "duration": 15,
    "start_time": "2025-02-22T08:00:46.942Z"
   },
   {
    "duration": 30,
    "start_time": "2025-02-22T08:00:46.958Z"
   },
   {
    "duration": 61,
    "start_time": "2025-02-22T08:00:46.990Z"
   },
   {
    "duration": 13,
    "start_time": "2025-02-22T08:00:47.052Z"
   },
   {
    "duration": 11,
    "start_time": "2025-02-22T08:00:47.066Z"
   },
   {
    "duration": 20,
    "start_time": "2025-02-22T08:00:47.079Z"
   },
   {
    "duration": 46,
    "start_time": "2025-02-22T08:00:47.101Z"
   },
   {
    "duration": 16,
    "start_time": "2025-02-22T08:00:47.149Z"
   },
   {
    "duration": 13,
    "start_time": "2025-02-22T08:00:47.166Z"
   },
   {
    "duration": 24,
    "start_time": "2025-02-22T08:00:47.180Z"
   },
   {
    "duration": 60,
    "start_time": "2025-02-22T08:00:47.205Z"
   },
   {
    "duration": 17,
    "start_time": "2025-02-22T08:00:47.267Z"
   },
   {
    "duration": 5,
    "start_time": "2025-02-22T08:00:47.285Z"
   },
   {
    "duration": 13,
    "start_time": "2025-02-22T08:00:47.292Z"
   },
   {
    "duration": 45,
    "start_time": "2025-02-22T08:00:47.307Z"
   },
   {
    "duration": 11,
    "start_time": "2025-02-22T08:00:47.354Z"
   },
   {
    "duration": 539,
    "start_time": "2025-02-22T08:00:47.366Z"
   },
   {
    "duration": 0,
    "start_time": "2025-02-22T08:00:47.908Z"
   },
   {
    "duration": 0,
    "start_time": "2025-02-22T08:00:47.909Z"
   },
   {
    "duration": 0,
    "start_time": "2025-02-22T08:00:47.910Z"
   },
   {
    "duration": 0,
    "start_time": "2025-02-22T08:00:47.911Z"
   },
   {
    "duration": 0,
    "start_time": "2025-02-22T08:00:47.912Z"
   },
   {
    "duration": 0,
    "start_time": "2025-02-22T08:00:47.913Z"
   },
   {
    "duration": 1,
    "start_time": "2025-02-22T08:00:47.915Z"
   },
   {
    "duration": 0,
    "start_time": "2025-02-22T08:00:47.917Z"
   },
   {
    "duration": 0,
    "start_time": "2025-02-22T08:00:47.918Z"
   },
   {
    "duration": 0,
    "start_time": "2025-02-22T08:00:47.920Z"
   },
   {
    "duration": 0,
    "start_time": "2025-02-22T08:00:47.944Z"
   },
   {
    "duration": 0,
    "start_time": "2025-02-22T08:00:47.945Z"
   },
   {
    "duration": 0,
    "start_time": "2025-02-22T08:00:47.947Z"
   },
   {
    "duration": 755,
    "start_time": "2025-02-22T08:03:27.041Z"
   },
   {
    "duration": 215,
    "start_time": "2025-02-22T08:03:27.799Z"
   },
   {
    "duration": 10,
    "start_time": "2025-02-22T08:03:28.016Z"
   },
   {
    "duration": 16,
    "start_time": "2025-02-22T08:03:28.028Z"
   },
   {
    "duration": 14,
    "start_time": "2025-02-22T08:03:28.045Z"
   },
   {
    "duration": 9,
    "start_time": "2025-02-22T08:03:28.061Z"
   },
   {
    "duration": 20,
    "start_time": "2025-02-22T08:03:28.071Z"
   },
   {
    "duration": 19,
    "start_time": "2025-02-22T08:03:28.093Z"
   },
   {
    "duration": 39,
    "start_time": "2025-02-22T08:03:28.114Z"
   },
   {
    "duration": 16,
    "start_time": "2025-02-22T08:03:28.158Z"
   },
   {
    "duration": 40,
    "start_time": "2025-02-22T08:03:28.176Z"
   },
   {
    "duration": 63,
    "start_time": "2025-02-22T08:03:28.217Z"
   },
   {
    "duration": 12,
    "start_time": "2025-02-22T08:03:28.282Z"
   },
   {
    "duration": 12,
    "start_time": "2025-02-22T08:03:28.298Z"
   },
   {
    "duration": 44,
    "start_time": "2025-02-22T08:03:28.314Z"
   },
   {
    "duration": 23,
    "start_time": "2025-02-22T08:03:28.360Z"
   },
   {
    "duration": 16,
    "start_time": "2025-02-22T08:03:28.385Z"
   },
   {
    "duration": 42,
    "start_time": "2025-02-22T08:03:28.403Z"
   },
   {
    "duration": 27,
    "start_time": "2025-02-22T08:03:28.447Z"
   },
   {
    "duration": 77,
    "start_time": "2025-02-22T08:03:28.476Z"
   },
   {
    "duration": 601,
    "start_time": "2025-02-22T08:03:28.555Z"
   },
   {
    "duration": 0,
    "start_time": "2025-02-22T08:03:29.158Z"
   },
   {
    "duration": 0,
    "start_time": "2025-02-22T08:03:29.159Z"
   },
   {
    "duration": 0,
    "start_time": "2025-02-22T08:03:29.160Z"
   },
   {
    "duration": 0,
    "start_time": "2025-02-22T08:03:29.162Z"
   },
   {
    "duration": 0,
    "start_time": "2025-02-22T08:03:29.163Z"
   },
   {
    "duration": 0,
    "start_time": "2025-02-22T08:03:29.164Z"
   },
   {
    "duration": 0,
    "start_time": "2025-02-22T08:03:29.165Z"
   },
   {
    "duration": 0,
    "start_time": "2025-02-22T08:03:29.166Z"
   },
   {
    "duration": 0,
    "start_time": "2025-02-22T08:03:29.166Z"
   },
   {
    "duration": 0,
    "start_time": "2025-02-22T08:03:29.167Z"
   },
   {
    "duration": 1,
    "start_time": "2025-02-22T08:03:29.168Z"
   },
   {
    "duration": 0,
    "start_time": "2025-02-22T08:03:29.169Z"
   },
   {
    "duration": 0,
    "start_time": "2025-02-22T08:03:29.170Z"
   },
   {
    "duration": 0,
    "start_time": "2025-02-22T08:03:29.171Z"
   },
   {
    "duration": 0,
    "start_time": "2025-02-22T08:03:29.175Z"
   },
   {
    "duration": 0,
    "start_time": "2025-02-22T08:03:29.176Z"
   },
   {
    "duration": 0,
    "start_time": "2025-02-22T08:03:29.177Z"
   },
   {
    "duration": 0,
    "start_time": "2025-02-22T08:03:29.178Z"
   },
   {
    "duration": 19,
    "start_time": "2025-02-22T08:04:41.558Z"
   },
   {
    "duration": 805,
    "start_time": "2025-02-22T08:04:53.454Z"
   },
   {
    "duration": 153,
    "start_time": "2025-02-22T08:04:54.261Z"
   },
   {
    "duration": 10,
    "start_time": "2025-02-22T08:04:54.416Z"
   },
   {
    "duration": 8,
    "start_time": "2025-02-22T08:04:54.429Z"
   },
   {
    "duration": 10,
    "start_time": "2025-02-22T08:04:54.443Z"
   },
   {
    "duration": 8,
    "start_time": "2025-02-22T08:04:54.454Z"
   },
   {
    "duration": 14,
    "start_time": "2025-02-22T08:04:54.464Z"
   },
   {
    "duration": 19,
    "start_time": "2025-02-22T08:04:54.480Z"
   },
   {
    "duration": 43,
    "start_time": "2025-02-22T08:04:54.501Z"
   },
   {
    "duration": 15,
    "start_time": "2025-02-22T08:04:54.546Z"
   },
   {
    "duration": 30,
    "start_time": "2025-02-22T08:04:54.562Z"
   },
   {
    "duration": 58,
    "start_time": "2025-02-22T08:04:54.594Z"
   },
   {
    "duration": 12,
    "start_time": "2025-02-22T08:04:54.654Z"
   },
   {
    "duration": 11,
    "start_time": "2025-02-22T08:04:54.668Z"
   },
   {
    "duration": 20,
    "start_time": "2025-02-22T08:04:54.681Z"
   },
   {
    "duration": 49,
    "start_time": "2025-02-22T08:04:54.703Z"
   },
   {
    "duration": 15,
    "start_time": "2025-02-22T08:04:54.754Z"
   },
   {
    "duration": 13,
    "start_time": "2025-02-22T08:04:54.771Z"
   },
   {
    "duration": 24,
    "start_time": "2025-02-22T08:04:54.786Z"
   },
   {
    "duration": 72,
    "start_time": "2025-02-22T08:04:54.812Z"
   },
   {
    "duration": 20,
    "start_time": "2025-02-22T08:04:54.886Z"
   },
   {
    "duration": 5,
    "start_time": "2025-02-22T08:04:54.907Z"
   },
   {
    "duration": 37,
    "start_time": "2025-02-22T08:04:54.914Z"
   },
   {
    "duration": 14,
    "start_time": "2025-02-22T08:04:54.953Z"
   },
   {
    "duration": 12,
    "start_time": "2025-02-22T08:04:54.968Z"
   },
   {
    "duration": 11,
    "start_time": "2025-02-22T08:04:54.981Z"
   },
   {
    "duration": 240,
    "start_time": "2025-02-22T08:04:54.994Z"
   },
   {
    "duration": 0,
    "start_time": "2025-02-22T08:04:55.242Z"
   },
   {
    "duration": 0,
    "start_time": "2025-02-22T08:04:55.243Z"
   },
   {
    "duration": 0,
    "start_time": "2025-02-22T08:04:55.246Z"
   },
   {
    "duration": 0,
    "start_time": "2025-02-22T08:04:55.247Z"
   },
   {
    "duration": 0,
    "start_time": "2025-02-22T08:04:55.248Z"
   },
   {
    "duration": 0,
    "start_time": "2025-02-22T08:04:55.249Z"
   },
   {
    "duration": 0,
    "start_time": "2025-02-22T08:04:55.250Z"
   },
   {
    "duration": 0,
    "start_time": "2025-02-22T08:04:55.252Z"
   },
   {
    "duration": 0,
    "start_time": "2025-02-22T08:04:55.252Z"
   },
   {
    "duration": 0,
    "start_time": "2025-02-22T08:04:55.253Z"
   },
   {
    "duration": 0,
    "start_time": "2025-02-22T08:04:55.254Z"
   },
   {
    "duration": 0,
    "start_time": "2025-02-22T08:04:55.255Z"
   },
   {
    "duration": 2513,
    "start_time": "2025-02-23T19:26:38.876Z"
   },
   {
    "duration": 209,
    "start_time": "2025-02-23T19:26:41.391Z"
   },
   {
    "duration": 9,
    "start_time": "2025-02-23T19:26:41.602Z"
   },
   {
    "duration": 11,
    "start_time": "2025-02-23T19:26:41.613Z"
   },
   {
    "duration": 11,
    "start_time": "2025-02-23T19:26:41.626Z"
   },
   {
    "duration": 9,
    "start_time": "2025-02-23T19:26:41.639Z"
   },
   {
    "duration": 18,
    "start_time": "2025-02-23T19:26:41.650Z"
   },
   {
    "duration": 20,
    "start_time": "2025-02-23T19:26:41.671Z"
   },
   {
    "duration": 15,
    "start_time": "2025-02-23T19:26:41.723Z"
   },
   {
    "duration": 16,
    "start_time": "2025-02-23T19:26:41.742Z"
   },
   {
    "duration": 30,
    "start_time": "2025-02-23T19:26:41.760Z"
   },
   {
    "duration": 65,
    "start_time": "2025-02-23T19:26:41.792Z"
   },
   {
    "duration": 13,
    "start_time": "2025-02-23T19:26:41.859Z"
   },
   {
    "duration": 12,
    "start_time": "2025-02-23T19:26:41.874Z"
   },
   {
    "duration": 45,
    "start_time": "2025-02-23T19:26:41.887Z"
   },
   {
    "duration": 22,
    "start_time": "2025-02-23T19:26:41.934Z"
   },
   {
    "duration": 16,
    "start_time": "2025-02-23T19:26:41.957Z"
   },
   {
    "duration": 14,
    "start_time": "2025-02-23T19:26:41.975Z"
   },
   {
    "duration": 49,
    "start_time": "2025-02-23T19:26:41.990Z"
   },
   {
    "duration": 40,
    "start_time": "2025-02-23T19:26:42.041Z"
   },
   {
    "duration": 19,
    "start_time": "2025-02-23T19:26:42.082Z"
   },
   {
    "duration": 26,
    "start_time": "2025-02-23T19:26:42.103Z"
   },
   {
    "duration": 14,
    "start_time": "2025-02-23T19:26:42.131Z"
   },
   {
    "duration": 17,
    "start_time": "2025-02-23T19:26:42.146Z"
   },
   {
    "duration": 19,
    "start_time": "2025-02-23T19:26:42.165Z"
   },
   {
    "duration": 41,
    "start_time": "2025-02-23T19:26:42.186Z"
   },
   {
    "duration": 220,
    "start_time": "2025-02-23T19:26:42.229Z"
   },
   {
    "duration": 0,
    "start_time": "2025-02-23T19:26:42.452Z"
   },
   {
    "duration": 0,
    "start_time": "2025-02-23T19:26:42.454Z"
   },
   {
    "duration": 0,
    "start_time": "2025-02-23T19:26:42.455Z"
   },
   {
    "duration": 0,
    "start_time": "2025-02-23T19:26:42.457Z"
   },
   {
    "duration": 0,
    "start_time": "2025-02-23T19:26:42.458Z"
   },
   {
    "duration": 0,
    "start_time": "2025-02-23T19:26:42.459Z"
   },
   {
    "duration": 0,
    "start_time": "2025-02-23T19:26:42.460Z"
   },
   {
    "duration": 0,
    "start_time": "2025-02-23T19:26:42.461Z"
   },
   {
    "duration": 0,
    "start_time": "2025-02-23T19:26:42.462Z"
   },
   {
    "duration": 0,
    "start_time": "2025-02-23T19:26:42.463Z"
   },
   {
    "duration": 0,
    "start_time": "2025-02-23T19:26:42.464Z"
   },
   {
    "duration": 0,
    "start_time": "2025-02-23T19:26:42.465Z"
   },
   {
    "duration": 5,
    "start_time": "2025-02-23T19:55:18.338Z"
   },
   {
    "duration": 318,
    "start_time": "2025-02-23T19:56:42.166Z"
   },
   {
    "duration": 8,
    "start_time": "2025-02-23T19:57:03.559Z"
   },
   {
    "duration": 15,
    "start_time": "2025-02-23T19:59:24.539Z"
   },
   {
    "duration": 13,
    "start_time": "2025-02-23T19:59:38.063Z"
   },
   {
    "duration": 11,
    "start_time": "2025-02-23T20:02:20.166Z"
   },
   {
    "duration": 760,
    "start_time": "2025-02-23T20:08:54.884Z"
   },
   {
    "duration": 153,
    "start_time": "2025-02-23T20:08:55.647Z"
   },
   {
    "duration": 11,
    "start_time": "2025-02-23T20:08:55.804Z"
   },
   {
    "duration": 11,
    "start_time": "2025-02-23T20:08:55.823Z"
   },
   {
    "duration": 11,
    "start_time": "2025-02-23T20:08:55.837Z"
   },
   {
    "duration": 11,
    "start_time": "2025-02-23T20:08:55.850Z"
   },
   {
    "duration": 18,
    "start_time": "2025-02-23T20:08:55.863Z"
   },
   {
    "duration": 48,
    "start_time": "2025-02-23T20:08:55.884Z"
   },
   {
    "duration": 15,
    "start_time": "2025-02-23T20:08:55.934Z"
   },
   {
    "duration": 15,
    "start_time": "2025-02-23T20:08:55.952Z"
   },
   {
    "duration": 55,
    "start_time": "2025-02-23T20:08:55.969Z"
   },
   {
    "duration": 40,
    "start_time": "2025-02-23T20:08:56.026Z"
   },
   {
    "duration": 13,
    "start_time": "2025-02-23T20:08:56.068Z"
   },
   {
    "duration": 12,
    "start_time": "2025-02-23T20:08:56.083Z"
   },
   {
    "duration": 45,
    "start_time": "2025-02-23T20:08:56.096Z"
   },
   {
    "duration": 21,
    "start_time": "2025-02-23T20:08:56.143Z"
   },
   {
    "duration": 17,
    "start_time": "2025-02-23T20:08:56.166Z"
   },
   {
    "duration": 40,
    "start_time": "2025-02-23T20:08:56.184Z"
   },
   {
    "duration": 25,
    "start_time": "2025-02-23T20:08:56.225Z"
   },
   {
    "duration": 42,
    "start_time": "2025-02-23T20:08:56.252Z"
   },
   {
    "duration": 35,
    "start_time": "2025-02-23T20:08:56.296Z"
   },
   {
    "duration": 5,
    "start_time": "2025-02-23T20:08:56.333Z"
   },
   {
    "duration": 14,
    "start_time": "2025-02-23T20:08:56.339Z"
   },
   {
    "duration": 15,
    "start_time": "2025-02-23T20:08:56.355Z"
   },
   {
    "duration": 18,
    "start_time": "2025-02-23T20:08:56.371Z"
   },
   {
    "duration": 43,
    "start_time": "2025-02-23T20:08:56.391Z"
   },
   {
    "duration": 6,
    "start_time": "2025-02-23T20:08:56.435Z"
   },
   {
    "duration": 145,
    "start_time": "2025-02-23T20:08:56.446Z"
   },
   {
    "duration": 0,
    "start_time": "2025-02-23T20:08:56.593Z"
   },
   {
    "duration": 0,
    "start_time": "2025-02-23T20:08:56.594Z"
   },
   {
    "duration": 0,
    "start_time": "2025-02-23T20:08:56.596Z"
   },
   {
    "duration": 0,
    "start_time": "2025-02-23T20:08:56.597Z"
   },
   {
    "duration": 0,
    "start_time": "2025-02-23T20:08:56.598Z"
   },
   {
    "duration": 0,
    "start_time": "2025-02-23T20:08:56.599Z"
   },
   {
    "duration": 0,
    "start_time": "2025-02-23T20:08:56.601Z"
   },
   {
    "duration": 0,
    "start_time": "2025-02-23T20:08:56.602Z"
   },
   {
    "duration": 0,
    "start_time": "2025-02-23T20:08:56.603Z"
   },
   {
    "duration": 0,
    "start_time": "2025-02-23T20:08:56.604Z"
   },
   {
    "duration": 0,
    "start_time": "2025-02-23T20:08:56.624Z"
   },
   {
    "duration": 0,
    "start_time": "2025-02-23T20:08:56.625Z"
   },
   {
    "duration": 0,
    "start_time": "2025-02-23T20:08:56.626Z"
   },
   {
    "duration": 0,
    "start_time": "2025-02-23T20:08:56.627Z"
   },
   {
    "duration": 12,
    "start_time": "2025-02-23T20:09:50.433Z"
   },
   {
    "duration": 19,
    "start_time": "2025-02-23T20:10:08.358Z"
   },
   {
    "duration": 4,
    "start_time": "2025-02-23T20:11:03.334Z"
   },
   {
    "duration": 3,
    "start_time": "2025-02-23T20:11:15.906Z"
   },
   {
    "duration": 8,
    "start_time": "2025-02-23T20:11:54.652Z"
   },
   {
    "duration": 21,
    "start_time": "2025-02-23T20:12:53.254Z"
   },
   {
    "duration": 23,
    "start_time": "2025-02-23T20:15:12.606Z"
   },
   {
    "duration": 10,
    "start_time": "2025-02-23T20:15:50.712Z"
   },
   {
    "duration": 15,
    "start_time": "2025-02-23T20:20:43.718Z"
   },
   {
    "duration": 10,
    "start_time": "2025-02-23T20:21:50.999Z"
   },
   {
    "duration": 11,
    "start_time": "2025-02-23T20:23:23.329Z"
   },
   {
    "duration": 19,
    "start_time": "2025-02-23T20:34:26.467Z"
   },
   {
    "duration": 115,
    "start_time": "2025-02-23T20:41:26.243Z"
   },
   {
    "duration": 19,
    "start_time": "2025-02-23T20:41:43.058Z"
   },
   {
    "duration": 25,
    "start_time": "2025-02-23T20:42:54.491Z"
   },
   {
    "duration": 32,
    "start_time": "2025-02-23T20:43:02.881Z"
   },
   {
    "duration": 25,
    "start_time": "2025-02-23T20:43:13.659Z"
   },
   {
    "duration": 18,
    "start_time": "2025-02-23T20:43:20.642Z"
   },
   {
    "duration": 18,
    "start_time": "2025-02-23T20:43:33.820Z"
   },
   {
    "duration": 9,
    "start_time": "2025-02-23T20:43:42.793Z"
   },
   {
    "duration": 754,
    "start_time": "2025-02-23T20:47:09.194Z"
   },
   {
    "duration": 153,
    "start_time": "2025-02-23T20:47:09.950Z"
   },
   {
    "duration": 10,
    "start_time": "2025-02-23T20:47:10.105Z"
   },
   {
    "duration": 15,
    "start_time": "2025-02-23T20:47:10.117Z"
   },
   {
    "duration": 11,
    "start_time": "2025-02-23T20:47:10.133Z"
   },
   {
    "duration": 8,
    "start_time": "2025-02-23T20:47:10.145Z"
   },
   {
    "duration": 15,
    "start_time": "2025-02-23T20:47:10.155Z"
   },
   {
    "duration": 19,
    "start_time": "2025-02-23T20:47:10.172Z"
   },
   {
    "duration": 41,
    "start_time": "2025-02-23T20:47:10.192Z"
   },
   {
    "duration": 14,
    "start_time": "2025-02-23T20:47:10.237Z"
   },
   {
    "duration": 31,
    "start_time": "2025-02-23T20:47:10.253Z"
   },
   {
    "duration": 76,
    "start_time": "2025-02-23T20:47:10.285Z"
   },
   {
    "duration": 13,
    "start_time": "2025-02-23T20:47:10.363Z"
   },
   {
    "duration": 12,
    "start_time": "2025-02-23T20:47:10.378Z"
   },
   {
    "duration": 41,
    "start_time": "2025-02-23T20:47:10.392Z"
   },
   {
    "duration": 23,
    "start_time": "2025-02-23T20:47:10.434Z"
   },
   {
    "duration": 17,
    "start_time": "2025-02-23T20:47:10.458Z"
   },
   {
    "duration": 13,
    "start_time": "2025-02-23T20:47:10.477Z"
   },
   {
    "duration": 53,
    "start_time": "2025-02-23T20:47:10.492Z"
   },
   {
    "duration": 42,
    "start_time": "2025-02-23T20:47:10.547Z"
   },
   {
    "duration": 36,
    "start_time": "2025-02-23T20:47:10.591Z"
   },
   {
    "duration": 5,
    "start_time": "2025-02-23T20:47:10.629Z"
   },
   {
    "duration": 15,
    "start_time": "2025-02-23T20:47:10.635Z"
   },
   {
    "duration": 16,
    "start_time": "2025-02-23T20:47:10.652Z"
   },
   {
    "duration": 14,
    "start_time": "2025-02-23T20:47:10.669Z"
   },
   {
    "duration": 44,
    "start_time": "2025-02-23T20:47:10.684Z"
   },
   {
    "duration": 6,
    "start_time": "2025-02-23T20:47:10.731Z"
   },
   {
    "duration": 10,
    "start_time": "2025-02-23T20:47:10.741Z"
   },
   {
    "duration": 8,
    "start_time": "2025-02-23T20:47:10.753Z"
   },
   {
    "duration": 9,
    "start_time": "2025-02-23T20:47:10.763Z"
   },
   {
    "duration": 18,
    "start_time": "2025-02-23T20:47:10.773Z"
   },
   {
    "duration": 36,
    "start_time": "2025-02-23T20:47:10.793Z"
   },
   {
    "duration": 222,
    "start_time": "2025-02-23T20:47:10.832Z"
   },
   {
    "duration": 0,
    "start_time": "2025-02-23T20:47:11.056Z"
   },
   {
    "duration": 0,
    "start_time": "2025-02-23T20:47:11.057Z"
   },
   {
    "duration": 0,
    "start_time": "2025-02-23T20:47:11.058Z"
   },
   {
    "duration": 0,
    "start_time": "2025-02-23T20:47:11.060Z"
   },
   {
    "duration": 0,
    "start_time": "2025-02-23T20:47:11.061Z"
   },
   {
    "duration": 0,
    "start_time": "2025-02-23T20:47:11.063Z"
   },
   {
    "duration": 0,
    "start_time": "2025-02-23T20:47:11.064Z"
   },
   {
    "duration": 0,
    "start_time": "2025-02-23T20:47:11.065Z"
   },
   {
    "duration": 0,
    "start_time": "2025-02-23T20:47:11.066Z"
   },
   {
    "duration": 0,
    "start_time": "2025-02-23T20:47:11.067Z"
   },
   {
    "duration": 0,
    "start_time": "2025-02-23T20:47:11.068Z"
   },
   {
    "duration": 0,
    "start_time": "2025-02-23T20:47:11.069Z"
   },
   {
    "duration": 11,
    "start_time": "2025-02-23T20:49:26.546Z"
   },
   {
    "duration": 16,
    "start_time": "2025-02-23T20:52:01.212Z"
   },
   {
    "duration": 11,
    "start_time": "2025-02-23T20:52:37.537Z"
   },
   {
    "duration": 9,
    "start_time": "2025-02-23T20:55:20.830Z"
   },
   {
    "duration": 19,
    "start_time": "2025-02-23T20:59:13.850Z"
   },
   {
    "duration": 13,
    "start_time": "2025-02-23T21:16:17.255Z"
   },
   {
    "duration": 11,
    "start_time": "2025-02-23T21:16:25.787Z"
   },
   {
    "duration": 11,
    "start_time": "2025-02-23T21:16:35.942Z"
   },
   {
    "duration": 4,
    "start_time": "2025-02-23T21:35:02.396Z"
   },
   {
    "duration": 22,
    "start_time": "2025-02-23T21:35:30.238Z"
   },
   {
    "duration": 808,
    "start_time": "2025-02-23T21:45:57.739Z"
   },
   {
    "duration": 155,
    "start_time": "2025-02-23T21:45:58.549Z"
   },
   {
    "duration": 9,
    "start_time": "2025-02-23T21:45:58.706Z"
   },
   {
    "duration": 9,
    "start_time": "2025-02-23T21:45:58.723Z"
   },
   {
    "duration": 11,
    "start_time": "2025-02-23T21:45:58.733Z"
   },
   {
    "duration": 8,
    "start_time": "2025-02-23T21:45:58.745Z"
   },
   {
    "duration": 14,
    "start_time": "2025-02-23T21:45:58.754Z"
   },
   {
    "duration": 18,
    "start_time": "2025-02-23T21:45:58.770Z"
   },
   {
    "duration": 13,
    "start_time": "2025-02-23T21:45:58.824Z"
   },
   {
    "duration": 15,
    "start_time": "2025-02-23T21:45:58.842Z"
   },
   {
    "duration": 29,
    "start_time": "2025-02-23T21:45:58.858Z"
   },
   {
    "duration": 62,
    "start_time": "2025-02-23T21:45:58.889Z"
   },
   {
    "duration": 12,
    "start_time": "2025-02-23T21:45:58.953Z"
   },
   {
    "duration": 12,
    "start_time": "2025-02-23T21:45:58.966Z"
   },
   {
    "duration": 45,
    "start_time": "2025-02-23T21:45:58.979Z"
   },
   {
    "duration": 21,
    "start_time": "2025-02-23T21:45:59.026Z"
   },
   {
    "duration": 16,
    "start_time": "2025-02-23T21:45:59.050Z"
   },
   {
    "duration": 13,
    "start_time": "2025-02-23T21:45:59.067Z"
   },
   {
    "duration": 47,
    "start_time": "2025-02-23T21:45:59.081Z"
   },
   {
    "duration": 44,
    "start_time": "2025-02-23T21:45:59.130Z"
   },
   {
    "duration": 19,
    "start_time": "2025-02-23T21:45:59.177Z"
   },
   {
    "duration": 26,
    "start_time": "2025-02-23T21:45:59.198Z"
   },
   {
    "duration": 13,
    "start_time": "2025-02-23T21:45:59.226Z"
   },
   {
    "duration": 14,
    "start_time": "2025-02-23T21:45:59.240Z"
   },
   {
    "duration": 12,
    "start_time": "2025-02-23T21:45:59.255Z"
   },
   {
    "duration": 10,
    "start_time": "2025-02-23T21:45:59.268Z"
   },
   {
    "duration": 7,
    "start_time": "2025-02-23T21:45:59.280Z"
   },
   {
    "duration": 9,
    "start_time": "2025-02-23T21:45:59.325Z"
   },
   {
    "duration": 8,
    "start_time": "2025-02-23T21:45:59.336Z"
   },
   {
    "duration": 9,
    "start_time": "2025-02-23T21:45:59.345Z"
   },
   {
    "duration": 17,
    "start_time": "2025-02-23T21:45:59.356Z"
   },
   {
    "duration": 8,
    "start_time": "2025-02-23T21:45:59.375Z"
   },
   {
    "duration": 39,
    "start_time": "2025-02-23T21:45:59.385Z"
   },
   {
    "duration": 13,
    "start_time": "2025-02-23T21:45:59.426Z"
   },
   {
    "duration": 10,
    "start_time": "2025-02-23T21:45:59.441Z"
   },
   {
    "duration": 248,
    "start_time": "2025-02-23T21:45:59.452Z"
   },
   {
    "duration": 0,
    "start_time": "2025-02-23T21:45:59.702Z"
   },
   {
    "duration": 0,
    "start_time": "2025-02-23T21:45:59.703Z"
   },
   {
    "duration": 0,
    "start_time": "2025-02-23T21:45:59.705Z"
   },
   {
    "duration": 0,
    "start_time": "2025-02-23T21:45:59.705Z"
   },
   {
    "duration": 0,
    "start_time": "2025-02-23T21:45:59.706Z"
   },
   {
    "duration": 0,
    "start_time": "2025-02-23T21:45:59.707Z"
   },
   {
    "duration": 0,
    "start_time": "2025-02-23T21:45:59.708Z"
   },
   {
    "duration": 0,
    "start_time": "2025-02-23T21:45:59.709Z"
   },
   {
    "duration": 0,
    "start_time": "2025-02-23T21:45:59.710Z"
   },
   {
    "duration": 0,
    "start_time": "2025-02-23T21:45:59.724Z"
   },
   {
    "duration": 0,
    "start_time": "2025-02-23T21:45:59.724Z"
   },
   {
    "duration": 0,
    "start_time": "2025-02-23T21:45:59.725Z"
   },
   {
    "duration": 0,
    "start_time": "2025-02-23T21:45:59.726Z"
   },
   {
    "duration": 22,
    "start_time": "2025-02-23T21:47:34.404Z"
   },
   {
    "duration": 2,
    "start_time": "2025-02-23T21:47:37.382Z"
   },
   {
    "duration": 14,
    "start_time": "2025-02-23T21:47:39.929Z"
   },
   {
    "duration": 5,
    "start_time": "2025-02-23T22:04:28.896Z"
   },
   {
    "duration": 5,
    "start_time": "2025-02-23T22:08:05.985Z"
   },
   {
    "duration": 5,
    "start_time": "2025-02-23T22:09:24.596Z"
   },
   {
    "duration": 12,
    "start_time": "2025-02-23T22:09:41.645Z"
   },
   {
    "duration": 5,
    "start_time": "2025-02-23T22:12:45.600Z"
   },
   {
    "duration": 18,
    "start_time": "2025-02-23T22:12:47.378Z"
   },
   {
    "duration": 5,
    "start_time": "2025-02-23T22:16:02.328Z"
   },
   {
    "duration": 19,
    "start_time": "2025-02-23T22:16:03.306Z"
   },
   {
    "duration": 3,
    "start_time": "2025-02-23T22:17:10.296Z"
   },
   {
    "duration": 18,
    "start_time": "2025-02-23T22:17:11.467Z"
   },
   {
    "duration": 3,
    "start_time": "2025-02-23T22:17:58.325Z"
   },
   {
    "duration": 19,
    "start_time": "2025-02-23T22:17:59.418Z"
   },
   {
    "duration": 5,
    "start_time": "2025-02-23T22:18:44.948Z"
   },
   {
    "duration": 20,
    "start_time": "2025-02-23T22:18:51.055Z"
   },
   {
    "duration": 757,
    "start_time": "2025-02-23T22:19:22.563Z"
   },
   {
    "duration": 159,
    "start_time": "2025-02-23T22:19:23.322Z"
   },
   {
    "duration": 10,
    "start_time": "2025-02-23T22:19:23.483Z"
   },
   {
    "duration": 10,
    "start_time": "2025-02-23T22:19:23.496Z"
   },
   {
    "duration": 21,
    "start_time": "2025-02-23T22:19:23.507Z"
   },
   {
    "duration": 8,
    "start_time": "2025-02-23T22:19:23.530Z"
   },
   {
    "duration": 15,
    "start_time": "2025-02-23T22:19:23.540Z"
   },
   {
    "duration": 18,
    "start_time": "2025-02-23T22:19:23.557Z"
   },
   {
    "duration": 14,
    "start_time": "2025-02-23T22:19:23.578Z"
   },
   {
    "duration": 16,
    "start_time": "2025-02-23T22:19:23.626Z"
   },
   {
    "duration": 31,
    "start_time": "2025-02-23T22:19:23.644Z"
   },
   {
    "duration": 68,
    "start_time": "2025-02-23T22:19:23.677Z"
   },
   {
    "duration": 12,
    "start_time": "2025-02-23T22:19:23.747Z"
   },
   {
    "duration": 13,
    "start_time": "2025-02-23T22:19:23.761Z"
   },
   {
    "duration": 21,
    "start_time": "2025-02-23T22:19:23.776Z"
   },
   {
    "duration": 25,
    "start_time": "2025-02-23T22:19:23.824Z"
   },
   {
    "duration": 25,
    "start_time": "2025-02-23T22:19:23.850Z"
   },
   {
    "duration": 15,
    "start_time": "2025-02-23T22:19:23.877Z"
   },
   {
    "duration": 44,
    "start_time": "2025-02-23T22:19:23.895Z"
   },
   {
    "duration": 45,
    "start_time": "2025-02-23T22:19:23.941Z"
   },
   {
    "duration": 46,
    "start_time": "2025-02-23T22:19:23.988Z"
   },
   {
    "duration": 4,
    "start_time": "2025-02-23T22:19:24.036Z"
   },
   {
    "duration": 14,
    "start_time": "2025-02-23T22:19:24.042Z"
   },
   {
    "duration": 15,
    "start_time": "2025-02-23T22:19:24.057Z"
   },
   {
    "duration": 12,
    "start_time": "2025-02-23T22:19:24.074Z"
   },
   {
    "duration": 43,
    "start_time": "2025-02-23T22:19:24.088Z"
   },
   {
    "duration": 6,
    "start_time": "2025-02-23T22:19:24.133Z"
   },
   {
    "duration": 9,
    "start_time": "2025-02-23T22:19:24.144Z"
   },
   {
    "duration": 8,
    "start_time": "2025-02-23T22:19:24.155Z"
   },
   {
    "duration": 9,
    "start_time": "2025-02-23T22:19:24.165Z"
   },
   {
    "duration": 51,
    "start_time": "2025-02-23T22:19:24.176Z"
   },
   {
    "duration": 10,
    "start_time": "2025-02-23T22:19:24.228Z"
   },
   {
    "duration": 9,
    "start_time": "2025-02-23T22:19:24.239Z"
   },
   {
    "duration": 12,
    "start_time": "2025-02-23T22:19:24.250Z"
   },
   {
    "duration": 10,
    "start_time": "2025-02-23T22:19:24.263Z"
   },
   {
    "duration": 13,
    "start_time": "2025-02-23T22:19:24.275Z"
   },
   {
    "duration": 3,
    "start_time": "2025-02-23T22:19:24.324Z"
   },
   {
    "duration": 16,
    "start_time": "2025-02-23T22:19:24.328Z"
   },
   {
    "duration": 5,
    "start_time": "2025-02-23T22:19:24.346Z"
   },
   {
    "duration": 12,
    "start_time": "2025-02-23T22:19:24.353Z"
   },
   {
    "duration": 242,
    "start_time": "2025-02-23T22:19:24.367Z"
   },
   {
    "duration": 0,
    "start_time": "2025-02-23T22:19:24.611Z"
   },
   {
    "duration": 0,
    "start_time": "2025-02-23T22:19:24.612Z"
   },
   {
    "duration": 0,
    "start_time": "2025-02-23T22:19:24.613Z"
   },
   {
    "duration": 0,
    "start_time": "2025-02-23T22:19:24.624Z"
   },
   {
    "duration": 0,
    "start_time": "2025-02-23T22:19:24.626Z"
   },
   {
    "duration": 0,
    "start_time": "2025-02-23T22:19:24.627Z"
   },
   {
    "duration": 0,
    "start_time": "2025-02-23T22:19:24.629Z"
   },
   {
    "duration": 0,
    "start_time": "2025-02-23T22:19:24.630Z"
   },
   {
    "duration": 0,
    "start_time": "2025-02-23T22:19:24.632Z"
   },
   {
    "duration": 0,
    "start_time": "2025-02-23T22:19:24.633Z"
   },
   {
    "duration": 177,
    "start_time": "2025-02-23T22:38:12.987Z"
   },
   {
    "duration": 221,
    "start_time": "2025-02-23T22:42:26.412Z"
   },
   {
    "duration": 7,
    "start_time": "2025-02-23T22:47:52.051Z"
   },
   {
    "duration": 15,
    "start_time": "2025-02-23T22:50:28.440Z"
   },
   {
    "duration": 17,
    "start_time": "2025-02-23T22:51:06.529Z"
   },
   {
    "duration": 534,
    "start_time": "2025-02-23T22:52:01.872Z"
   },
   {
    "duration": 476,
    "start_time": "2025-02-23T22:53:29.217Z"
   },
   {
    "duration": 8,
    "start_time": "2025-02-23T23:02:32.546Z"
   },
   {
    "duration": 180,
    "start_time": "2025-02-23T23:03:10.726Z"
   },
   {
    "duration": 265,
    "start_time": "2025-02-23T23:03:45.817Z"
   },
   {
    "duration": 192,
    "start_time": "2025-02-23T23:05:11.336Z"
   },
   {
    "duration": 8,
    "start_time": "2025-02-23T23:07:35.767Z"
   },
   {
    "duration": 170,
    "start_time": "2025-02-23T23:08:21.688Z"
   },
   {
    "duration": 605,
    "start_time": "2025-02-23T23:09:04.450Z"
   },
   {
    "duration": 172,
    "start_time": "2025-02-23T23:09:27.850Z"
   },
   {
    "duration": 6,
    "start_time": "2025-02-23T23:15:26.723Z"
   },
   {
    "duration": 4,
    "start_time": "2025-02-23T23:15:50.472Z"
   },
   {
    "duration": 13,
    "start_time": "2025-02-23T23:18:42.109Z"
   },
   {
    "duration": 23,
    "start_time": "2025-02-23T23:19:46.976Z"
   },
   {
    "duration": 6,
    "start_time": "2025-02-23T23:20:20.676Z"
   },
   {
    "duration": 105,
    "start_time": "2025-02-23T23:20:23.593Z"
   },
   {
    "duration": 130,
    "start_time": "2025-02-23T23:21:25.680Z"
   },
   {
    "duration": 8,
    "start_time": "2025-02-23T23:25:48.406Z"
   },
   {
    "duration": 174,
    "start_time": "2025-02-23T23:26:08.675Z"
   },
   {
    "duration": 209,
    "start_time": "2025-02-23T23:27:40.477Z"
   },
   {
    "duration": 210,
    "start_time": "2025-02-23T23:28:40.078Z"
   },
   {
    "duration": 3,
    "start_time": "2025-02-23T23:43:52.006Z"
   },
   {
    "duration": 16,
    "start_time": "2025-02-23T23:43:53.574Z"
   },
   {
    "duration": 5,
    "start_time": "2025-02-23T23:44:05.687Z"
   },
   {
    "duration": 14,
    "start_time": "2025-02-23T23:45:02.692Z"
   },
   {
    "duration": 14,
    "start_time": "2025-02-23T23:45:12.374Z"
   },
   {
    "duration": 36,
    "start_time": "2025-02-23T23:46:11.909Z"
   },
   {
    "duration": 2,
    "start_time": "2025-02-23T23:46:45.273Z"
   },
   {
    "duration": 7,
    "start_time": "2025-02-23T23:46:46.545Z"
   },
   {
    "duration": 7,
    "start_time": "2025-02-23T23:47:07.628Z"
   },
   {
    "duration": 6,
    "start_time": "2025-02-23T23:50:51.606Z"
   },
   {
    "duration": 6,
    "start_time": "2025-02-23T23:52:33.497Z"
   },
   {
    "duration": 6,
    "start_time": "2025-02-23T23:55:18.565Z"
   },
   {
    "duration": 2,
    "start_time": "2025-02-24T00:13:48.822Z"
   },
   {
    "duration": 6,
    "start_time": "2025-02-24T00:13:50.655Z"
   },
   {
    "duration": 6,
    "start_time": "2025-02-24T00:14:05.110Z"
   },
   {
    "duration": 3,
    "start_time": "2025-02-24T00:22:32.597Z"
   },
   {
    "duration": 2,
    "start_time": "2025-02-24T00:22:52.697Z"
   },
   {
    "duration": 430,
    "start_time": "2025-02-24T00:22:53.862Z"
   },
   {
    "duration": 8,
    "start_time": "2025-02-24T00:25:44.492Z"
   },
   {
    "duration": 14,
    "start_time": "2025-02-24T00:27:49.828Z"
   },
   {
    "duration": 3,
    "start_time": "2025-02-24T00:29:56.930Z"
   },
   {
    "duration": 10,
    "start_time": "2025-02-24T00:40:00.677Z"
   },
   {
    "duration": 777,
    "start_time": "2025-02-24T00:40:27.957Z"
   },
   {
    "duration": 152,
    "start_time": "2025-02-24T00:40:28.736Z"
   },
   {
    "duration": 9,
    "start_time": "2025-02-24T00:40:28.891Z"
   },
   {
    "duration": 10,
    "start_time": "2025-02-24T00:40:28.901Z"
   },
   {
    "duration": 16,
    "start_time": "2025-02-24T00:40:28.914Z"
   },
   {
    "duration": 8,
    "start_time": "2025-02-24T00:40:28.932Z"
   },
   {
    "duration": 14,
    "start_time": "2025-02-24T00:40:28.941Z"
   },
   {
    "duration": 17,
    "start_time": "2025-02-24T00:40:28.957Z"
   },
   {
    "duration": 14,
    "start_time": "2025-02-24T00:40:28.975Z"
   },
   {
    "duration": 47,
    "start_time": "2025-02-24T00:40:28.990Z"
   },
   {
    "duration": 29,
    "start_time": "2025-02-24T00:40:29.038Z"
   },
   {
    "duration": 55,
    "start_time": "2025-02-24T00:40:29.069Z"
   },
   {
    "duration": 13,
    "start_time": "2025-02-24T00:40:29.125Z"
   },
   {
    "duration": 12,
    "start_time": "2025-02-24T00:40:29.143Z"
   },
   {
    "duration": 21,
    "start_time": "2025-02-24T00:40:29.157Z"
   },
   {
    "duration": 54,
    "start_time": "2025-02-24T00:40:29.180Z"
   },
   {
    "duration": 15,
    "start_time": "2025-02-24T00:40:29.236Z"
   },
   {
    "duration": 13,
    "start_time": "2025-02-24T00:40:29.253Z"
   },
   {
    "duration": 23,
    "start_time": "2025-02-24T00:40:29.268Z"
   },
   {
    "duration": 67,
    "start_time": "2025-02-24T00:40:29.293Z"
   },
   {
    "duration": 19,
    "start_time": "2025-02-24T00:40:29.362Z"
   },
   {
    "duration": 6,
    "start_time": "2025-02-24T00:40:29.382Z"
   },
   {
    "duration": 35,
    "start_time": "2025-02-24T00:40:29.390Z"
   },
   {
    "duration": 13,
    "start_time": "2025-02-24T00:40:29.426Z"
   },
   {
    "duration": 12,
    "start_time": "2025-02-24T00:40:29.441Z"
   },
   {
    "duration": 11,
    "start_time": "2025-02-24T00:40:29.455Z"
   },
   {
    "duration": 7,
    "start_time": "2025-02-24T00:40:29.467Z"
   },
   {
    "duration": 9,
    "start_time": "2025-02-24T00:40:29.476Z"
   },
   {
    "duration": 44,
    "start_time": "2025-02-24T00:40:29.487Z"
   },
   {
    "duration": 9,
    "start_time": "2025-02-24T00:40:29.533Z"
   },
   {
    "duration": 18,
    "start_time": "2025-02-24T00:40:29.544Z"
   },
   {
    "duration": 10,
    "start_time": "2025-02-24T00:40:29.563Z"
   },
   {
    "duration": 8,
    "start_time": "2025-02-24T00:40:29.574Z"
   },
   {
    "duration": 41,
    "start_time": "2025-02-24T00:40:29.584Z"
   },
   {
    "duration": 9,
    "start_time": "2025-02-24T00:40:29.626Z"
   },
   {
    "duration": 17,
    "start_time": "2025-02-24T00:40:29.637Z"
   },
   {
    "duration": 3,
    "start_time": "2025-02-24T00:40:29.656Z"
   },
   {
    "duration": 14,
    "start_time": "2025-02-24T00:40:29.662Z"
   },
   {
    "duration": 5,
    "start_time": "2025-02-24T00:40:29.678Z"
   },
   {
    "duration": 46,
    "start_time": "2025-02-24T00:40:29.684Z"
   },
   {
    "duration": 175,
    "start_time": "2025-02-24T00:40:29.735Z"
   },
   {
    "duration": 15,
    "start_time": "2025-02-24T00:40:29.912Z"
   },
   {
    "duration": 514,
    "start_time": "2025-02-24T00:40:29.929Z"
   },
   {
    "duration": 8,
    "start_time": "2025-02-24T00:40:30.445Z"
   },
   {
    "duration": 201,
    "start_time": "2025-02-24T00:40:30.455Z"
   },
   {
    "duration": 8,
    "start_time": "2025-02-24T00:40:30.658Z"
   },
   {
    "duration": 167,
    "start_time": "2025-02-24T00:40:30.667Z"
   },
   {
    "duration": 7,
    "start_time": "2025-02-24T00:40:30.836Z"
   },
   {
    "duration": 220,
    "start_time": "2025-02-24T00:40:30.845Z"
   },
   {
    "duration": 33,
    "start_time": "2025-02-24T00:40:31.068Z"
   },
   {
    "duration": 4,
    "start_time": "2025-02-24T00:40:31.103Z"
   },
   {
    "duration": 6,
    "start_time": "2025-02-24T00:40:31.124Z"
   },
   {
    "duration": 2,
    "start_time": "2025-02-24T00:40:31.131Z"
   },
   {
    "duration": 11,
    "start_time": "2025-02-24T00:40:31.135Z"
   },
   {
    "duration": 6,
    "start_time": "2025-02-24T00:41:15.373Z"
   },
   {
    "duration": 4,
    "start_time": "2025-02-24T00:55:09.706Z"
   },
   {
    "duration": 793,
    "start_time": "2025-02-24T01:15:22.845Z"
   },
   {
    "duration": 168,
    "start_time": "2025-02-24T01:15:23.640Z"
   },
   {
    "duration": 15,
    "start_time": "2025-02-24T01:15:23.810Z"
   },
   {
    "duration": 9,
    "start_time": "2025-02-24T01:15:23.828Z"
   },
   {
    "duration": 10,
    "start_time": "2025-02-24T01:15:23.840Z"
   },
   {
    "duration": 20,
    "start_time": "2025-02-24T01:15:23.851Z"
   },
   {
    "duration": 21,
    "start_time": "2025-02-24T01:15:23.872Z"
   },
   {
    "duration": 34,
    "start_time": "2025-02-24T01:15:23.894Z"
   },
   {
    "duration": 13,
    "start_time": "2025-02-24T01:15:23.930Z"
   },
   {
    "duration": 14,
    "start_time": "2025-02-24T01:15:23.946Z"
   },
   {
    "duration": 29,
    "start_time": "2025-02-24T01:15:23.962Z"
   },
   {
    "duration": 65,
    "start_time": "2025-02-24T01:15:23.993Z"
   },
   {
    "duration": 13,
    "start_time": "2025-02-24T01:15:24.060Z"
   },
   {
    "duration": 15,
    "start_time": "2025-02-24T01:15:24.074Z"
   },
   {
    "duration": 42,
    "start_time": "2025-02-24T01:15:24.092Z"
   },
   {
    "duration": 28,
    "start_time": "2025-02-24T01:15:24.136Z"
   },
   {
    "duration": 20,
    "start_time": "2025-02-24T01:15:24.165Z"
   },
   {
    "duration": 41,
    "start_time": "2025-02-24T01:15:24.187Z"
   },
   {
    "duration": 25,
    "start_time": "2025-02-24T01:15:24.229Z"
   },
   {
    "duration": 45,
    "start_time": "2025-02-24T01:15:24.256Z"
   },
   {
    "duration": 38,
    "start_time": "2025-02-24T01:15:24.303Z"
   },
   {
    "duration": 5,
    "start_time": "2025-02-24T01:15:24.342Z"
   },
   {
    "duration": 13,
    "start_time": "2025-02-24T01:15:24.349Z"
   },
   {
    "duration": 13,
    "start_time": "2025-02-24T01:15:24.364Z"
   },
   {
    "duration": 13,
    "start_time": "2025-02-24T01:15:24.379Z"
   },
   {
    "duration": 35,
    "start_time": "2025-02-24T01:15:24.393Z"
   },
   {
    "duration": 6,
    "start_time": "2025-02-24T01:15:24.429Z"
   },
   {
    "duration": 10,
    "start_time": "2025-02-24T01:15:24.440Z"
   },
   {
    "duration": 9,
    "start_time": "2025-02-24T01:15:24.451Z"
   },
   {
    "duration": 10,
    "start_time": "2025-02-24T01:15:24.462Z"
   },
   {
    "duration": 52,
    "start_time": "2025-02-24T01:15:24.473Z"
   },
   {
    "duration": 11,
    "start_time": "2025-02-24T01:15:24.527Z"
   },
   {
    "duration": 9,
    "start_time": "2025-02-24T01:15:24.539Z"
   },
   {
    "duration": 14,
    "start_time": "2025-02-24T01:15:24.550Z"
   },
   {
    "duration": 10,
    "start_time": "2025-02-24T01:15:24.565Z"
   },
   {
    "duration": 14,
    "start_time": "2025-02-24T01:15:24.577Z"
   },
   {
    "duration": 32,
    "start_time": "2025-02-24T01:15:24.593Z"
   },
   {
    "duration": 19,
    "start_time": "2025-02-24T01:15:24.627Z"
   },
   {
    "duration": 6,
    "start_time": "2025-02-24T01:15:24.648Z"
   },
   {
    "duration": 12,
    "start_time": "2025-02-24T01:15:24.656Z"
   },
   {
    "duration": 194,
    "start_time": "2025-02-24T01:15:24.670Z"
   },
   {
    "duration": 6,
    "start_time": "2025-02-24T01:15:24.867Z"
   },
   {
    "duration": 527,
    "start_time": "2025-02-24T01:15:24.875Z"
   },
   {
    "duration": 8,
    "start_time": "2025-02-24T01:15:25.404Z"
   },
   {
    "duration": 203,
    "start_time": "2025-02-24T01:15:25.413Z"
   },
   {
    "duration": 8,
    "start_time": "2025-02-24T01:15:25.618Z"
   },
   {
    "duration": 187,
    "start_time": "2025-02-24T01:15:25.627Z"
   },
   {
    "duration": 13,
    "start_time": "2025-02-24T01:15:25.816Z"
   },
   {
    "duration": 225,
    "start_time": "2025-02-24T01:15:25.831Z"
   },
   {
    "duration": 34,
    "start_time": "2025-02-24T01:15:26.057Z"
   },
   {
    "duration": 4,
    "start_time": "2025-02-24T01:15:26.094Z"
   },
   {
    "duration": 5,
    "start_time": "2025-02-24T01:15:26.100Z"
   },
   {
    "duration": 17,
    "start_time": "2025-02-24T01:15:26.107Z"
   },
   {
    "duration": 5,
    "start_time": "2025-02-24T01:15:26.126Z"
   },
   {
    "duration": 12,
    "start_time": "2025-02-24T01:19:00.235Z"
   },
   {
    "duration": 21,
    "start_time": "2025-02-24T01:22:12.002Z"
   },
   {
    "duration": 21,
    "start_time": "2025-02-24T01:22:57.687Z"
   },
   {
    "duration": 745,
    "start_time": "2025-02-24T01:23:09.592Z"
   },
   {
    "duration": 157,
    "start_time": "2025-02-24T01:23:10.339Z"
   },
   {
    "duration": 9,
    "start_time": "2025-02-24T01:23:10.497Z"
   },
   {
    "duration": 18,
    "start_time": "2025-02-24T01:23:10.510Z"
   },
   {
    "duration": 11,
    "start_time": "2025-02-24T01:23:10.530Z"
   },
   {
    "duration": 9,
    "start_time": "2025-02-24T01:23:10.542Z"
   },
   {
    "duration": 12,
    "start_time": "2025-02-24T01:23:10.552Z"
   },
   {
    "duration": 3,
    "start_time": "2025-02-24T01:23:10.567Z"
   },
   {
    "duration": 0,
    "start_time": "2025-02-24T01:23:10.575Z"
   },
   {
    "duration": 0,
    "start_time": "2025-02-24T01:23:10.576Z"
   },
   {
    "duration": 0,
    "start_time": "2025-02-24T01:23:10.578Z"
   },
   {
    "duration": 0,
    "start_time": "2025-02-24T01:23:10.579Z"
   },
   {
    "duration": 0,
    "start_time": "2025-02-24T01:23:10.580Z"
   },
   {
    "duration": 1,
    "start_time": "2025-02-24T01:23:10.581Z"
   },
   {
    "duration": 0,
    "start_time": "2025-02-24T01:23:10.583Z"
   },
   {
    "duration": 0,
    "start_time": "2025-02-24T01:23:10.584Z"
   },
   {
    "duration": 0,
    "start_time": "2025-02-24T01:23:10.585Z"
   },
   {
    "duration": 0,
    "start_time": "2025-02-24T01:23:10.587Z"
   },
   {
    "duration": 0,
    "start_time": "2025-02-24T01:23:10.624Z"
   },
   {
    "duration": 0,
    "start_time": "2025-02-24T01:23:10.627Z"
   },
   {
    "duration": 0,
    "start_time": "2025-02-24T01:23:10.628Z"
   },
   {
    "duration": 0,
    "start_time": "2025-02-24T01:23:10.629Z"
   },
   {
    "duration": 0,
    "start_time": "2025-02-24T01:23:10.631Z"
   },
   {
    "duration": 0,
    "start_time": "2025-02-24T01:23:10.632Z"
   },
   {
    "duration": 0,
    "start_time": "2025-02-24T01:23:10.633Z"
   },
   {
    "duration": 0,
    "start_time": "2025-02-24T01:23:10.635Z"
   },
   {
    "duration": 0,
    "start_time": "2025-02-24T01:23:10.636Z"
   },
   {
    "duration": 0,
    "start_time": "2025-02-24T01:23:10.636Z"
   },
   {
    "duration": 0,
    "start_time": "2025-02-24T01:23:10.637Z"
   },
   {
    "duration": 0,
    "start_time": "2025-02-24T01:23:10.639Z"
   },
   {
    "duration": 0,
    "start_time": "2025-02-24T01:23:10.640Z"
   },
   {
    "duration": 0,
    "start_time": "2025-02-24T01:23:10.641Z"
   },
   {
    "duration": 0,
    "start_time": "2025-02-24T01:23:10.643Z"
   },
   {
    "duration": 0,
    "start_time": "2025-02-24T01:23:10.644Z"
   },
   {
    "duration": 0,
    "start_time": "2025-02-24T01:23:10.645Z"
   },
   {
    "duration": 0,
    "start_time": "2025-02-24T01:23:10.647Z"
   },
   {
    "duration": 0,
    "start_time": "2025-02-24T01:23:10.648Z"
   },
   {
    "duration": 0,
    "start_time": "2025-02-24T01:23:10.649Z"
   },
   {
    "duration": 0,
    "start_time": "2025-02-24T01:23:10.651Z"
   },
   {
    "duration": 0,
    "start_time": "2025-02-24T01:23:10.652Z"
   },
   {
    "duration": 0,
    "start_time": "2025-02-24T01:23:10.653Z"
   },
   {
    "duration": 0,
    "start_time": "2025-02-24T01:23:10.654Z"
   },
   {
    "duration": 0,
    "start_time": "2025-02-24T01:23:10.656Z"
   },
   {
    "duration": 0,
    "start_time": "2025-02-24T01:23:10.657Z"
   },
   {
    "duration": 0,
    "start_time": "2025-02-24T01:23:10.659Z"
   },
   {
    "duration": 0,
    "start_time": "2025-02-24T01:23:10.660Z"
   },
   {
    "duration": 1,
    "start_time": "2025-02-24T01:23:10.661Z"
   },
   {
    "duration": 0,
    "start_time": "2025-02-24T01:23:10.663Z"
   },
   {
    "duration": 0,
    "start_time": "2025-02-24T01:23:10.664Z"
   },
   {
    "duration": 0,
    "start_time": "2025-02-24T01:23:10.666Z"
   },
   {
    "duration": 0,
    "start_time": "2025-02-24T01:23:10.667Z"
   },
   {
    "duration": 0,
    "start_time": "2025-02-24T01:23:10.724Z"
   },
   {
    "duration": 0,
    "start_time": "2025-02-24T01:23:10.725Z"
   },
   {
    "duration": 0,
    "start_time": "2025-02-24T01:23:10.727Z"
   },
   {
    "duration": 0,
    "start_time": "2025-02-24T01:23:10.728Z"
   },
   {
    "duration": 18,
    "start_time": "2025-02-24T01:24:12.641Z"
   },
   {
    "duration": 14,
    "start_time": "2025-02-24T01:24:24.756Z"
   },
   {
    "duration": 17,
    "start_time": "2025-02-24T01:25:12.341Z"
   },
   {
    "duration": 30,
    "start_time": "2025-02-24T01:25:30.145Z"
   },
   {
    "duration": 40,
    "start_time": "2025-02-24T01:26:32.716Z"
   },
   {
    "duration": 5,
    "start_time": "2025-02-24T01:27:31.663Z"
   },
   {
    "duration": 55,
    "start_time": "2025-02-24T01:27:39.603Z"
   },
   {
    "duration": 16,
    "start_time": "2025-02-24T01:27:43.656Z"
   },
   {
    "duration": 14,
    "start_time": "2025-02-24T01:28:01.989Z"
   },
   {
    "duration": 22,
    "start_time": "2025-02-24T01:28:06.350Z"
   },
   {
    "duration": 29,
    "start_time": "2025-02-24T01:28:26.245Z"
   },
   {
    "duration": 26,
    "start_time": "2025-02-24T01:29:50.680Z"
   },
   {
    "duration": 20,
    "start_time": "2025-02-24T01:30:02.959Z"
   },
   {
    "duration": 15,
    "start_time": "2025-02-24T01:30:08.781Z"
   },
   {
    "duration": 34,
    "start_time": "2025-02-24T01:30:09.999Z"
   },
   {
    "duration": 721,
    "start_time": "2025-02-24T01:31:05.376Z"
   },
   {
    "duration": 155,
    "start_time": "2025-02-24T01:31:06.099Z"
   },
   {
    "duration": 9,
    "start_time": "2025-02-24T01:31:06.256Z"
   },
   {
    "duration": 10,
    "start_time": "2025-02-24T01:31:06.267Z"
   },
   {
    "duration": 11,
    "start_time": "2025-02-24T01:31:06.278Z"
   },
   {
    "duration": 8,
    "start_time": "2025-02-24T01:31:06.291Z"
   },
   {
    "duration": 10,
    "start_time": "2025-02-24T01:31:06.324Z"
   },
   {
    "duration": 18,
    "start_time": "2025-02-24T01:31:06.336Z"
   },
   {
    "duration": 15,
    "start_time": "2025-02-24T01:31:06.356Z"
   },
   {
    "duration": 18,
    "start_time": "2025-02-24T01:31:06.374Z"
   },
   {
    "duration": 54,
    "start_time": "2025-02-24T01:31:06.394Z"
   },
   {
    "duration": 40,
    "start_time": "2025-02-24T01:31:06.450Z"
   },
   {
    "duration": 34,
    "start_time": "2025-02-24T01:31:06.491Z"
   },
   {
    "duration": 16,
    "start_time": "2025-02-24T01:31:06.528Z"
   },
   {
    "duration": 27,
    "start_time": "2025-02-24T01:31:06.546Z"
   },
   {
    "duration": 31,
    "start_time": "2025-02-24T01:31:06.575Z"
   },
   {
    "duration": 29,
    "start_time": "2025-02-24T01:31:06.610Z"
   },
   {
    "duration": 12,
    "start_time": "2025-02-24T01:31:06.641Z"
   },
   {
    "duration": 24,
    "start_time": "2025-02-24T01:31:06.655Z"
   },
   {
    "duration": 65,
    "start_time": "2025-02-24T01:31:06.681Z"
   },
   {
    "duration": 22,
    "start_time": "2025-02-24T01:31:06.749Z"
   },
   {
    "duration": 5,
    "start_time": "2025-02-24T01:31:06.773Z"
   },
   {
    "duration": 15,
    "start_time": "2025-02-24T01:31:06.779Z"
   },
   {
    "duration": 39,
    "start_time": "2025-02-24T01:31:06.796Z"
   },
   {
    "duration": 12,
    "start_time": "2025-02-24T01:31:06.836Z"
   },
   {
    "duration": 13,
    "start_time": "2025-02-24T01:31:06.850Z"
   },
   {
    "duration": 8,
    "start_time": "2025-02-24T01:31:06.864Z"
   },
   {
    "duration": 10,
    "start_time": "2025-02-24T01:31:06.877Z"
   },
   {
    "duration": 36,
    "start_time": "2025-02-24T01:31:06.888Z"
   },
   {
    "duration": 9,
    "start_time": "2025-02-24T01:31:06.926Z"
   },
   {
    "duration": 21,
    "start_time": "2025-02-24T01:31:06.937Z"
   },
   {
    "duration": 11,
    "start_time": "2025-02-24T01:31:06.959Z"
   },
   {
    "duration": 11,
    "start_time": "2025-02-24T01:31:06.971Z"
   },
   {
    "duration": 42,
    "start_time": "2025-02-24T01:31:06.984Z"
   },
   {
    "duration": 11,
    "start_time": "2025-02-24T01:31:07.028Z"
   },
   {
    "duration": 14,
    "start_time": "2025-02-24T01:31:07.041Z"
   },
   {
    "duration": 3,
    "start_time": "2025-02-24T01:31:07.056Z"
   },
   {
    "duration": 15,
    "start_time": "2025-02-24T01:31:07.061Z"
   },
   {
    "duration": 5,
    "start_time": "2025-02-24T01:31:07.077Z"
   },
   {
    "duration": 47,
    "start_time": "2025-02-24T01:31:07.084Z"
   },
   {
    "duration": 177,
    "start_time": "2025-02-24T01:31:07.133Z"
   },
   {
    "duration": 16,
    "start_time": "2025-02-24T01:31:07.311Z"
   },
   {
    "duration": 541,
    "start_time": "2025-02-24T01:31:07.329Z"
   },
   {
    "duration": 8,
    "start_time": "2025-02-24T01:31:07.872Z"
   },
   {
    "duration": 226,
    "start_time": "2025-02-24T01:31:07.883Z"
   },
   {
    "duration": 9,
    "start_time": "2025-02-24T01:31:08.111Z"
   },
   {
    "duration": 188,
    "start_time": "2025-02-24T01:31:08.122Z"
   },
   {
    "duration": 12,
    "start_time": "2025-02-24T01:31:08.312Z"
   },
   {
    "duration": 220,
    "start_time": "2025-02-24T01:31:08.325Z"
   },
   {
    "duration": 36,
    "start_time": "2025-02-24T01:31:08.546Z"
   },
   {
    "duration": 2,
    "start_time": "2025-02-24T01:31:08.583Z"
   },
   {
    "duration": 6,
    "start_time": "2025-02-24T01:31:08.587Z"
   },
   {
    "duration": 2,
    "start_time": "2025-02-24T01:31:08.595Z"
   },
   {
    "duration": 29,
    "start_time": "2025-02-24T01:31:08.599Z"
   },
   {
    "duration": 9,
    "start_time": "2025-02-24T15:34:55.989Z"
   },
   {
    "duration": 153,
    "start_time": "2025-02-24T15:34:57.860Z"
   },
   {
    "duration": 2518,
    "start_time": "2025-02-24T15:35:39.354Z"
   },
   {
    "duration": 222,
    "start_time": "2025-02-24T15:35:41.874Z"
   },
   {
    "duration": 10,
    "start_time": "2025-02-24T15:35:42.097Z"
   },
   {
    "duration": 10,
    "start_time": "2025-02-24T15:35:42.108Z"
   },
   {
    "duration": 9,
    "start_time": "2025-02-24T15:35:42.120Z"
   },
   {
    "duration": 7,
    "start_time": "2025-02-24T15:35:42.131Z"
   },
   {
    "duration": 9,
    "start_time": "2025-02-24T15:35:42.140Z"
   },
   {
    "duration": 20,
    "start_time": "2025-02-24T15:35:42.150Z"
   },
   {
    "duration": 48,
    "start_time": "2025-02-24T15:35:42.171Z"
   },
   {
    "duration": 15,
    "start_time": "2025-02-24T15:35:42.221Z"
   },
   {
    "duration": 29,
    "start_time": "2025-02-24T15:35:42.238Z"
   },
   {
    "duration": 66,
    "start_time": "2025-02-24T15:35:42.269Z"
   },
   {
    "duration": 13,
    "start_time": "2025-02-24T15:35:42.337Z"
   },
   {
    "duration": 13,
    "start_time": "2025-02-24T15:35:42.353Z"
   },
   {
    "duration": 41,
    "start_time": "2025-02-24T15:35:42.368Z"
   },
   {
    "duration": 29,
    "start_time": "2025-02-24T15:35:42.411Z"
   },
   {
    "duration": 17,
    "start_time": "2025-02-24T15:35:42.442Z"
   },
   {
    "duration": 14,
    "start_time": "2025-02-24T15:35:42.461Z"
   },
   {
    "duration": 26,
    "start_time": "2025-02-24T15:35:42.505Z"
   },
   {
    "duration": 41,
    "start_time": "2025-02-24T15:35:42.532Z"
   },
   {
    "duration": 36,
    "start_time": "2025-02-24T15:35:42.575Z"
   },
   {
    "duration": 5,
    "start_time": "2025-02-24T15:35:42.613Z"
   },
   {
    "duration": 23,
    "start_time": "2025-02-24T15:35:42.621Z"
   },
   {
    "duration": 17,
    "start_time": "2025-02-24T15:35:42.646Z"
   },
   {
    "duration": 13,
    "start_time": "2025-02-24T15:35:42.665Z"
   },
   {
    "duration": 40,
    "start_time": "2025-02-24T15:35:42.680Z"
   },
   {
    "duration": 11,
    "start_time": "2025-02-24T15:35:42.723Z"
   },
   {
    "duration": 14,
    "start_time": "2025-02-24T15:35:42.736Z"
   },
   {
    "duration": 8,
    "start_time": "2025-02-24T15:35:42.752Z"
   },
   {
    "duration": 11,
    "start_time": "2025-02-24T15:35:42.762Z"
   },
   {
    "duration": 44,
    "start_time": "2025-02-24T15:35:42.775Z"
   },
   {
    "duration": 9,
    "start_time": "2025-02-24T15:35:42.821Z"
   },
   {
    "duration": 8,
    "start_time": "2025-02-24T15:35:42.832Z"
   },
   {
    "duration": 13,
    "start_time": "2025-02-24T15:35:42.842Z"
   },
   {
    "duration": 9,
    "start_time": "2025-02-24T15:35:42.856Z"
   },
   {
    "duration": 39,
    "start_time": "2025-02-24T15:35:42.867Z"
   },
   {
    "duration": 5,
    "start_time": "2025-02-24T15:35:42.907Z"
   },
   {
    "duration": 17,
    "start_time": "2025-02-24T15:35:42.914Z"
   },
   {
    "duration": 4,
    "start_time": "2025-02-24T15:35:42.932Z"
   },
   {
    "duration": 0,
    "start_time": "2025-02-24T15:35:42.938Z"
   },
   {
    "duration": 0,
    "start_time": "2025-02-24T15:35:42.939Z"
   },
   {
    "duration": 0,
    "start_time": "2025-02-24T15:35:42.941Z"
   },
   {
    "duration": 0,
    "start_time": "2025-02-24T15:35:42.943Z"
   },
   {
    "duration": 0,
    "start_time": "2025-02-24T15:35:42.944Z"
   },
   {
    "duration": 0,
    "start_time": "2025-02-24T15:35:42.945Z"
   },
   {
    "duration": 0,
    "start_time": "2025-02-24T15:35:42.947Z"
   },
   {
    "duration": 0,
    "start_time": "2025-02-24T15:35:42.948Z"
   },
   {
    "duration": 0,
    "start_time": "2025-02-24T15:35:42.949Z"
   },
   {
    "duration": 0,
    "start_time": "2025-02-24T15:35:42.950Z"
   },
   {
    "duration": 0,
    "start_time": "2025-02-24T15:35:42.952Z"
   },
   {
    "duration": 0,
    "start_time": "2025-02-24T15:35:42.953Z"
   },
   {
    "duration": 0,
    "start_time": "2025-02-24T15:35:42.954Z"
   },
   {
    "duration": 0,
    "start_time": "2025-02-24T15:35:42.955Z"
   },
   {
    "duration": 0,
    "start_time": "2025-02-24T15:35:42.957Z"
   },
   {
    "duration": 8,
    "start_time": "2025-02-24T15:45:09.065Z"
   },
   {
    "duration": 13,
    "start_time": "2025-02-24T15:45:10.501Z"
   },
   {
    "duration": 739,
    "start_time": "2025-02-24T15:45:44.195Z"
   },
   {
    "duration": 163,
    "start_time": "2025-02-24T15:45:44.936Z"
   },
   {
    "duration": 19,
    "start_time": "2025-02-24T15:45:45.100Z"
   },
   {
    "duration": 12,
    "start_time": "2025-02-24T15:45:45.121Z"
   },
   {
    "duration": 11,
    "start_time": "2025-02-24T15:45:45.137Z"
   },
   {
    "duration": 8,
    "start_time": "2025-02-24T15:45:45.149Z"
   },
   {
    "duration": 9,
    "start_time": "2025-02-24T15:45:45.159Z"
   },
   {
    "duration": 40,
    "start_time": "2025-02-24T15:45:45.170Z"
   },
   {
    "duration": 15,
    "start_time": "2025-02-24T15:45:45.212Z"
   },
   {
    "duration": 19,
    "start_time": "2025-02-24T15:45:45.229Z"
   },
   {
    "duration": 29,
    "start_time": "2025-02-24T15:45:45.250Z"
   },
   {
    "duration": 37,
    "start_time": "2025-02-24T15:45:45.305Z"
   },
   {
    "duration": 13,
    "start_time": "2025-02-24T15:45:45.344Z"
   },
   {
    "duration": 12,
    "start_time": "2025-02-24T15:45:45.361Z"
   },
   {
    "duration": 41,
    "start_time": "2025-02-24T15:45:45.376Z"
   },
   {
    "duration": 22,
    "start_time": "2025-02-24T15:45:45.423Z"
   },
   {
    "duration": 16,
    "start_time": "2025-02-24T15:45:45.446Z"
   },
   {
    "duration": 15,
    "start_time": "2025-02-24T15:45:45.463Z"
   },
   {
    "duration": 45,
    "start_time": "2025-02-24T15:45:45.480Z"
   },
   {
    "duration": 39,
    "start_time": "2025-02-24T15:45:45.527Z"
   },
   {
    "duration": 38,
    "start_time": "2025-02-24T15:45:45.567Z"
   },
   {
    "duration": 6,
    "start_time": "2025-02-24T15:45:45.607Z"
   },
   {
    "duration": 18,
    "start_time": "2025-02-24T15:45:45.614Z"
   },
   {
    "duration": 13,
    "start_time": "2025-02-24T15:45:45.635Z"
   },
   {
    "duration": 12,
    "start_time": "2025-02-24T15:45:45.650Z"
   },
   {
    "duration": 10,
    "start_time": "2025-02-24T15:45:45.664Z"
   },
   {
    "duration": 35,
    "start_time": "2025-02-24T15:45:45.675Z"
   },
   {
    "duration": 10,
    "start_time": "2025-02-24T15:45:45.712Z"
   },
   {
    "duration": 10,
    "start_time": "2025-02-24T15:45:45.724Z"
   },
   {
    "duration": 9,
    "start_time": "2025-02-24T15:45:45.735Z"
   },
   {
    "duration": 21,
    "start_time": "2025-02-24T15:45:45.745Z"
   },
   {
    "duration": 38,
    "start_time": "2025-02-24T15:45:45.768Z"
   },
   {
    "duration": 10,
    "start_time": "2025-02-24T15:45:45.808Z"
   },
   {
    "duration": 13,
    "start_time": "2025-02-24T15:45:45.820Z"
   },
   {
    "duration": 10,
    "start_time": "2025-02-24T15:45:45.835Z"
   },
   {
    "duration": 18,
    "start_time": "2025-02-24T15:45:45.846Z"
   },
   {
    "duration": 3,
    "start_time": "2025-02-24T15:45:45.866Z"
   },
   {
    "duration": 51,
    "start_time": "2025-02-24T15:45:45.871Z"
   },
   {
    "duration": 9,
    "start_time": "2025-02-24T15:45:45.924Z"
   },
   {
    "duration": 17,
    "start_time": "2025-02-24T15:45:45.937Z"
   },
   {
    "duration": 194,
    "start_time": "2025-02-24T15:45:45.958Z"
   },
   {
    "duration": 8,
    "start_time": "2025-02-24T15:45:46.154Z"
   },
   {
    "duration": 523,
    "start_time": "2025-02-24T15:45:46.164Z"
   },
   {
    "duration": 17,
    "start_time": "2025-02-24T15:45:46.688Z"
   },
   {
    "duration": 194,
    "start_time": "2025-02-24T15:45:46.707Z"
   },
   {
    "duration": 8,
    "start_time": "2025-02-24T15:45:46.903Z"
   },
   {
    "duration": 181,
    "start_time": "2025-02-24T15:45:46.913Z"
   },
   {
    "duration": 15,
    "start_time": "2025-02-24T15:45:47.095Z"
   },
   {
    "duration": 238,
    "start_time": "2025-02-24T15:45:47.113Z"
   },
   {
    "duration": 38,
    "start_time": "2025-02-24T15:45:47.353Z"
   },
   {
    "duration": 12,
    "start_time": "2025-02-24T15:45:47.393Z"
   },
   {
    "duration": 6,
    "start_time": "2025-02-24T15:45:47.407Z"
   },
   {
    "duration": 5,
    "start_time": "2025-02-24T15:45:47.415Z"
   },
   {
    "duration": 7,
    "start_time": "2025-02-24T15:45:47.421Z"
   },
   {
    "duration": 5,
    "start_time": "2025-02-24T15:50:38.841Z"
   },
   {
    "duration": 7,
    "start_time": "2025-02-24T15:51:15.288Z"
   },
   {
    "duration": 6,
    "start_time": "2025-02-24T15:58:38.774Z"
   },
   {
    "duration": 779,
    "start_time": "2025-02-24T15:58:57.434Z"
   },
   {
    "duration": 168,
    "start_time": "2025-02-24T15:58:58.215Z"
   },
   {
    "duration": 9,
    "start_time": "2025-02-24T15:58:58.384Z"
   },
   {
    "duration": 11,
    "start_time": "2025-02-24T15:58:58.395Z"
   },
   {
    "duration": 9,
    "start_time": "2025-02-24T15:58:58.408Z"
   },
   {
    "duration": 8,
    "start_time": "2025-02-24T15:58:58.419Z"
   },
   {
    "duration": 9,
    "start_time": "2025-02-24T15:58:58.429Z"
   },
   {
    "duration": 18,
    "start_time": "2025-02-24T15:58:58.439Z"
   },
   {
    "duration": 13,
    "start_time": "2025-02-24T15:58:58.459Z"
   },
   {
    "duration": 45,
    "start_time": "2025-02-24T15:58:58.474Z"
   },
   {
    "duration": 29,
    "start_time": "2025-02-24T15:58:58.521Z"
   },
   {
    "duration": 61,
    "start_time": "2025-02-24T15:58:58.552Z"
   },
   {
    "duration": 13,
    "start_time": "2025-02-24T15:58:58.614Z"
   },
   {
    "duration": 12,
    "start_time": "2025-02-24T15:58:58.628Z"
   },
   {
    "duration": 19,
    "start_time": "2025-02-24T15:58:58.642Z"
   },
   {
    "duration": 50,
    "start_time": "2025-02-24T15:58:58.662Z"
   },
   {
    "duration": 16,
    "start_time": "2025-02-24T15:58:58.714Z"
   },
   {
    "duration": 12,
    "start_time": "2025-02-24T15:58:58.732Z"
   },
   {
    "duration": 25,
    "start_time": "2025-02-24T15:58:58.745Z"
   },
   {
    "duration": 82,
    "start_time": "2025-02-24T15:58:58.772Z"
   },
   {
    "duration": 23,
    "start_time": "2025-02-24T15:58:58.856Z"
   },
   {
    "duration": 6,
    "start_time": "2025-02-24T15:58:58.881Z"
   },
   {
    "duration": 17,
    "start_time": "2025-02-24T15:58:58.906Z"
   },
   {
    "duration": 14,
    "start_time": "2025-02-24T15:58:58.924Z"
   },
   {
    "duration": 12,
    "start_time": "2025-02-24T15:58:58.940Z"
   },
   {
    "duration": 10,
    "start_time": "2025-02-24T15:58:58.953Z"
   },
   {
    "duration": 7,
    "start_time": "2025-02-24T15:58:58.964Z"
   },
   {
    "duration": 10,
    "start_time": "2025-02-24T15:58:59.009Z"
   },
   {
    "duration": 9,
    "start_time": "2025-02-24T15:58:59.021Z"
   },
   {
    "duration": 9,
    "start_time": "2025-02-24T15:58:59.031Z"
   },
   {
    "duration": 17,
    "start_time": "2025-02-24T15:58:59.042Z"
   },
   {
    "duration": 9,
    "start_time": "2025-02-24T15:58:59.061Z"
   },
   {
    "duration": 42,
    "start_time": "2025-02-24T15:58:59.071Z"
   },
   {
    "duration": 13,
    "start_time": "2025-02-24T15:58:59.115Z"
   },
   {
    "duration": 9,
    "start_time": "2025-02-24T15:58:59.129Z"
   },
   {
    "duration": 14,
    "start_time": "2025-02-24T15:58:59.141Z"
   },
   {
    "duration": 2,
    "start_time": "2025-02-24T15:58:59.156Z"
   },
   {
    "duration": 47,
    "start_time": "2025-02-24T15:58:59.160Z"
   },
   {
    "duration": 8,
    "start_time": "2025-02-24T15:58:59.208Z"
   },
   {
    "duration": 13,
    "start_time": "2025-02-24T15:58:59.218Z"
   },
   {
    "duration": 185,
    "start_time": "2025-02-24T15:58:59.233Z"
   },
   {
    "duration": 7,
    "start_time": "2025-02-24T15:58:59.420Z"
   },
   {
    "duration": 528,
    "start_time": "2025-02-24T15:58:59.428Z"
   },
   {
    "duration": 8,
    "start_time": "2025-02-24T15:58:59.959Z"
   },
   {
    "duration": 213,
    "start_time": "2025-02-24T15:58:59.969Z"
   },
   {
    "duration": 7,
    "start_time": "2025-02-24T15:59:00.184Z"
   },
   {
    "duration": 169,
    "start_time": "2025-02-24T15:59:00.192Z"
   },
   {
    "duration": 7,
    "start_time": "2025-02-24T15:59:00.364Z"
   },
   {
    "duration": 232,
    "start_time": "2025-02-24T15:59:00.373Z"
   },
   {
    "duration": 35,
    "start_time": "2025-02-24T15:59:00.607Z"
   },
   {
    "duration": 3,
    "start_time": "2025-02-24T15:59:00.643Z"
   },
   {
    "duration": 6,
    "start_time": "2025-02-24T15:59:00.648Z"
   },
   {
    "duration": 3,
    "start_time": "2025-02-24T15:59:00.655Z"
   },
   {
    "duration": 6,
    "start_time": "2025-02-24T15:59:00.659Z"
   }
  ],
  "colab": {
   "provenance": []
  },
  "kernelspec": {
   "display_name": "base",
   "language": "python",
   "name": "python3"
  },
  "language_info": {
   "codemirror_mode": {
    "name": "ipython",
    "version": 3
   },
   "file_extension": ".py",
   "mimetype": "text/x-python",
   "name": "python",
   "nbconvert_exporter": "python",
   "pygments_lexer": "ipython3",
   "version": "3.12.7"
  },
  "toc": {
   "base_numbering": 1,
   "nav_menu": {},
   "number_sections": true,
   "sideBar": true,
   "skip_h1_title": false,
   "title_cell": "Table of Contents",
   "title_sidebar": "Contents",
   "toc_cell": false,
   "toc_position": {
    "height": "calc(100% - 180px)",
    "left": "10px",
    "top": "150px",
    "width": "255px"
   },
   "toc_section_display": true,
   "toc_window_display": true
  }
 },
 "nbformat": 4,
 "nbformat_minor": 1
}
